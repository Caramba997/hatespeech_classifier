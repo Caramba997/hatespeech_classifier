{
 "cells": [
  {
   "cell_type": "markdown",
   "metadata": {
    "id": "hX4n9TsbGw-f"
   },
   "source": [
    "##### Copyright 2018 The TensorFlow Authors."
   ]
  },
  {
   "cell_type": "code",
   "execution_count": 19,
   "metadata": {
    "cellView": "form",
    "execution": {
     "iopub.execute_input": "2021-11-02T15:50:32.590813Z",
     "iopub.status.busy": "2021-11-02T15:50:32.590150Z",
     "iopub.status.idle": "2021-11-02T15:50:32.592967Z",
     "shell.execute_reply": "2021-11-02T15:50:32.592428Z"
    },
    "id": "0nbI5DtDGw-i"
   },
   "outputs": [],
   "source": [
    "#@title Licensed under the Apache License, Version 2.0 (the \"License\");\n",
    "# you may not use this file except in compliance with the License.\n",
    "# You may obtain a copy of the License at\n",
    "#\n",
    "# https://www.apache.org/licenses/LICENSE-2.0\n",
    "#\n",
    "# Unless required by applicable law or agreed to in writing, software\n",
    "# distributed under the License is distributed on an \"AS IS\" BASIS,\n",
    "# WITHOUT WARRANTIES OR CONDITIONS OF ANY KIND, either express or implied.\n",
    "# See the License for the specific language governing permissions and\n",
    "# limitations under the License."
   ]
  },
  {
   "cell_type": "markdown",
   "metadata": {
    "id": "9TnJztDZGw-n"
   },
   "source": [
    "# Text classification with an RNN"
   ]
  },
  {
   "cell_type": "markdown",
   "metadata": {
    "id": "AfN3bMR5Gw-o"
   },
   "source": [
    "<table class=\"tfo-notebook-buttons\" align=\"left\">\n",
    "  <td>\n",
    "    <a target=\"_blank\" href=\"https://www.tensorflow.org/text/tutorials/text_classification_rnn\"><img src=\"https://www.tensorflow.org/images/tf_logo_32px.png\" />View on TensorFlow.org</a>\n",
    "  </td>\n",
    "  <td>\n",
    "    <a target=\"_blank\" href=\"https://colab.research.google.com/github/tensorflow/text/blob/master/docs/tutorials/text_classification_rnn.ipynb\"><img src=\"https://www.tensorflow.org/images/colab_logo_32px.png\" />Run in Google Colab</a>\n",
    "  </td>\n",
    "  <td>\n",
    "    <a target=\"_blank\" href=\"https://github.com/tensorflow/text/blob/master/docs/tutorials/text_classification_rnn.ipynb\"><img src=\"https://www.tensorflow.org/images/GitHub-Mark-32px.png\" />View source on GitHub</a>\n",
    "  </td>\n",
    "  <td>\n",
    "    <a href=\"https://storage.googleapis.com/tensorflow_docs/text/docs/tutorials/text_classification_rnn.ipynb\"><img src=\"https://www.tensorflow.org/images/download_logo_32px.png\" />Download notebook</a>\n",
    "  </td>\n",
    "</table>"
   ]
  },
  {
   "cell_type": "markdown",
   "metadata": {
    "id": "lUWearf0Gw-p"
   },
   "source": [
    "This text classification tutorial trains a [recurrent neural network](https://developers.google.com/machine-learning/glossary/#recurrent_neural_network) on the [IMDB large movie review dataset](http://ai.stanford.edu/~amaas/data/sentiment/) for sentiment analysis."
   ]
  },
  {
   "cell_type": "markdown",
   "metadata": {
    "id": "_2VQo4bajwUU"
   },
   "source": [
    "## Setup"
   ]
  },
  {
   "cell_type": "code",
   "execution_count": 20,
   "metadata": {
    "execution": {
     "iopub.execute_input": "2021-11-02T15:50:32.600658Z",
     "iopub.status.busy": "2021-11-02T15:50:32.600048Z",
     "iopub.status.idle": "2021-11-02T15:50:34.697251Z",
     "shell.execute_reply": "2021-11-02T15:50:34.696671Z"
    },
    "id": "z682XYsrjkY9"
   },
   "outputs": [],
   "source": [
    "import numpy as np\n",
    "\n",
    "import tensorflow_datasets as tfds\n",
    "import tensorflow as tf\n",
    "\n",
    "tfds.disable_progress_bar()\n",
    "np.set_printoptions(precision=3, suppress=True)"
   ]
  },
  {
   "cell_type": "markdown",
   "metadata": {
    "id": "1rXHa-w9JZhb"
   },
   "source": [
    "Import `matplotlib` and create a helper function to plot graphs:"
   ]
  },
  {
   "cell_type": "code",
   "execution_count": 21,
   "metadata": {
    "execution": {
     "iopub.execute_input": "2021-11-02T15:50:34.702573Z",
     "iopub.status.busy": "2021-11-02T15:50:34.701983Z",
     "iopub.status.idle": "2021-11-02T15:50:34.934678Z",
     "shell.execute_reply": "2021-11-02T15:50:34.934132Z"
    },
    "id": "Mp1Z7P9pYRSK"
   },
   "outputs": [],
   "source": [
    "import matplotlib.pyplot as plt\n",
    "\n",
    "\n",
    "def plot_graphs(history, metric):\n",
    "  plt.plot(history.history[metric])\n",
    "  plt.plot(history.history['val_'+metric], '')\n",
    "  plt.xlabel(\"Epochs\")\n",
    "  plt.ylabel(metric)\n",
    "  plt.legend([metric, 'val_'+metric])"
   ]
  },
  {
   "cell_type": "markdown",
   "metadata": {
    "id": "pRmMubr0jrE2"
   },
   "source": [
    "## Setup input pipeline\n",
    "\n",
    "\n",
    "The IMDB large movie review dataset is a *binary classification* dataset—all the reviews have either a *positive* or *negative* sentiment.\n",
    "\n",
    "Download the dataset using [TFDS](https://www.tensorflow.org/datasets). See the [loading text tutorial](https://www.tensorflow.org/tutorials/load_data/text) for details on how to load this sort of data manually.\n"
   ]
  },
  {
   "cell_type": "code",
   "execution_count": 22,
   "metadata": {},
   "outputs": [
    {
     "name": "stdout",
     "output_type": "stream",
     "text": [
      "[155127, 62177]\n"
     ]
    },
    {
     "data": {
      "image/png": "[encoded data removed]",
      "text/plain": [
       "<Figure size 432x288 with 1 Axes>"
      ]
     },
     "metadata": {
      "needs_background": "light"
     },
     "output_type": "display_data"
    },
    {
     "data": {
      "text/plain": [
       "<Figure size 1152x432 with 0 Axes>"
      ]
     },
     "metadata": {},
     "output_type": "display_data"
    }
   ],
   "source": [
    "import numpy as np\n",
    "import pandas as pd\n",
    "from sklearn.model_selection import train_test_split\n",
    "import matplotlib.pyplot as plt\n",
    "\n",
    "\n",
    "#\n",
    "# Load the csv data.\n",
    "#\n",
    "def load_data_arrays():\n",
    "    df_1 = pd.read_csv(\"datasets/1_preprocessed.csv\")\n",
    "    df_3 = pd.read_csv(\"datasets/3_preprocessed.csv\")\n",
    "    df_5 = pd.read_csv(\"datasets/5_preprocessed.csv\")\n",
    "    df_6 = pd.read_csv(\"datasets/6_preprocessed.csv\")\n",
    "    \n",
    "    df = df_1.append(df_3)\n",
    "    df = df.append(df_5)\n",
    "    df = df.append(df_6)\n",
    "    \n",
    "    train_df, test_df = train_test_split(df, test_size=0.2, random_state=42, shuffle=True, stratify=df[\"is_hatespeech\"])\n",
    "    \n",
    "    return train_df, test_df\n",
    "\n",
    "def plot_data_distribution(labels_1, label_2):\n",
    "    total = labels_1.reshape(-1).tolist()\n",
    "    total.extend(label_2.reshape(-1).tolist())\n",
    "    bins = sorted(list(set(total)))\n",
    "\n",
    "    plt.bar(bins, [total.count(bin_val) for bin_val in bins])\n",
    "    print([total.count(bin_val) for bin_val in bins])\n",
    "    plt.xticks(bins,\n",
    "               [\"No Hatespeech\", \"Hatespeech\"],\n",
    "               rotation=45,\n",
    "               rotation_mode=\"anchor\",\n",
    "               ha=\"right\")\n",
    "\n",
    "    plt.subplots_adjust(bottom=0.3)\n",
    "    plt.figure(figsize=(16, 6))\n",
    "    plt.show()\n",
    "\n",
    "train_df, test_df = load_data_arrays()\n",
    "\n",
    "\n",
    "plot_data_distribution(train_df['is_hatespeech'].values, test_df['is_hatespeech'].values)"
   ]
  },
  {
   "cell_type": "code",
   "execution_count": 23,
   "metadata": {},
   "outputs": [],
   "source": [
    "# Convert the test- and train-DataFrames to Tensorflow Datasets\n",
    "\n",
    "train_labels = np.eye(2)[train_df['is_hatespeech'].values]\n",
    "train_dataset = (\n",
    "    tf.data.Dataset.from_tensor_slices(\n",
    "        (\n",
    "            tf.cast(np.asarray(train_df['text'].values, dtype=str), tf.string),\n",
    "            tf.cast(train_labels, tf.int32)\n",
    "        )\n",
    "    )\n",
    ")\n",
    "\n",
    "test_labels = np.eye(2)[test_df['is_hatespeech'].values]\n",
    "test_dataset = (\n",
    "    tf.data.Dataset.from_tensor_slices(\n",
    "        (\n",
    "            tf.cast(np.asarray(test_df['text'].values, dtype=str), tf.string),\n",
    "            tf.cast(test_labels, tf.int32)\n",
    "        )\n",
    "    )\n",
    ")"
   ]
  },
  {
   "cell_type": "markdown",
   "metadata": {
    "id": "z2qVJzcEluH_"
   },
   "source": [
    "Next shuffle the data for training and create batches of these `(text, label)` pairs:"
   ]
  },
  {
   "cell_type": "code",
   "execution_count": 24,
   "metadata": {
    "execution": {
     "iopub.execute_input": "2021-11-02T15:50:42.831318Z",
     "iopub.status.busy": "2021-11-02T15:50:42.830698Z",
     "iopub.status.idle": "2021-11-02T15:50:42.832648Z",
     "shell.execute_reply": "2021-11-02T15:50:42.832975Z"
    },
    "id": "dDsCaZCDYZgm",
    "pycharm": {
     "is_executing": true
    }
   },
   "outputs": [],
   "source": [
    "BUFFER_SIZE = 1000\n",
    "BATCH_SIZE = 64"
   ]
  },
  {
   "cell_type": "code",
   "execution_count": 25,
   "metadata": {
    "execution": {
     "iopub.execute_input": "2021-11-02T15:50:42.837775Z",
     "iopub.status.busy": "2021-11-02T15:50:42.837138Z",
     "iopub.status.idle": "2021-11-02T15:50:42.841349Z",
     "shell.execute_reply": "2021-11-02T15:50:42.841706Z"
    },
    "id": "VznrltNOnUc5",
    "pycharm": {
     "is_executing": true
    }
   },
   "outputs": [],
   "source": [
    "train_dataset = train_dataset.shuffle(BUFFER_SIZE).batch(BATCH_SIZE).prefetch(tf.data.AUTOTUNE)\n",
    "test_dataset = test_dataset.batch(BATCH_SIZE).prefetch(tf.data.AUTOTUNE)"
   ]
  },
  {
   "cell_type": "code",
   "execution_count": 26,
   "metadata": {
    "execution": {
     "iopub.execute_input": "2021-11-02T15:50:42.846034Z",
     "iopub.status.busy": "2021-11-02T15:50:42.845470Z",
     "iopub.status.idle": "2021-11-02T15:50:45.126272Z",
     "shell.execute_reply": "2021-11-02T15:50:45.126652Z"
    },
    "id": "jqkvdcFv41wC",
    "pycharm": {
     "is_executing": true
    }
   },
   "outputs": [
    {
     "name": "stdout",
     "output_type": "stream",
     "text": [
      "texts:  [b'gunix altough not registered'\n",
      " b'redirect talkpoint of no return tv series'\n",
      " b'ok david if you want to replace the current text with yours doing the citations appropriately go ahead please change force him to led him though'\n",
      " b'u74\\nive corrected the canadian navy flag and wikilink on the article has examples of useage for various navies'\n",
      " b'holi greetings hi i am wishing you a happy holi the unique indian celebration of color and brotherhood among all members of the humanity the festival falls on 15th march 2006 i have collected a gift pack of quotationsfor you contained in the sections do things differently and something more which are part of the ongoing discussion pertaining to my nomination of for adminship you are aware of the tradition that if you throw colored water on flames of burning holika you enable a prahlad to emerge from the flames i again convey holi greetings to you and your family'\n",
      " b'bitch watch tf out u on moose meat now'\n",
      " b'and stop trying to be logical you stupid robot we know best all hail chairman jimbo'\n",
      " b'i am now going to block you again for your little effort at ezra pound blarneyman 1240 apr 15 2005 utc'\n",
      " b'bring it hello tommy remember me im back asshole'\n",
      " b'black dahlia murder is not melodic death metal they are deathcore pussies black dahlia murder is not melodic death metal they are the farthest band from that genre black dahlia murder are pieces of shit scene bitches that are trying to be metal along with all of the other deathcoregrindcore bands like job for a cowboy suicide silence etc fuck all of them they arent true metal and they never will be they need to stick to what they knowamerican eagle mtv and all of their other lame trends melodic death metal is scar symmetry in flames sonic syndicate and disarmonia mundi melodic death metal is real music its not a disgrace to music like deathcore and grindcore i will continue to change black dahlia cuntmurders genre to deathcoregrindcore i dont give a shitim not letting you stupid scene bitches take away the only thing that you and the mainstream hasnt destroyed and thats the amazing genre of melodic death metal so fuck all of you trendy conformists go fucking die black dahlia murder are deathcore pussies that need to be beheaded them and all of the other deathcore bands that are ruining metal deathcore is the biggest piece of shit ive ever heardit shouldnt even be considered music its a bunch of pussy scene kids trying to be metal deathcore and grindcore are the two worst forms of music ever invented so yeah you can listen to deathcore if you enjoy hearing music that has no tempo or beat to it whatsoever they pretty much just hit random shit on the drums and play random notes on the guitar while the vocalist does terrible random screaming and pig squels dont forget the hillarious millions of breakdowns they put into their songs dathis song is called big fucking tree ya boiwe are so down wit american eagleya boi my hair does that flippy thing rawr rawr rawr im so lyk hardcores omgz gages and snake bites rawwwrrr fuck job for a cowboy and black dahlia murder trendy pieces of shit melodic death metal owns all there really isnt much of a difference between any deathcore band for that matter they are all just a bunch of pussies that are trying to fit in with this new trend of trying to be a metal band so please dont try to tell me ohyour stupidthe bands arent the same ok so maybejust maybe job for a cowboys vocalist does 3 more pig squels in a second than the vocalist from black dahlia murder there i said it i guess they arent all the same oh dear fuck and my badmy bad white chapel actually does 200 breakdowns in a minute rather than suicide silences 100 breakdowns in a minute my bad dude you were right all along deathcore and grindcore bands arent all the same but seriously the genre is pure shit and is just another trend in the music industry that bands are following to make it to the top and to fit in with the rest of the bands these days i mean i have nothing against every band in a certain genre sounding the same or anything but when the music of the genre they produce is pure shit and can be done by any living human being on earththen i have to draw the line it doesnt take much talent to do shittty raw screaming hit random notes on a guitar and hit your double bass pedal at like 500bpm another reason why i dont take any bands from this genre seriously is their hillarious excuses for a band logo they try oh so hard to be harddcoreeeee i also find it funny that all of these pussy bands have names like anal cunt or dead death bloody dead hand fact is any band that produces music under this genre sucks and is just trying to fitin ya boi lets hardcore dance rahhhh yaaaaaa grindcore and deathcore isnt metal so all you douchebags should just give upyou arent metal and you never will be go fall into a pool of aids fuck black dahlia murder im not giving upthis is insane im not letting you mother fuckers take away the one thing i have that you havent ruined'\n",
      " b'could you take a look at natural units it appears that you have made some contribution there i do have a couple of objections that noted at the talk page i dont think that the planck current is either historically correct nor keeping with the original concept of planck units personally i wish that planck had normalized 4pig instead of just g but that is a different and later argument talk page'\n",
      " b'well perhaps you could explain exactly what you think this article is supposed to be because frankly im baffled and that totally obscure huge vijay prasad quote is a serious wpweight problem if that quote is supposed to indicate what this article is please let me know because ill move on to other articles that are not just vehicles for a pov thanks'\n",
      " b'if your rewriting of that section is anything like the above post you need to stay away from wikipedias english version errors rewrote not rewrited false not faulse choice not coise jeez its terrible leave the english to the experts mmmkay'\n",
      " b'wikipedia is not a soapbox for fringe theories it documents them but it also clearly states the regard in which they are held by mainstream sources'\n",
      " b'ok cool well i have just resized the image so it is below 300 in width most of the wording in the template i used form star trek into darkness and others i had seen so hopefully that will be fine \\xe2\\x9c\\x89'\n",
      " b'i just want to add that i posted this massage to his talk page because he perviously accused me of talking behind his back so i just informed him'\n",
      " b'rt youre such a bitch me'\n",
      " b'yes i am it will be presented in a calm rational fashion after tempers cool it will prove among other things that he is not a member of the inclusionist taliban nor has he been involved in any characterassassinating hope you find it interesting'\n",
      " b'in hindsight it does seem confusing that the shortened reference would bring you down to further reading i merged the further reading section into the reference section as bibliography which seems to be how the first amendment article was formatted in doing so though i deleted the further reading section as leaving it in the article seemed to be redundant the two lists would be identical as all the books listed there were cited in the article also after reading through citation style 1 apparently the way they create shortened footnotes is through the harvard citation style this was probably what led to the confusion would it be better to recreate the long citations for these shortened citations or leave as is'\n",
      " b'update after reading the washington post article more carefully i see that it doesnt even mention colbert at all therefore this statement about colberts performance being particularly memorable is completely completely unoriginal since neither of the two referenced articles mention colbert one was even in 2005 therefore it doesnt belong therefore the rest of the material is irrelevant karwynn'\n",
      " b'the discriminating parties literally did not discriminate between them just as the discriminating parties do not distinguish between asatru wicca odinic rite individual druidic orders and what have you'\n",
      " b'current event wtf is the current event about'\n",
      " b'dont get me wrong g id hunt birds but thats a lot of work amp well i just aint that hungry'\n",
      " b'you bitch change that image on the 4 train line article right back if you cant tell the difference between an r142 and an r142a thats your fucking problem you might as well revert the images on the b and l train line articles while youre at it'\n",
      " b'the photograph you claim is copyrighted is sourced currently from wikipedia commons and came originally from flicka where it was published under a valis licence that permits its reproduction here to get it deleted you need to notify wikimedia commons adminstrators once and if they delete it from commons it will no longer be used on the shakin stevens page you cannot remove items from the page that are sourced and referenced on wikipedia what counts is not what is true or false but what can be sourced and backed up additionally you cannot cut and paste text from another website even the official and authorised copy from the shaky site because of copyright issues wikipedia can be extremely frustrating for new editors in your position and operates under rules and guidelines that can drive a sane person to distraction good luck in your efforts but tread a little slower greenstuff'\n",
      " b'geostubs\\nyoure going to hate mecomplaining twice in a row ive been going through the geostubs putting them in their correct subcategories ive just been back and there are a load more all headlands that should have been marked ukgeostub africageostub usgeostub youre doing loads of good work which is why i hate to be a grouch but please check there are regional geostub categories next time hello 1409 12 jan 2005 utc ps i like the new name'\n",
      " b'a message to you shadeed\\nhi ngger'\n",
      " b'how does the language of the franks which is known more or less from place names and personal names only plus a few borrowed words tell us anything about their ethnicity we knew they were germanic before that are you implying that there is a connection between dutch and frankish ethnicity that connection though it is probably there is not very direct over a thousand five hundred years\\ni dont know why the fact that a frankishderived language dutch being spoken in a certain region the netherlands should force us to believe that the franks were originally from there of course the two facts are related but the fact of the language being spoken there does not itself tell us that at one point in time its inhabitants were primarily franks any more than the fact that a latinderived language is spoken in belgium tells us that at one point in time its inhabitants were primarily romans again i understand the connection but it is not made on linguistic analysis alone this is why most booksarticles on the franks that ive read wallacehadrill bachrach dont mention dutch your comment about franci seniores what does the franci superiores have to do with anything does nothing to explain to me the importance of their language their wellattested written language was latin why not mention that in fact it tells us far more about the franks than that they spoke a protodutch language as to the remarks concerning the pertinence of my comments only for the merovingian period i was not aware that the article was about the development of a language and not about the franks a term which does not have a consistent universal ethnictribal meaning by the end of the 9th century and probably by the end of the 8th in short i dont see how you have actually answered the objection i dont know what german point of view you think i have but i find that ridiculous and shouldnt a minority of scholarship moreso undermine your dutch point of view finally when did i declare myself a carolingian specialist i have no specialty'\n",
      " b'wikipediarequests for page protection could you take a look at wikipediarequests for page protectioncurrent requests for reduction in protection level where there is a request for operation midnight climax thanks uqaqtuq talk sunasuttuq'\n",
      " b'7seriesbot we got a thanks here talk\\xe2\\x86\\x92 \\xe2\\x86\\x90track'\n",
      " b'thank you very much i wish the same to you what someone say the smileytool is not suitable for wikipedia is exactly the other it now becomes a main goal of of mediawiki which seems a conclusion of the more and more declining usernumbers see for example mwsocial tools it should be more users like you here best wishes \\xe2\\x86\\x92 user perhelion'\n",
      " b'cuchullian you are shaming the word history by your extreme procatholic views and hatred against other christians 122172118114'\n",
      " b'you listen youre just like every other forum mod and admin out there in real life youre probably just some typical anonymous 95 jobber and you make up for your lack of authority by becoming a big shot on the internet you leave me condescending messages in which you refer to me as son and accuse my accurate information of being vandalism well just because you have the time and inclination to join pathetic like wiki wrestling project which unfortunately affords you more privileges than me doesnt make you better you denied me my right to post relevent and pertinent trivia on the page in favor of templates and interfaces you are a disgrace to wikipedia and i will be reporting you for your hamfisted authority and hypocritical ways accusing me of personal insults yet referring to me as son'\n",
      " b'these images will just be deleted seven days from now if they are not used in any article so you dont have to do anything if you want them to be deleted in general you can request an image you uploaded errously to be deleted by tagging its description page with talk'\n",
      " b'105 iq is an iq of 105 really that smart ive heard that the average is either 100 or 120 which certainly doesnt seem to fit how smart he was in that episode'\n",
      " b'utc i didnt hear you what did you say contact assembly of jimbo wales 0108 23 march 2009'\n",
      " b'added cclass i would like to add bclass but questions raised in talk page'\n",
      " b'theres a cock in your ass'\n",
      " b'vietnamese films hey lazy guy here is what the fucking film list looked like two days ago the quiet american film 1958\\nmotorpsycho 1965 to the shores of hell 1966 the green berets 1968 heroes 1977 the boys in company c 1978 coming home 1978 the deer hunter 1978 go tell the spartans 1978 my husband is missing 1978 apocalypse now 1979 the odd angry shot 1979 the war at home 1979 a rumor of war 1980 the exterminator 1980 lultimo cacciatore 1980 how sleep the brave 1981 first blood 1982 uncommon valor 1983 the killing fields 1984 missing in action 1984 missing in action 2 the beginning 1985 combat shock 1986 platoon 1986 full metal jacket 1987 phantom soldiers 1987 good morning vietnam 1987 hamburger hill 1987 the hanoi hilton 1987 bat21 1988 braddock missing in action iii 1988 platoon leader 1988 off limits 1988 operation warzone 1988 jacknife 1989 casualties of war 1989 born on the fourth of july 1989 the siege of firebase gloria 1989 the expendables 1989 84c mopic charlie mopic 1989 the iron triangle 1989 air america 1990 bullet in the head 1990 jacobs ladder 1990 flight of the intruder 1991 dien bien phu 1992 heaven earth 1993 message from nam 1993 forrest gump 1994 operation dumbo drop 1995 dead presidents 1995 a bright shining lie 1998 tv film tigerland 2000 going back 2001\\nthe quiet american 2002 film 2002 path to war 2002 we were soldiers 2002 in the shadow of the blade 2004 enemy image 2005 across the universe 2007 journey from the fall 2007 the veteran 2006 rescue dawn 2006 1968 tunnel rats 2007 tropic thunder 2008 watchmen 2009 where the hell were you when me and dewaine turned it into a bloody table eh have you read the talk page yet when were you in vietnam'\n",
      " b'rt hoes will be hoes' b'rt niggas talk more than bitches these days'\n",
      " b'i am still a gigantic faggot'\n",
      " b'why is user nableezy allowed to use strange definiton of nationality it is defined as the status of belonging to a particular nation by origin birth or naturalization and if he was born in cairo then he was egyptian nableezy is making strange arguments about jus sanguinis but this is not common meaning of the word as it it is usually understood'\n",
      " b'rt white ppl will call mexicans beaners and claim they taking their jobs but have sugar skull tattoos'\n",
      " b'this means that any seemingly insignificant event in the universe has the potential to trigger'\n",
      " b'coloring could someone color the obstacle diagramslike in the sasuke article1 talkwork'\n",
      " b'hi kedadi from your page i see you support a highly controversal reunification of albania this idea also known as the irridentistic and often extremist great albania ideology am i right here is another related article where the nla acts are described as terrorism thank you'\n",
      " b'what is the difference between hot cakes and pancakes mkr'\n",
      " b'told ya months ago charlie wasnt bullshittin bevo is next'\n",
      " b'i used no names if you think you and aaronshavit are in the stated group that is your prerogative i added sourced material for all my additions to the article if there is anyone who has been vandalizing the article it is you i was one of the editors who worked on it and brought it to fa status it was far from perfect then but it was the product of many months of labor and concessions since that time it has become a vicious piece of propaganda with one side of the equation commandeering every aspect my attempts at balance are being challenged by the likes of you whose record as a wikipedia editor is far from sterling your comments on the talk page are not nice as i have already pointed out again this harping on the idea of being entitled to your opinion shows that you are using wikipedia as a vehicle for your views that is problematic'\n",
      " b'stay witcha nasty little hoes who dont do shit for you'\n",
      " b'note after this unblock i took notice that the user userwikimandia who so avidly requested me being blocked after vandalizing my talk page refusing to engage in constructive afd discussion and showing innapropiate childish behaviour and false edit summaries in a wppovfork article was blocked for a week i guess that is what happens to those who engage in wphounding and specially wpnotthere along with blatantly false accusations of pov and vandalism'\n",
      " b'reyour recent edit to triple h my edit was not vandalism i was trying to update a current event and was trying to type it fast enough dont call me a vandal again'\n",
      " b'thank you help thanks for the advice and i mean that sincerely i finally brought others around to my position but am was receiving harassment from blaxthos he repeatedly removed things from the talk page then threatened me with banning once again thank you for being civil'\n",
      " b'the administrator kafziel is an asshole sorry for writing that on your page user talk761999176 but it is true join the revolution that fights for freedom of speech against the tyranny of wikipedian administrators especially the evil dark lordfuck head kafziel from your fellow blocked vandal freedom fighter ernesto guevara de la serna hasta la victoria siempre'\n",
      " b'andythegrump ive been beyond skeptical about using the name im neither legally green or related to brassicas i am concerned because the name is legitimate its for a reporter in pakistanindia who covers rape cases stink factor google mask and how many people have ended up at wikiville and taken away some very bad info which is why only when i pulled a few search tricks did horror arise is it that two national media chains have been lazy with google they stopped very quick or as the linkage would have been around and would have been evident prior to the derby page being created is there a deeper issue the claim as to sauce does not ring true and im thinking orange sauce and three lined up on the wall alla hilder ogden and her murial this all stinks ttfn'\n",
      " b'actually many times checkusers run checks of accounts whose edits are stale for one thing it is simply easier lazier to click the check button and let the system tell me whether there are any results rather than first checking contribution history especially when checking a lot of accounts for another the checkuser tables include deleted edits and the sending of emails through the specialemail function neither of which shows up in a quick check of contribs although deleted edits would show if i looked at both the live and deleted contrib pages as far as the oversighted edits ill cover that in email with giano thatcher'\n",
      " b'poop poop poop poop poop poop poop poop poop poop poop poop poop poop poop poop poop poop poop poop poop poop poop poop poop poop poop poop poop poop poop poop poop poop poop poop poop poop poop poop poop poop poop poop poop poop poop poop poop poop poop poop poop poop poop poop poop poop poop poop poop poop poop poop poop poop poop poop poop poop poop poop poop poop poop poop poop poop poop poop poop poop poop poop poop poop poop poop poop poop poop poop poop poop poop poop poop poop poop poop poop poop poop poop poop poop poop poop poop poop poop poop poop poop poop poop poop poop poop poop poop poop poop poop poop poop poop poop poop poop poop poop poop poop poop poop poop poop poop poop poop poop poop poop poop poop poop poop poop poop poop poop poop poop poop poop poop poop poop poop poop poop poop poop poop poop poop poop poop poop poop poop poop poop poop poop poop poop poop poop poop poop poop poop poop poop poop poop poop poop poop poop poop poop poop poop poop poop poop poop poop poop poop poop poop poop poop poop poop poop poop poop poop poop poop poop poop poop poop poop poop poop poop poop poop poop poop poop poop poop poop poop poop poop poop poop poop poop poop poop poop poop poop poop poop poop poop poop poop poop poop poop poop poop poop poop poop poop poop poop poop poop poop poop poop poop poop poop poop poop poop poop poop poop poop poop poop poop poop poop poop poop poop poop poop poop poop poop poop poop poop poop poop poop poop poop poop poop poop poop poop poop poop poop poop poop poop poop poop poop poop poop poop poop poop poop poop poop poop poop poop poop poop poop poop poop poop poop poop poop poop poop poop poop poop poop poop poop poop poop poop poop poop poop poop poop poop poop poop poop poop poop poop poop poop poop poop poop poop poop poop poop poop poop poop poop poop poop poop poop poop poop poop poop poop poop poop poop poop poop poop poop poop poop poop poop poop poop poop poop poop poop poop poop poop poop poop poop poop poop poop poop poop poop poop poop poop poop poop poop poop poop poop poop poop poop poop poop poop poop poop poop poop poop poop poop poop poop poop poop poop poop poop poop poop poop poop poop poop'\n",
      " b'hey made a fuck up you poofda fucken dog'\n",
      " b'shoot that nigga amp his shorty bitch'\n",
      " b'rt which is what gg doesnt get either not even about them its about harassment they jst insist its not realb\\xe2\\x80\\xa6'\n",
      " b'i agree but i also dont agree there is nothing incorrect about the way that the article present cruzs position cruz specifically stated word for word that he supports marriage between one man and one woman the article quotes cruz directly on his position you want to quote a reporter for cbs news when that reporter is covering cruzs appearance on jay lenos show the article currently quotes cruz directly on what he said on lenos show that option trumps the quoting of a reporter who wrote what he wanted to write and not what cruz said you have not shown why your version of what happened on lenos show should be put in the article and cruzs direct word for word quote should be removed from the article what the subject says trumps the interpretation of a cbs news reporter'\n",
      " b'oh and fuck you fut perf\\nahole'\n",
      " b'money can get you good weed but not always the best of pussy sorry my friend guess']\n",
      "\n",
      "labels:  [[1 0]\n",
      " [1 0]\n",
      " [1 0]\n",
      " [1 0]\n",
      " [1 0]\n",
      " [0 1]\n",
      " [0 1]\n",
      " [1 0]\n",
      " [0 1]\n",
      " [0 1]\n",
      " [1 0]\n",
      " [1 0]\n",
      " [1 0]\n",
      " [1 0]\n",
      " [1 0]\n",
      " [1 0]\n",
      " [0 1]\n",
      " [1 0]\n",
      " [1 0]\n",
      " [1 0]\n",
      " [1 0]\n",
      " [0 1]\n",
      " [1 0]\n",
      " [0 1]\n",
      " [1 0]\n",
      " [1 0]\n",
      " [0 1]\n",
      " [1 0]\n",
      " [1 0]\n",
      " [1 0]\n",
      " [1 0]\n",
      " [1 0]\n",
      " [0 1]\n",
      " [1 0]\n",
      " [1 0]\n",
      " [1 0]\n",
      " [1 0]\n",
      " [0 1]\n",
      " [0 1]\n",
      " [0 1]\n",
      " [0 1]\n",
      " [0 1]\n",
      " [1 0]\n",
      " [0 1]\n",
      " [1 0]\n",
      " [1 0]\n",
      " [1 0]\n",
      " [1 0]\n",
      " [0 1]\n",
      " [1 0]\n",
      " [0 1]\n",
      " [1 0]\n",
      " [1 0]\n",
      " [1 0]\n",
      " [0 1]\n",
      " [1 0]\n",
      " [1 0]\n",
      " [0 1]\n",
      " [0 1]\n",
      " [0 1]\n",
      " [1 0]\n",
      " [1 0]\n",
      " [0 1]\n",
      " [0 1]]\n"
     ]
    }
   ],
   "source": [
    "for example, label in train_dataset.take(1):\n",
    "  print('texts: ', example.numpy())\n",
    "  print()\n",
    "  print('labels: ', label.numpy())"
   ]
  },
  {
   "cell_type": "markdown",
   "metadata": {
    "id": "s5eWCo88voPY"
   },
   "source": [
    "## Create the text encoder"
   ]
  },
  {
   "cell_type": "markdown",
   "metadata": {
    "id": "TFevcItw15P_"
   },
   "source": [
    "The raw text loaded by `tfds` needs to be processed before it can be used in a model. The simplest way to process text for training is using the `TextVectorization` layer. This layer has many capabilities, but this tutorial sticks to the default behavior.\n",
    "\n",
    "Create the layer, and pass the dataset's text to the layer's `.adapt` method:"
   ]
  },
  {
   "cell_type": "code",
   "execution_count": 27,
   "metadata": {
    "execution": {
     "iopub.execute_input": "2021-11-02T15:50:45.131867Z",
     "iopub.status.busy": "2021-11-02T15:50:45.131251Z",
     "iopub.status.idle": "2021-11-02T15:50:48.294934Z",
     "shell.execute_reply": "2021-11-02T15:50:48.295429Z"
    },
    "id": "uC25Lu1Yvuqy",
    "pycharm": {
     "is_executing": true
    }
   },
   "outputs": [],
   "source": [
    "VOCAB_SIZE = 1000\n",
    "encoder = tf.keras.layers.TextVectorization(\n",
    "    max_tokens=VOCAB_SIZE)\n",
    "encoder.adapt(train_dataset.map(lambda text, label: text))"
   ]
  },
  {
   "cell_type": "markdown",
   "metadata": {
    "id": "IuQzVBbe3Ldu"
   },
   "source": [
    "The `.adapt` method sets the layer's vocabulary. Here are the first 20 tokens. After the padding and unknown tokens they're sorted by frequency: "
   ]
  },
  {
   "cell_type": "code",
   "execution_count": 28,
   "metadata": {
    "execution": {
     "iopub.execute_input": "2021-11-02T15:50:48.299858Z",
     "iopub.status.busy": "2021-11-02T15:50:48.299279Z",
     "iopub.status.idle": "2021-11-02T15:50:48.305058Z",
     "shell.execute_reply": "2021-11-02T15:50:48.304619Z"
    },
    "id": "tBoyjjWg0Ac9",
    "pycharm": {
     "is_executing": true
    }
   },
   "outputs": [
    {
     "data": {
      "text/plain": [
       "array(['', '[UNK]', 'the', 'to', 'you', 'a', 'and', 'of', 'i', 'is',\n",
       "       'that', 'in', 'it', 'for', 'this', 'not', 'on', 'be', 'are', 'as'],\n",
       "      dtype='<U14')"
      ]
     },
     "execution_count": 28,
     "metadata": {},
     "output_type": "execute_result"
    }
   ],
   "source": [
    "vocab = np.array(encoder.get_vocabulary())\n",
    "vocab[:20]"
   ]
  },
  {
   "cell_type": "markdown",
   "metadata": {
    "id": "mjId5pua3jHQ"
   },
   "source": [
    "Once the vocabulary is set, the layer can encode text into indices. The tensors of indices are 0-padded to the longest sequence in the batch (unless you set a fixed `output_sequence_length`):"
   ]
  },
  {
   "cell_type": "code",
   "execution_count": 29,
   "metadata": {
    "execution": {
     "iopub.execute_input": "2021-11-02T15:50:48.308818Z",
     "iopub.status.busy": "2021-11-02T15:50:48.308274Z",
     "iopub.status.idle": "2021-11-02T15:50:48.321984Z",
     "shell.execute_reply": "2021-11-02T15:50:48.322347Z"
    },
    "id": "RGc7C9WiwRWs",
    "pycharm": {
     "is_executing": true
    }
   },
   "outputs": [
    {
     "data": {
      "text/plain": [
       "array([[  1,   1,  15, ...,   0,   0,   0],\n",
       "       [490,   1,   7, ...,   0,   0,   0],\n",
       "       [433,   1,  23, ...,   0,   0,   0]], dtype=int64)"
      ]
     },
     "execution_count": 29,
     "metadata": {},
     "output_type": "execute_result"
    }
   ],
   "source": [
    "encoded_example = encoder(example)[:3].numpy()\n",
    "encoded_example"
   ]
  },
  {
   "cell_type": "markdown",
   "metadata": {
    "id": "F5cjz0bS39IN"
   },
   "source": [
    "With the default settings, the process is not completely reversible. There are three main reasons for that:\n",
    "\n",
    "1. The default value for `preprocessing.TextVectorization`'s `standardize` argument is `\"lower_and_strip_punctuation\"`.\n",
    "2. The limited vocabulary size and lack of character-based fallback results in some unknown tokens."
   ]
  },
  {
   "cell_type": "code",
   "execution_count": 30,
   "metadata": {
    "execution": {
     "iopub.execute_input": "2021-11-02T15:50:48.327153Z",
     "iopub.status.busy": "2021-11-02T15:50:48.326376Z",
     "iopub.status.idle": "2021-11-02T15:50:48.332236Z",
     "shell.execute_reply": "2021-11-02T15:50:48.331662Z"
    },
    "id": "N_tD0QY5wXaK",
    "pycharm": {
     "is_executing": true
    }
   },
   "outputs": [
    {
     "name": "stdout",
     "output_type": "stream",
     "text": [
      "Original:  b'gunix altough not registered'\n",
      "Round-trip:  [UNK] [UNK] not [UNK]                                                                                                                                                                                                                                                                                                                                                                                                                                                                                                                                                                                                                                                                                                                                  \n",
      "\n",
      "Original:  b'redirect talkpoint of no return tv series'\n",
      "Round-trip:  redirect [UNK] of no [UNK] [UNK] series                                                                                                                                                                                                                                                                                                                                                                                                                                                                                                                                                                                                                                                                                                                               \n",
      "\n",
      "Original:  b'ok david if you want to replace the current text with yours doing the citations appropriately go ahead please change force him to led him though'\n",
      "Round-trip:  ok [UNK] if you want to [UNK] the current text with [UNK] doing the citations [UNK] go [UNK] please change [UNK] him to [UNK] him though                                                                                                                                                                                                                                                                                                                                                                                                                                                                                                                                                                                                                                                                                                            \n",
      "\n"
     ]
    }
   ],
   "source": [
    "for n in range(3):\n",
    "  print(\"Original: \", example[n].numpy())\n",
    "  print(\"Round-trip: \", \" \".join(vocab[encoded_example[n]]))\n",
    "  print()"
   ]
  },
  {
   "cell_type": "markdown",
   "metadata": {
    "id": "bjUqGVBxGw-t"
   },
   "source": [
    "## Create the model"
   ]
  },
  {
   "cell_type": "markdown",
   "metadata": {
    "id": "bgs6nnSTGw-t"
   },
   "source": [
    "Above is a diagram of the model. \n",
    "\n",
    "1. This model can be build as a `tf.keras.Sequential`.\n",
    "\n",
    "2. The first layer is the `encoder`, which converts the text to a sequence of token indices.\n",
    "\n",
    "3. After the encoder is an embedding layer. An embedding layer stores one vector per word. When called, it converts the sequences of word indices to sequences of vectors. These vectors are trainable. After training (on enough data), words with similar meanings often have similar vectors.\n",
    "\n",
    "  This index-lookup is much more efficient than the equivalent operation of passing a one-hot encoded vector through a `tf.keras.layers.Dense` layer.\n",
    "\n",
    "4. A recurrent neural network (RNN) processes sequence input by iterating through the elements. RNNs pass the outputs from one timestep to their input on the next timestep.\n",
    "\n",
    "  The `tf.keras.layers.Bidirectional` wrapper can also be used with an RNN layer. This propagates the input forward and backwards through the RNN layer and then concatenates the final output. \n",
    "\n",
    "  * The main advantage of a bidirectional RNN is that the signal from the beginning of the input doesn't need to be processed all the way through every timestep to affect the output.  \n",
    "\n",
    "  * The main disadvantage of a bidirectional RNN is that you can't efficiently stream predictions as words are being added to the end.\n",
    "\n",
    "5. After the RNN has converted the sequence to a single vector the two `layers.Dense` do some final processing, and convert from this vector representation to a single logit as the classification output. \n"
   ]
  },
  {
   "cell_type": "markdown",
   "metadata": {
    "id": "V4fodCI7soQi"
   },
   "source": [
    "The code to implement this is below:"
   ]
  },
  {
   "cell_type": "code",
   "execution_count": 31,
   "metadata": {
    "execution": {
     "iopub.execute_input": "2021-11-02T15:50:48.337515Z",
     "iopub.status.busy": "2021-11-02T15:50:48.336851Z",
     "iopub.status.idle": "2021-11-02T15:50:49.682810Z",
     "shell.execute_reply": "2021-11-02T15:50:49.682208Z"
    },
    "id": "LwfoBkmRYcP3",
    "pycharm": {
     "is_executing": true
    },
    "scrolled": true
   },
   "outputs": [
    {
     "name": "stdout",
     "output_type": "stream",
     "text": [
      "Model: \"sequential_1\"\n",
      "_________________________________________________________________\n",
      " Layer (type)                Output Shape              Param #   \n",
      "=================================================================\n",
      " text_vectorization_1 (TextV  (None, None)             0         \n",
      " ectorization)                                                   \n",
      "                                                                 \n",
      " embedding_1 (Embedding)     (None, None, 64)          64000     \n",
      "                                                                 \n",
      " bidirectional_1 (Bidirectio  (None, 128)              66048     \n",
      " nal)                                                            \n",
      "                                                                 \n",
      " dense_2 (Dense)             (None, 64)                8256      \n",
      "                                                                 \n",
      " dense_3 (Dense)             (None, 2)                 130       \n",
      "                                                                 \n",
      "=================================================================\n",
      "Total params: 138,434\n",
      "Trainable params: 138,434\n",
      "Non-trainable params: 0\n",
      "_________________________________________________________________\n",
      "None\n"
     ]
    }
   ],
   "source": [
    "model = tf.keras.Sequential([\n",
    "    encoder,\n",
    "    tf.keras.layers.Embedding(\n",
    "        input_dim=len(encoder.get_vocabulary()),\n",
    "        output_dim=64,\n",
    "        # Use masking to handle the variable sequence lengths\n",
    "        mask_zero=True),\n",
    "    tf.keras.layers.Bidirectional(tf.keras.layers.LSTM(64)),\n",
    "    tf.keras.layers.Dense(64, activation='relu'),\n",
    "    tf.keras.layers.Dense(2, activation='softmax')\n",
    "])\n",
    "\n",
    "print(model.summary())"
   ]
  },
  {
   "cell_type": "markdown",
   "metadata": {
    "id": "QIGmIGkkouUb"
   },
   "source": [
    "Please note that Keras sequential model is used here since all the layers in the model only have single input and produce single output. In case you want to use stateful RNN layer, you might want to build your model with Keras functional API or model subclassing so that you can retrieve and reuse the RNN layer states. Please check [Keras RNN guide](https://www.tensorflow.org/guide/keras/rnn#rnn_state_reuse) for more details."
   ]
  },
  {
   "cell_type": "markdown",
   "metadata": {
    "id": "kF-PsCk1LwjY"
   },
   "source": [
    "The embedding layer [uses masking](https://www.tensorflow.org/guide/keras/masking_and_padding) to handle the varying sequence-lengths. All the layers after the `Embedding` support masking:"
   ]
  },
  {
   "cell_type": "code",
   "execution_count": 32,
   "metadata": {
    "execution": {
     "iopub.execute_input": "2021-11-02T15:50:49.688412Z",
     "iopub.status.busy": "2021-11-02T15:50:49.687680Z",
     "iopub.status.idle": "2021-11-02T15:50:49.690180Z",
     "shell.execute_reply": "2021-11-02T15:50:49.690575Z"
    },
    "id": "87a8-CwfKebw",
    "pycharm": {
     "is_executing": true
    }
   },
   "outputs": [
    {
     "name": "stdout",
     "output_type": "stream",
     "text": [
      "[False, True, True, True, True]\n"
     ]
    }
   ],
   "source": [
    "print([layer.supports_masking for layer in model.layers])"
   ]
  },
  {
   "cell_type": "markdown",
   "metadata": {
    "id": "ZlS0iaUIWLpI"
   },
   "source": [
    "To confirm that this works as expected, evaluate a sentence twice. First, alone so there's no padding to mask:"
   ]
  },
  {
   "cell_type": "code",
   "execution_count": 33,
   "metadata": {
    "execution": {
     "iopub.execute_input": "2021-11-02T15:50:49.695532Z",
     "iopub.status.busy": "2021-11-02T15:50:49.694953Z",
     "iopub.status.idle": "2021-11-02T15:50:52.508631Z",
     "shell.execute_reply": "2021-11-02T15:50:52.509017Z"
    },
    "id": "O41gw3KfWHus",
    "pycharm": {
     "is_executing": true
    }
   },
   "outputs": [
    {
     "name": "stdout",
     "output_type": "stream",
     "text": [
      "[0.498 0.502]\n"
     ]
    }
   ],
   "source": [
    "# predict on a sample text without padding.\n",
    "\n",
    "sample_text = ('How are you doing')\n",
    "predictions = model.predict(np.array([sample_text]))\n",
    "print(predictions[0])"
   ]
  },
  {
   "cell_type": "markdown",
   "metadata": {
    "id": "K0VQmGnEWcuz"
   },
   "source": [
    "Now, evaluate it again in a batch with a longer sentence. The result should be identical:"
   ]
  },
  {
   "cell_type": "code",
   "execution_count": 34,
   "metadata": {
    "execution": {
     "iopub.execute_input": "2021-11-02T15:50:52.515111Z",
     "iopub.status.busy": "2021-11-02T15:50:52.514457Z",
     "iopub.status.idle": "2021-11-02T15:50:52.658235Z",
     "shell.execute_reply": "2021-11-02T15:50:52.658691Z"
    },
    "id": "UIgpuTeFNDzq",
    "pycharm": {
     "is_executing": true
    }
   },
   "outputs": [
    {
     "name": "stdout",
     "output_type": "stream",
     "text": [
      "[0.498 0.502]\n"
     ]
    }
   ],
   "source": [
    "# predict on a sample text with padding\n",
    "\n",
    "padding = \"How are you doing \" * 2000\n",
    "predictions = model.predict(np.array([sample_text, padding]))\n",
    "print(predictions[0])"
   ]
  },
  {
   "cell_type": "markdown",
   "metadata": {
    "id": "sRI776ZcH3Tf"
   },
   "source": [
    "Compile the Keras model to configure the training process:"
   ]
  },
  {
   "cell_type": "code",
   "execution_count": 35,
   "metadata": {
    "execution": {
     "iopub.execute_input": "2021-11-02T15:50:52.795749Z",
     "iopub.status.busy": "2021-11-02T15:50:52.794994Z",
     "iopub.status.idle": "2021-11-02T15:50:52.860291Z",
     "shell.execute_reply": "2021-11-02T15:50:52.860662Z"
    },
    "id": "kj2xei41YZjC",
    "pycharm": {
     "is_executing": true
    }
   },
   "outputs": [],
   "source": [
    "model.compile(loss=tf.keras.losses.CategoricalCrossentropy(),\n",
    "              optimizer=tf.keras.optimizers.Adam(0.0001),\n",
    "              metrics=['accuracy'])"
   ]
  },
  {
   "cell_type": "markdown",
   "metadata": {
    "id": "zIwH3nto596k"
   },
   "source": [
    "## Train the model"
   ]
  },
  {
   "cell_type": "code",
   "execution_count": 36,
   "metadata": {
    "execution": {
     "iopub.execute_input": "2021-11-02T15:50:52.865748Z",
     "iopub.status.busy": "2021-11-02T15:50:52.865047Z",
     "iopub.status.idle": "2021-11-02T15:56:08.899338Z",
     "shell.execute_reply": "2021-11-02T15:56:08.899791Z"
    },
    "id": "hw86wWS4YgR2",
    "pycharm": {
     "is_executing": true
    }
   },
   "outputs": [
    {
     "name": "stdout",
     "output_type": "stream",
     "text": [
      "Epoch 1/5\n",
      "2717/2717 [==============================] - 113s 39ms/step - loss: 0.2686 - accuracy: 0.8888 - val_loss: 0.2487 - val_accuracy: 0.9016\n",
      "Epoch 2/5\n",
      "2717/2717 [==============================] - 105s 39ms/step - loss: 0.2004 - accuracy: 0.9214 - val_loss: 0.2458 - val_accuracy: 0.9016\n",
      "Epoch 3/5\n",
      "2717/2717 [==============================] - 105s 39ms/step - loss: 0.1959 - accuracy: 0.9225 - val_loss: 0.2404 - val_accuracy: 0.9062\n",
      "Epoch 4/5\n",
      "2717/2717 [==============================] - 105s 39ms/step - loss: 0.1930 - accuracy: 0.9232 - val_loss: 0.2349 - val_accuracy: 0.9062\n",
      "Epoch 5/5\n",
      "2717/2717 [==============================] - 105s 39ms/step - loss: 0.1908 - accuracy: 0.9235 - val_loss: 0.2340 - val_accuracy: 0.9141\n"
     ]
    }
   ],
   "source": [
    "history = model.fit(train_dataset, epochs=5,\n",
    "                    validation_data=test_dataset,\n",
    "                    validation_steps=10)"
   ]
  },
  {
   "cell_type": "code",
   "execution_count": 37,
   "metadata": {
    "execution": {
     "iopub.execute_input": "2021-11-02T15:56:08.905181Z",
     "iopub.status.busy": "2021-11-02T15:56:08.904477Z",
     "iopub.status.idle": "2021-11-02T15:56:24.266040Z",
     "shell.execute_reply": "2021-11-02T15:56:24.266501Z"
    },
    "id": "BaNbXi43YgUT",
    "pycharm": {
     "is_executing": true
    }
   },
   "outputs": [
    {
     "name": "stdout",
     "output_type": "stream",
     "text": [
      "680/680 [==============================] - 11s 16ms/step - loss: 0.1960 - accuracy: 0.9212\n",
      "Test Loss: 0.19596855342388153\n",
      "Test Accuracy: 0.9212167263031006\n"
     ]
    }
   ],
   "source": [
    "test_loss, test_acc = model.evaluate(test_dataset)\n",
    "\n",
    "print('Test Loss:', test_loss)\n",
    "print('Test Accuracy:', test_acc)"
   ]
  },
  {
   "cell_type": "code",
   "execution_count": 38,
   "metadata": {},
   "outputs": [
    {
     "name": "stderr",
     "output_type": "stream",
     "text": [
      "Ein Unterverzeichnis oder eine Datei mit dem Namen \"models\" existiert bereits.\n",
      "WARNING:absl:Found untraced functions such as lstm_cell_4_layer_call_fn, lstm_cell_4_layer_call_and_return_conditional_losses, lstm_cell_5_layer_call_fn, lstm_cell_5_layer_call_and_return_conditional_losses, lstm_cell_4_layer_call_fn while saving (showing 5 of 10). These functions will not be directly callable after loading.\n"
     ]
    },
    {
     "name": "stdout",
     "output_type": "stream",
     "text": [
      "INFO:tensorflow:Assets written to: models/rnn_one_with_stopwords\\assets\n"
     ]
    },
    {
     "name": "stderr",
     "output_type": "stream",
     "text": [
      "INFO:tensorflow:Assets written to: models/rnn_one_with_stopwords\\assets\n",
      "WARNING:absl:<keras.layers.recurrent.LSTMCell object at 0x0000021A06C96100> has the same name 'LSTMCell' as a built-in Keras object. Consider renaming <class 'keras.layers.recurrent.LSTMCell'> to avoid naming conflicts when loading with `tf.keras.models.load_model`. If renaming is not possible, pass the object in the `custom_objects` parameter of the load function.\n",
      "WARNING:absl:<keras.layers.recurrent.LSTMCell object at 0x0000021A06C96A90> has the same name 'LSTMCell' as a built-in Keras object. Consider renaming <class 'keras.layers.recurrent.LSTMCell'> to avoid naming conflicts when loading with `tf.keras.models.load_model`. If renaming is not possible, pass the object in the `custom_objects` parameter of the load function.\n"
     ]
    }
   ],
   "source": [
    "# Save the model\n",
    "!mkdir models\n",
    "model.save('models/rnn_one_with_stopwords', save_format='tf')"
   ]
  },
  {
   "cell_type": "code",
   "execution_count": 39,
   "metadata": {
    "execution": {
     "iopub.execute_input": "2021-11-02T15:56:24.308793Z",
     "iopub.status.busy": "2021-11-02T15:56:24.286044Z",
     "iopub.status.idle": "2021-11-02T15:56:24.534404Z",
     "shell.execute_reply": "2021-11-02T15:56:24.534886Z"
    },
    "id": "OZmwt_mzaQJk",
    "pycharm": {
     "is_executing": true
    }
   },
   "outputs": [
    {
     "data": {
      "text/plain": [
       "(0.0, 0.2725337639451027)"
      ]
     },
     "execution_count": 39,
     "metadata": {},
     "output_type": "execute_result"
    },
    {
     "data": {
      "image/png": "[encoded data removed]",
      "text/plain": [
       "<Figure size 1152x576 with 2 Axes>"
      ]
     },
     "metadata": {
      "needs_background": "light"
     },
     "output_type": "display_data"
    }
   ],
   "source": [
    "plt.figure(figsize=(16, 8))\n",
    "plt.subplot(1, 2, 1)\n",
    "plot_graphs(history, 'accuracy')\n",
    "plt.ylim(None, 1)\n",
    "plt.subplot(1, 2, 2)\n",
    "plot_graphs(history, 'loss')\n",
    "plt.ylim(0, None)"
   ]
  },
  {
   "cell_type": "markdown",
   "metadata": {
    "id": "DwSE_386uhxD"
   },
   "source": [
    "Run a prediction on a new sentence:\n",
    "\n",
    "If the prediction is >= 0.0, it is positive else it is negative."
   ]
  },
  {
   "cell_type": "code",
   "execution_count": 40,
   "metadata": {
    "execution": {
     "iopub.execute_input": "2021-11-02T15:56:24.540123Z",
     "iopub.status.busy": "2021-11-02T15:56:24.539499Z",
     "iopub.status.idle": "2021-11-02T15:56:26.502611Z",
     "shell.execute_reply": "2021-11-02T15:56:26.502044Z"
    },
    "id": "ZXgfQSgRW6zU",
    "pycharm": {
     "is_executing": true
    }
   },
   "outputs": [
    {
     "name": "stdout",
     "output_type": "stream",
     "text": [
      "[[0.957 0.043]\n",
      " [0.    1.   ]]\n"
     ]
    }
   ],
   "source": [
    "sample_text = ['That was very nice of you to say', 'You stupid fucking bitch']\n",
    "predictions = model.predict(np.array(sample_text))\n",
    "print(predictions)"
   ]
  },
  {
   "cell_type": "markdown",
   "metadata": {
    "id": "7g1evcaRpTKm"
   },
   "source": [
    "## Stack two or more LSTM layers\n",
    "\n",
    "Keras recurrent layers have two available modes that are controlled by the `return_sequences` constructor argument:\n",
    "\n",
    "* If `False` it returns only the last output for each input sequence (a 2D tensor of shape (batch_size, output_features)). This is the default, used in the previous model.\n",
    "\n",
    "* If `True` the full sequences of successive outputs for each timestep is returned (a 3D tensor of shape `(batch_size, timesteps, output_features)`).\n",
    "\n",
    "Here is what the flow of information looks like with `return_sequences=True`:\n",
    "\n",
    "![layered_bidirectional](images/layered_bidirectional.png)"
   ]
  },
  {
   "cell_type": "markdown",
   "metadata": {
    "id": "wbSClCrG1z8l"
   },
   "source": [
    "The interesting thing about using an `RNN` with `return_sequences=True` is that the output still has 3-axes, like the input, so it can be passed to another RNN layer, like this:"
   ]
  },
  {
   "cell_type": "code",
   "execution_count": 41,
   "metadata": {
    "execution": {
     "iopub.execute_input": "2021-11-02T15:56:26.509313Z",
     "iopub.status.busy": "2021-11-02T15:56:26.508536Z",
     "iopub.status.idle": "2021-11-02T15:56:29.643331Z",
     "shell.execute_reply": "2021-11-02T15:56:29.642665Z"
    },
    "id": "jo1jjO3vn0jo",
    "pycharm": {
     "is_executing": true
    }
   },
   "outputs": [
    {
     "name": "stdout",
     "output_type": "stream",
     "text": [
      "Model: \"sequential_2\"\n",
      "_________________________________________________________________\n",
      " Layer (type)                Output Shape              Param #   \n",
      "=================================================================\n",
      " text_vectorization_1 (TextV  (None, None)             0         \n",
      " ectorization)                                                   \n",
      "                                                                 \n",
      " embedding_2 (Embedding)     (None, None, 64)          64000     \n",
      "                                                                 \n",
      " bidirectional_2 (Bidirectio  (None, None, 128)        66048     \n",
      " nal)                                                            \n",
      "                                                                 \n",
      " bidirectional_3 (Bidirectio  (None, 64)               41216     \n",
      " nal)                                                            \n",
      "                                                                 \n",
      " dense_4 (Dense)             (None, 64)                4160      \n",
      "                                                                 \n",
      " dropout (Dropout)           (None, 64)                0         \n",
      "                                                                 \n",
      " dense_5 (Dense)             (None, 2)                 130       \n",
      "                                                                 \n",
      "=================================================================\n",
      "Total params: 175,554\n",
      "Trainable params: 175,554\n",
      "Non-trainable params: 0\n",
      "_________________________________________________________________\n",
      "None\n"
     ]
    }
   ],
   "source": [
    "model_two = tf.keras.Sequential([\n",
    "    encoder,\n",
    "    tf.keras.layers.Embedding(len(encoder.get_vocabulary()), 64, mask_zero=True),\n",
    "    tf.keras.layers.Bidirectional(tf.keras.layers.LSTM(64,  return_sequences=True)),\n",
    "    tf.keras.layers.Bidirectional(tf.keras.layers.LSTM(32)),\n",
    "    tf.keras.layers.Dense(64, activation='relu'),\n",
    "    tf.keras.layers.Dropout(0.5),\n",
    "    tf.keras.layers.Dense(2, activation='softmax')\n",
    "])\n",
    "\n",
    "print(model_two.summary())"
   ]
  },
  {
   "cell_type": "code",
   "execution_count": 42,
   "metadata": {
    "execution": {
     "iopub.execute_input": "2021-11-02T15:56:29.647221Z",
     "iopub.status.busy": "2021-11-02T15:56:29.646587Z",
     "iopub.status.idle": "2021-11-02T15:56:29.653319Z",
     "shell.execute_reply": "2021-11-02T15:56:29.653676Z"
    },
    "id": "hEPV5jVGp-is",
    "pycharm": {
     "is_executing": true
    }
   },
   "outputs": [],
   "source": [
    "model_two.compile(loss=tf.keras.losses.CategoricalCrossentropy(),\n",
    "              optimizer=tf.keras.optimizers.Adam(0.0001),\n",
    "              metrics=['accuracy'])"
   ]
  },
  {
   "cell_type": "code",
   "execution_count": 43,
   "metadata": {
    "execution": {
     "iopub.execute_input": "2021-11-02T15:56:29.658306Z",
     "iopub.status.busy": "2021-11-02T15:56:29.657641Z",
     "iopub.status.idle": "2021-11-02T16:05:39.623362Z",
     "shell.execute_reply": "2021-11-02T16:05:39.622731Z"
    },
    "id": "LeSE-YjdqAeN",
    "pycharm": {
     "is_executing": true
    }
   },
   "outputs": [
    {
     "name": "stdout",
     "output_type": "stream",
     "text": [
      "Epoch 1/5\n",
      "2717/2717 [==============================] - 202s 71ms/step - loss: 0.2717 - accuracy: 0.8912 - val_loss: 0.2202 - val_accuracy: 0.9167\n",
      "Epoch 2/5\n",
      "2717/2717 [==============================] - 265s 97ms/step - loss: 0.2058 - accuracy: 0.9210 - val_loss: 0.2156 - val_accuracy: 0.9161\n",
      "Epoch 3/5\n",
      "2717/2717 [==============================] - 478s 176ms/step - loss: 0.2009 - accuracy: 0.9224 - val_loss: 0.2120 - val_accuracy: 0.9177\n",
      "Epoch 4/5\n",
      "2717/2717 [==============================] - 941s 346ms/step - loss: 0.1985 - accuracy: 0.9224 - val_loss: 0.2128 - val_accuracy: 0.9146\n",
      "Epoch 5/5\n",
      "2717/2717 [==============================] - 192s 71ms/step - loss: 0.1966 - accuracy: 0.9228 - val_loss: 0.2114 - val_accuracy: 0.9146\n"
     ]
    }
   ],
   "source": [
    "history_two = model_two.fit(train_dataset, epochs=5,\n",
    "                    validation_data=test_dataset,\n",
    "                    validation_steps=30)"
   ]
  },
  {
   "cell_type": "code",
   "execution_count": 44,
   "metadata": {
    "execution": {
     "iopub.execute_input": "2021-11-02T16:05:39.628681Z",
     "iopub.status.busy": "2021-11-02T16:05:39.627978Z",
     "iopub.status.idle": "2021-11-02T16:06:05.529389Z",
     "shell.execute_reply": "2021-11-02T16:06:05.528860Z"
    },
    "id": "_LdwilM1qPM3",
    "pycharm": {
     "is_executing": true
    }
   },
   "outputs": [
    {
     "name": "stdout",
     "output_type": "stream",
     "text": [
      "680/680 [==============================] - 20s 30ms/step - loss: 0.1979 - accuracy: 0.9209\n",
      "Test Loss: 0.19787664711475372\n",
      "Test Accuracy: 0.9208716154098511\n"
     ]
    }
   ],
   "source": [
    "test_loss, test_acc = model_two.evaluate(test_dataset)\n",
    "\n",
    "print('Test Loss:', test_loss)\n",
    "print('Test Accuracy:', test_acc)"
   ]
  },
  {
   "cell_type": "code",
   "execution_count": 45,
   "metadata": {
    "execution": {
     "iopub.execute_input": "2021-11-02T16:06:05.533990Z",
     "iopub.status.busy": "2021-11-02T16:06:05.533409Z",
     "iopub.status.idle": "2021-11-02T16:06:09.200328Z",
     "shell.execute_reply": "2021-11-02T16:06:09.199826Z"
    },
    "id": "ykUKnAoqbycW",
    "pycharm": {
     "is_executing": true
    }
   },
   "outputs": [
    {
     "name": "stdout",
     "output_type": "stream",
     "text": [
      "[[0.001 0.999]\n",
      " [0.879 0.121]]\n"
     ]
    }
   ],
   "source": [
    "# predict on a sample text without padding.\n",
    "\n",
    "sample_text = ['You are such a stupid fucking whore',\n",
    "               'I would not recommend this movie.']\n",
    "predictions = model_two.predict(np.array(sample_text))\n",
    "\n",
    "print(predictions)"
   ]
  },
  {
   "cell_type": "code",
   "execution_count": 46,
   "metadata": {},
   "outputs": [
    {
     "name": "stderr",
     "output_type": "stream",
     "text": [
      "Ein Unterverzeichnis oder eine Datei mit dem Namen \"models\" existiert bereits.\n",
      "WARNING:absl:Found untraced functions such as lstm_cell_7_layer_call_fn, lstm_cell_7_layer_call_and_return_conditional_losses, lstm_cell_8_layer_call_fn, lstm_cell_8_layer_call_and_return_conditional_losses, lstm_cell_10_layer_call_fn while saving (showing 5 of 20). These functions will not be directly callable after loading.\n"
     ]
    },
    {
     "name": "stdout",
     "output_type": "stream",
     "text": [
      "INFO:tensorflow:Assets written to: models/rnn_two_with_stopwords\\assets\n"
     ]
    },
    {
     "name": "stderr",
     "output_type": "stream",
     "text": [
      "INFO:tensorflow:Assets written to: models/rnn_two_with_stopwords\\assets\n",
      "WARNING:absl:<keras.layers.recurrent.LSTMCell object at 0x0000021AF9322DF0> has the same name 'LSTMCell' as a built-in Keras object. Consider renaming <class 'keras.layers.recurrent.LSTMCell'> to avoid naming conflicts when loading with `tf.keras.models.load_model`. If renaming is not possible, pass the object in the `custom_objects` parameter of the load function.\n",
      "WARNING:absl:<keras.layers.recurrent.LSTMCell object at 0x0000021AF92317F0> has the same name 'LSTMCell' as a built-in Keras object. Consider renaming <class 'keras.layers.recurrent.LSTMCell'> to avoid naming conflicts when loading with `tf.keras.models.load_model`. If renaming is not possible, pass the object in the `custom_objects` parameter of the load function.\n",
      "WARNING:absl:<keras.layers.recurrent.LSTMCell object at 0x0000021AF93286A0> has the same name 'LSTMCell' as a built-in Keras object. Consider renaming <class 'keras.layers.recurrent.LSTMCell'> to avoid naming conflicts when loading with `tf.keras.models.load_model`. If renaming is not possible, pass the object in the `custom_objects` parameter of the load function.\n",
      "WARNING:absl:<keras.layers.recurrent.LSTMCell object at 0x0000021AF9408160> has the same name 'LSTMCell' as a built-in Keras object. Consider renaming <class 'keras.layers.recurrent.LSTMCell'> to avoid naming conflicts when loading with `tf.keras.models.load_model`. If renaming is not possible, pass the object in the `custom_objects` parameter of the load function.\n"
     ]
    }
   ],
   "source": [
    "# Save the model\n",
    "!mkdir models\n",
    "model_two.save('models/rnn_two_with_stopwords', save_format='tf')"
   ]
  },
  {
   "cell_type": "code",
   "execution_count": 47,
   "metadata": {
    "execution": {
     "iopub.execute_input": "2021-11-02T16:06:09.257308Z",
     "iopub.status.busy": "2021-11-02T16:06:09.244756Z",
     "iopub.status.idle": "2021-11-02T16:06:09.481357Z",
     "shell.execute_reply": "2021-11-02T16:06:09.480751Z"
    },
    "id": "_YYub0EDtwCu",
    "pycharm": {
     "is_executing": true
    }
   },
   "outputs": [
    {
     "data": {
      "image/png": "[encoded data removed]",
      "text/plain": [
       "<Figure size 1152x432 with 2 Axes>"
      ]
     },
     "metadata": {
      "needs_background": "light"
     },
     "output_type": "display_data"
    }
   ],
   "source": [
    "plt.figure(figsize=(16, 6))\n",
    "plt.subplot(1, 2, 1)\n",
    "plot_graphs(history_two, 'accuracy')\n",
    "plt.subplot(1, 2, 2)\n",
    "plot_graphs(history_two, 'loss')"
   ]
  },
  {
   "cell_type": "markdown",
   "metadata": {
    "id": "9xvpE3BaGw_V"
   },
   "source": [
    "Check out other existing recurrent layers such as [GRU layers](https://www.tensorflow.org/api_docs/python/tf/keras/layers/GRU).\n",
    "\n",
    "If you're interestied in building custom RNNs, see the [Keras RNN Guide](https://www.tensorflow.org/guide/keras/rnn).\n"
   ]
  },
  {
   "cell_type": "code",
   "execution_count": null,
   "metadata": {},
   "outputs": [],
   "source": []
  }
 ],
 "metadata": {
  "accelerator": "GPU",
  "colab": {
   "collapsed_sections": [],
   "name": "text_classification_rnn.ipynb",
   "provenance": [],
   "toc_visible": true
  },
  "kernelspec": {
   "display_name": "Python 3 (ipykernel)",
   "language": "python",
   "name": "python3"
  },
  "language_info": {
   "codemirror_mode": {
    "name": "ipython",
    "version": 3
   },
   "file_extension": ".py",
   "mimetype": "text/x-python",
   "name": "python",
   "nbconvert_exporter": "python",
   "pygments_lexer": "ipython3",
   "version": "3.8.0"
  }
 },
 "nbformat": 4,
 "nbformat_minor": 1
}
