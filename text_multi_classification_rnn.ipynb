{
 "cells": [
  {
   "cell_type": "markdown",
   "metadata": {
    "id": "hX4n9TsbGw-f"
   },
   "source": [
    "##### Copyright 2018 The TensorFlow Authors."
   ]
  },
  {
   "cell_type": "code",
   "execution_count": 321,
   "metadata": {
    "cellView": "form",
    "execution": {
     "iopub.execute_input": "2021-11-02T15:50:32.590813Z",
     "iopub.status.busy": "2021-11-02T15:50:32.590150Z",
     "iopub.status.idle": "2021-11-02T15:50:32.592967Z",
     "shell.execute_reply": "2021-11-02T15:50:32.592428Z"
    },
    "id": "0nbI5DtDGw-i"
   },
   "outputs": [],
   "source": [
    "#@title Licensed under the Apache License, Version 2.0 (the \"License\");\n",
    "# you may not use this file except in compliance with the License.\n",
    "# You may obtain a copy of the License at\n",
    "#\n",
    "# https://www.apache.org/licenses/LICENSE-2.0\n",
    "#\n",
    "# Unless required by applicable law or agreed to in writing, software\n",
    "# distributed under the License is distributed on an \"AS IS\" BASIS,\n",
    "# WITHOUT WARRANTIES OR CONDITIONS OF ANY KIND, either express or implied.\n",
    "# See the License for the specific language governing permissions and\n",
    "# limitations under the License."
   ]
  },
  {
   "cell_type": "markdown",
   "metadata": {
    "id": "9TnJztDZGw-n"
   },
   "source": [
    "# Text classification with an RNN"
   ]
  },
  {
   "cell_type": "markdown",
   "metadata": {
    "id": "_2VQo4bajwUU"
   },
   "source": [
    "## Setup"
   ]
  },
  {
   "cell_type": "code",
   "execution_count": 322,
   "metadata": {
    "execution": {
     "iopub.execute_input": "2021-11-02T15:50:32.600658Z",
     "iopub.status.busy": "2021-11-02T15:50:32.600048Z",
     "iopub.status.idle": "2021-11-02T15:50:34.697251Z",
     "shell.execute_reply": "2021-11-02T15:50:34.696671Z"
    },
    "id": "z682XYsrjkY9"
   },
   "outputs": [],
   "source": [
    "import numpy as np\n",
    "import tensorflow as tf\n",
    "import tensorflow_datasets as tfds\n",
    "\n",
    "tfds.disable_progress_bar()\n",
    "np.set_printoptions(precision = 3, suppress = True)"
   ]
  },
  {
   "cell_type": "markdown",
   "metadata": {
    "id": "1rXHa-w9JZhb"
   },
   "source": [
    "Import `matplotlib` and create a helper function to plot graphs:"
   ]
  },
  {
   "cell_type": "code",
   "execution_count": 349,
   "metadata": {
    "execution": {
     "iopub.execute_input": "2021-11-02T15:50:34.702573Z",
     "iopub.status.busy": "2021-11-02T15:50:34.701983Z",
     "iopub.status.idle": "2021-11-02T15:50:34.934678Z",
     "shell.execute_reply": "2021-11-02T15:50:34.934132Z"
    },
    "id": "Mp1Z7P9pYRSK"
   },
   "outputs": [],
   "source": [
    "def plot_graphs(hist, metric):\n",
    "    plt.plot(hist.history[metric])\n",
    "    plt.plot(hist.history['val_' + metric], '')\n",
    "    plt.xlabel(\"Epochs\")\n",
    "    plt.ylabel(metric)\n",
    "    plt.legend([metric, 'val_' + metric])"
   ]
  },
  {
   "cell_type": "markdown",
   "metadata": {
    "id": "pRmMubr0jrE2"
   },
   "source": [
    "## Setup input pipeline"
   ]
  },
  {
   "cell_type": "code",
   "execution_count": 324,
   "metadata": {},
   "outputs": [
    {
     "name": "stdout",
     "output_type": "stream",
     "text": [
      "[3865, 68, 1089, 3340, 514] 8876\n"
     ]
    },
    {
     "data": {
      "text/plain": "<Figure size 432x288 with 1 Axes>",
      "image/png": "[encoded data removed]"
     },
     "metadata": {
      "needs_background": "light"
     },
     "output_type": "display_data"
    },
    {
     "data": {
      "text/plain": "<Figure size 1152x432 with 0 Axes>"
     },
     "metadata": {},
     "output_type": "display_data"
    }
   ],
   "source": [
    "import numpy as np\n",
    "import pandas as pd\n",
    "from sklearn.model_selection import train_test_split\n",
    "import matplotlib.pyplot as plt\n",
    "\n",
    "class_count = 6\n",
    "classes = ['other', 'racism', 'religion', 'disability', 'sexism', 'sexual orientation', 'toxic', 'obscene']\n",
    "\n",
    "\n",
    "#\n",
    "# Load the csv data.\n",
    "#\n",
    "def load_data_arrays():\n",
    "    df_1 = pd.read_csv(\"datasets/1_preprocessed.csv\")\n",
    "    df_3 = pd.read_csv(\"datasets/3_preprocessed.csv\")\n",
    "\n",
    "    df_5 = pd.read_csv(\"datasets/5_preprocessed.csv\")\n",
    "\n",
    "    df_6 = pd.read_csv(\"datasets/6_preprocessed.csv\")\n",
    "\n",
    "    df = df_1.append(df_3)\n",
    "    df = df.append(df_6)\n",
    "    df = df.append(df_5)\n",
    "    # Remove everything that isn't offensive/hate-speech\n",
    "    df = df[(df['is_hatespeech'] == 1)]\n",
    "    # Remove classes that use up a lot of probability mass.\n",
    "    df = df[(df['class'] != 0)]\n",
    "    df = df[(df['class'] != 6)]\n",
    "    df = df[(df['class'] != 7)]\n",
    "\n",
    "    return train_test_split(df, test_size = 0.2, random_state = 42, shuffle = True, stratify = df[\"class\"])\n",
    "\n",
    "\n",
    "def plot_data_distribution(labels_1, label_2):\n",
    "    total = labels_1.reshape(-1).tolist()\n",
    "    total.extend(label_2.reshape(-1).tolist())\n",
    "    bins = sorted(list(set(total)))\n",
    "\n",
    "    plt.bar(bins, [total.count(bin_val) for bin_val in bins])\n",
    "    counts = [total.count(bin_val) for bin_val in bins]\n",
    "    print(counts, sum(counts))\n",
    "    plt.xticks(bins,\n",
    "               classes[1:6],\n",
    "               rotation = 45,\n",
    "               rotation_mode = \"anchor\",\n",
    "               ha = \"right\")\n",
    "\n",
    "    plt.subplots_adjust(bottom = 0.3)\n",
    "    plt.figure(figsize = (16, 6))\n",
    "    plt.show()\n",
    "\n",
    "\n",
    "train_df, test_df = load_data_arrays()\n",
    "\n",
    "plot_data_distribution(train_df['class'].values, test_df['class'].values)"
   ]
  },
  {
   "cell_type": "code",
   "execution_count": 325,
   "metadata": {},
   "outputs": [
    {
     "name": "stdout",
     "output_type": "stream",
     "text": [
      "(TensorSpec(shape=(), dtype=tf.string, name=None), TensorSpec(shape=(6,), dtype=tf.int32, name=None))\n"
     ]
    }
   ],
   "source": [
    "#\n",
    "# Convert the test- and train-DataFrames to Tensorflow Datasets\n",
    "#\n",
    "train_labels = np.eye(class_count)[train_df['class'].values]\n",
    "train_dataset = (\n",
    "    tf.data.Dataset.from_tensor_slices(\n",
    "        (\n",
    "            tf.cast(np.asarray(train_df['text'].values, dtype = str), tf.string),\n",
    "            tf.cast(train_labels, tf.int32)\n",
    "        )\n",
    "    )\n",
    ")\n",
    "\n",
    "test_labels = np.eye(class_count)[test_df['class'].values]\n",
    "test_dataset = (\n",
    "    tf.data.Dataset.from_tensor_slices(\n",
    "        (\n",
    "            tf.cast(np.asarray(test_df['text'].values, dtype = str), tf.string),\n",
    "            tf.cast(test_labels, tf.int32)\n",
    "        )\n",
    "    )\n",
    ")\n",
    "\n",
    "print(test_dataset.element_spec)"
   ]
  },
  {
   "cell_type": "code",
   "execution_count": 326,
   "metadata": {
    "execution": {
     "iopub.execute_input": "2021-11-02T15:50:42.837775Z",
     "iopub.status.busy": "2021-11-02T15:50:42.837138Z",
     "iopub.status.idle": "2021-11-02T15:50:42.841349Z",
     "shell.execute_reply": "2021-11-02T15:50:42.841706Z"
    },
    "id": "VznrltNOnUc5"
   },
   "outputs": [],
   "source": [
    "BUFFER_SIZE = 1000\n",
    "BATCH_SIZE = 64\n",
    "\n",
    "train_dataset = train_dataset.shuffle(BUFFER_SIZE).batch(BATCH_SIZE).prefetch(tf.data.AUTOTUNE)\n",
    "test_dataset = test_dataset.batch(BATCH_SIZE).prefetch(tf.data.AUTOTUNE)"
   ]
  },
  {
   "cell_type": "markdown",
   "metadata": {
    "id": "s5eWCo88voPY"
   },
   "source": [
    "## Create the text encoder"
   ]
  },
  {
   "cell_type": "markdown",
   "metadata": {
    "id": "TFevcItw15P_"
   },
   "source": [
    "The raw text loaded by `tfds` needs to be processed before it can be used in a model. The simplest way to process text for training is using the `TextVectorization` layer. This layer has many capabilities, but this tutorial sticks to the default behavior.\n",
    "\n",
    "Create the layer, and pass the dataset's text to the layer's `.adapt` method:"
   ]
  },
  {
   "cell_type": "code",
   "execution_count": 327,
   "metadata": {
    "execution": {
     "iopub.execute_input": "2021-11-02T15:50:45.131867Z",
     "iopub.status.busy": "2021-11-02T15:50:45.131251Z",
     "iopub.status.idle": "2021-11-02T15:50:48.294934Z",
     "shell.execute_reply": "2021-11-02T15:50:48.295429Z"
    },
    "id": "uC25Lu1Yvuqy"
   },
   "outputs": [],
   "source": [
    "VOCAB_SIZE = 1000\n",
    "encoder = tf.keras.layers.TextVectorization(max_tokens = VOCAB_SIZE)\n",
    "encoder.adapt(train_dataset.map(lambda text, label: text))"
   ]
  },
  {
   "cell_type": "markdown",
   "metadata": {
    "id": "IuQzVBbe3Ldu"
   },
   "source": [
    "The `.adapt` method sets the layer's vocabulary. Here are the first 20 tokens. After the padding and unknown tokens they're sorted by frequency:"
   ]
  },
  {
   "cell_type": "code",
   "execution_count": 328,
   "outputs": [
    {
     "data": {
      "text/plain": "array(['', '[UNK]', 'a', 'you', 'the', 'is', 'i', 'nigger', 'to', 'and',\n       'of', 'fat', 'jew', 'in', 'are', 'not', 'that', 'but', 'faggot',\n       'me'], dtype='<U30')"
     },
     "execution_count": 328,
     "metadata": {},
     "output_type": "execute_result"
    }
   ],
   "source": [
    "vocab = np.array(encoder.get_vocabulary())\n",
    "vocab[:20]"
   ],
   "metadata": {
    "collapsed": false,
    "pycharm": {
     "name": "#%%\n"
    }
   }
  },
  {
   "cell_type": "markdown",
   "source": [
    "Once the vocabulary is set, the layer can encode text into indices. The tensors of indices are 0-padded to the longest sequence in the batch (unless you set a fixed `output_sequence_length`):"
   ],
   "metadata": {
    "collapsed": false,
    "pycharm": {
     "name": "#%% md\n"
    }
   }
  },
  {
   "cell_type": "code",
   "execution_count": 329,
   "outputs": [
    {
     "data": {
      "text/plain": "array([2])"
     },
     "execution_count": 329,
     "metadata": {},
     "output_type": "execute_result"
    }
   ],
   "source": [
    "encoded_example = encoder(\"a\")[:1].numpy()\n",
    "encoded_example"
   ],
   "metadata": {
    "collapsed": false,
    "pycharm": {
     "name": "#%%\n"
    }
   }
  },
  {
   "cell_type": "markdown",
   "source": [
    "## Create the model"
   ],
   "metadata": {
    "collapsed": false
   }
  },
  {
   "cell_type": "markdown",
   "metadata": {
    "id": "bgs6nnSTGw-t"
   },
   "source": [
    "Above is a diagram of the model. \n",
    "\n",
    "1. This model can be build as a `tf.keras.Sequential`.\n",
    "\n",
    "2. The first layer is the `encoder`, which converts the text to a sequence of token indices.\n",
    "\n",
    "3. After the encoder is an embedding layer. An embedding layer stores one vector per word. When called, it converts the sequences of word indices to sequences of vectors. These vectors are trainable. After training (on enough data), words with similar meanings often have similar vectors.\n",
    "\n",
    "  This index-lookup is much more efficient than the equivalent operation of passing a one-hot encoded vector through a `tf.keras.layers.Dense` layer.\n",
    "\n",
    "4. A recurrent neural network (RNN) processes sequence input by iterating through the elements. RNNs pass the outputs from one timestep to their input on the next timestep.\n",
    "\n",
    "  The `tf.keras.layers.Bidirectional` wrapper can also be used with an RNN layer. This propagates the input forward and backwards through the RNN layer and then concatenates the final output. \n",
    "\n",
    "  * The main advantage of a bidirectional RNN is that the signal from the beginning of the input doesn't need to be processed all the way through every timestep to affect the output.  \n",
    "\n",
    "  * The main disadvantage of a bidirectional RNN is that you can't efficiently stream predictions as words are being added to the end.\n",
    "\n",
    "5. After the RNN has converted the sequence to a single vector the two `layers.Dense` do some final processing, and convert from this vector representation to a single logit as the classification output. \n"
   ]
  },
  {
   "cell_type": "code",
   "execution_count": 330,
   "metadata": {
    "execution": {
     "iopub.execute_input": "2021-11-02T15:50:48.337515Z",
     "iopub.status.busy": "2021-11-02T15:50:48.336851Z",
     "iopub.status.idle": "2021-11-02T15:50:49.682810Z",
     "shell.execute_reply": "2021-11-02T15:50:49.682208Z"
    },
    "id": "LwfoBkmRYcP3",
    "scrolled": true
   },
   "outputs": [
    {
     "name": "stdout",
     "output_type": "stream",
     "text": [
      "Model: \"sequential_19\"\n",
      "_________________________________________________________________\n",
      " Layer (type)                Output Shape              Param #   \n",
      "=================================================================\n",
      " text_vectorization_7 (TextV  (None, None)             0         \n",
      " ectorization)                                                   \n",
      "                                                                 \n",
      " embedding_19 (Embedding)    (None, None, 64)          64000     \n",
      "                                                                 \n",
      " bidirectional_23 (Bidirecti  (None, 128)              66048     \n",
      " onal)                                                           \n",
      "                                                                 \n",
      " dense_38 (Dense)            (None, 64)                8256      \n",
      "                                                                 \n",
      " dense_39 (Dense)            (None, 6)                 390       \n",
      "                                                                 \n",
      "=================================================================\n",
      "Total params: 138,694\n",
      "Trainable params: 138,694\n",
      "Non-trainable params: 0\n",
      "_________________________________________________________________\n",
      "None\n"
     ]
    }
   ],
   "source": [
    "model = tf.keras.Sequential([\n",
    "    encoder,\n",
    "    tf.keras.layers.Embedding(\n",
    "        input_dim = len(encoder.get_vocabulary()),\n",
    "        output_dim = 64,\n",
    "        # Use masking to handle the variable sequence lengths\n",
    "        mask_zero = True),\n",
    "    tf.keras.layers.Bidirectional(tf.keras.layers.LSTM(64)),\n",
    "    tf.keras.layers.Dense(64, activation = 'sigmoid'),\n",
    "    tf.keras.layers.Dense(class_count, activation = 'softmax')\n",
    "])\n",
    "\n",
    "print(model.summary())\n",
    "\n",
    "model.compile(loss = tf.keras.losses.CategoricalCrossentropy(),\n",
    "              optimizer = tf.keras.optimizers.Adam(0.00075),\n",
    "              metrics = ['accuracy'])"
   ]
  },
  {
   "cell_type": "markdown",
   "metadata": {
    "id": "zIwH3nto596k"
   },
   "source": [
    "## Train the model"
   ]
  },
  {
   "cell_type": "code",
   "execution_count": 331,
   "metadata": {
    "execution": {
     "iopub.execute_input": "2021-11-02T15:50:52.865748Z",
     "iopub.status.busy": "2021-11-02T15:50:52.865047Z",
     "iopub.status.idle": "2021-11-02T15:56:08.899338Z",
     "shell.execute_reply": "2021-11-02T15:56:08.899791Z"
    },
    "id": "hw86wWS4YgR2"
   },
   "outputs": [
    {
     "name": "stdout",
     "output_type": "stream",
     "text": [
      "Epoch 1/5\n",
      "111/111 [==============================] - 29s 219ms/step - loss: 1.1730 - accuracy: 0.5404 - val_loss: 0.8315 - val_accuracy: 0.7156\n",
      "Epoch 2/5\n",
      "111/111 [==============================] - 21s 195ms/step - loss: 0.6919 - accuracy: 0.7568 - val_loss: 0.6043 - val_accuracy: 0.8031\n",
      "Epoch 3/5\n",
      "111/111 [==============================] - 22s 201ms/step - loss: 0.4982 - accuracy: 0.8465 - val_loss: 0.5162 - val_accuracy: 0.8125\n",
      "Epoch 4/5\n",
      "111/111 [==============================] - 37s 338ms/step - loss: 0.4247 - accuracy: 0.8592 - val_loss: 0.5072 - val_accuracy: 0.8188\n",
      "Epoch 5/5\n",
      "111/111 [==============================] - 28s 256ms/step - loss: 0.3808 - accuracy: 0.8818 - val_loss: 0.4782 - val_accuracy: 0.8438\n"
     ]
    }
   ],
   "source": [
    "history = model.fit(train_dataset, epochs = 5,\n",
    "                    validation_data = test_dataset,\n",
    "                    validation_steps = 5)"
   ]
  },
  {
   "cell_type": "code",
   "execution_count": 332,
   "metadata": {
    "execution": {
     "iopub.execute_input": "2021-11-02T15:56:08.905181Z",
     "iopub.status.busy": "2021-11-02T15:56:08.904477Z",
     "iopub.status.idle": "2021-11-02T15:56:24.266040Z",
     "shell.execute_reply": "2021-11-02T15:56:24.266501Z"
    },
    "id": "BaNbXi43YgUT"
   },
   "outputs": [
    {
     "name": "stdout",
     "output_type": "stream",
     "text": [
      "28/28 [==============================] - 3s 107ms/step - loss: 0.4786 - accuracy: 0.8530\n",
      "Test Loss: 0.4785681366920471\n",
      "Test Accuracy: 0.8530405163764954\n"
     ]
    }
   ],
   "source": [
    "test_loss, test_acc = model.evaluate(test_dataset)\n",
    "\n",
    "print('Test Loss:', test_loss)\n",
    "print('Test Accuracy:', test_acc)"
   ]
  },
  {
   "cell_type": "code",
   "execution_count": 333,
   "metadata": {},
   "outputs": [],
   "source": [
    "# Save the model\n",
    "#!mkdir models\n",
    "#model.save('rnn_one', save_format='tf')"
   ]
  },
  {
   "cell_type": "code",
   "execution_count": 350,
   "metadata": {
    "execution": {
     "iopub.execute_input": "2021-11-02T15:56:24.308793Z",
     "iopub.status.busy": "2021-11-02T15:56:24.286044Z",
     "iopub.status.idle": "2021-11-02T15:56:24.534404Z",
     "shell.execute_reply": "2021-11-02T15:56:24.534886Z"
    },
    "id": "OZmwt_mzaQJk"
   },
   "outputs": [
    {
     "data": {
      "text/plain": "(0.0, 1.21265357285738)"
     },
     "execution_count": 350,
     "metadata": {},
     "output_type": "execute_result"
    },
    {
     "data": {
      "text/plain": "<Figure size 1152x576 with 2 Axes>",
      "image/png": "[encoded data removed]"
     },
     "metadata": {
      "needs_background": "light"
     },
     "output_type": "display_data"
    }
   ],
   "source": [
    "plt.figure(figsize = (16, 8))\n",
    "plt.subplot(1, 2, 1)\n",
    "plot_graphs(history, 'accuracy')\n",
    "plt.ylim(0, 1)\n",
    "plt.subplot(1, 2, 2)\n",
    "plot_graphs(history, 'loss')\n",
    "plt.ylim(0, None)"
   ]
  },
  {
   "cell_type": "code",
   "execution_count": 348,
   "metadata": {},
   "outputs": [],
   "source": []
  }
 ],
 "metadata": {
  "accelerator": "GPU",
  "colab": {
   "collapsed_sections": [],
   "name": "text_classification_rnn.ipynb",
   "provenance": [],
   "toc_visible": true
  },
  "kernelspec": {
   "display_name": "Python 3 (ipykernel)",
   "language": "python",
   "name": "python3"
  },
  "language_info": {
   "codemirror_mode": {
    "name": "ipython",
    "version": 3
   },
   "file_extension": ".py",
   "mimetype": "text/x-python",
   "name": "python",
   "nbconvert_exporter": "python",
   "pygments_lexer": "ipython3",
   "version": "3.9.6"
  }
 },
 "nbformat": 4,
 "nbformat_minor": 1
}