{
 "cells": [
  {
   "cell_type": "markdown",
   "metadata": {
    "id": "hX4n9TsbGw-f"
   },
   "source": [
    "##### Copyright 2018 The TensorFlow Authors."
   ]
  },
  {
   "cell_type": "code",
   "execution_count": 1,
   "metadata": {
    "cellView": "form",
    "execution": {
     "iopub.execute_input": "2021-11-02T15:50:32.590813Z",
     "iopub.status.busy": "2021-11-02T15:50:32.590150Z",
     "iopub.status.idle": "2021-11-02T15:50:32.592967Z",
     "shell.execute_reply": "2021-11-02T15:50:32.592428Z"
    },
    "id": "0nbI5DtDGw-i"
   },
   "outputs": [],
   "source": [
    "#@title Licensed under the Apache License, Version 2.0 (the \"License\");\n",
    "# you may not use this file except in compliance with the License.\n",
    "# You may obtain a copy of the License at\n",
    "#\n",
    "# https://www.apache.org/licenses/LICENSE-2.0\n",
    "#\n",
    "# Unless required by applicable law or agreed to in writing, software\n",
    "# distributed under the License is distributed on an \"AS IS\" BASIS,\n",
    "# WITHOUT WARRANTIES OR CONDITIONS OF ANY KIND, either express or implied.\n",
    "# See the License for the specific language governing permissions and\n",
    "# limitations under the License."
   ]
  },
  {
   "cell_type": "markdown",
   "metadata": {
    "id": "9TnJztDZGw-n"
   },
   "source": [
    "# Text classification with an RNN"
   ]
  },
  {
   "cell_type": "markdown",
   "metadata": {
    "id": "AfN3bMR5Gw-o"
   },
   "source": [
    "<table class=\"tfo-notebook-buttons\" align=\"left\">\n",
    "  <td>\n",
    "    <a target=\"_blank\" href=\"https://www.tensorflow.org/text/tutorials/text_classification_rnn\"><img src=\"https://www.tensorflow.org/images/tf_logo_32px.png\" />View on TensorFlow.org</a>\n",
    "  </td>\n",
    "  <td>\n",
    "    <a target=\"_blank\" href=\"https://colab.research.google.com/github/tensorflow/text/blob/master/docs/tutorials/text_classification_rnn.ipynb\"><img src=\"https://www.tensorflow.org/images/colab_logo_32px.png\" />Run in Google Colab</a>\n",
    "  </td>\n",
    "  <td>\n",
    "    <a target=\"_blank\" href=\"https://github.com/tensorflow/text/blob/master/docs/tutorials/text_classification_rnn.ipynb\"><img src=\"https://www.tensorflow.org/images/GitHub-Mark-32px.png\" />View source on GitHub</a>\n",
    "  </td>\n",
    "  <td>\n",
    "    <a href=\"https://storage.googleapis.com/tensorflow_docs/text/docs/tutorials/text_classification_rnn.ipynb\"><img src=\"https://www.tensorflow.org/images/download_logo_32px.png\" />Download notebook</a>\n",
    "  </td>\n",
    "</table>"
   ]
  },
  {
   "cell_type": "markdown",
   "metadata": {
    "id": "lUWearf0Gw-p"
   },
   "source": [
    "This text classification tutorial trains a [recurrent neural network](https://developers.google.com/machine-learning/glossary/#recurrent_neural_network) on the [IMDB large movie review dataset](http://ai.stanford.edu/~amaas/data/sentiment/) for sentiment analysis."
   ]
  },
  {
   "cell_type": "markdown",
   "metadata": {
    "id": "_2VQo4bajwUU"
   },
   "source": [
    "## Setup"
   ]
  },
  {
   "cell_type": "code",
   "execution_count": 2,
   "metadata": {
    "execution": {
     "iopub.execute_input": "2021-11-02T15:50:32.600658Z",
     "iopub.status.busy": "2021-11-02T15:50:32.600048Z",
     "iopub.status.idle": "2021-11-02T15:50:34.697251Z",
     "shell.execute_reply": "2021-11-02T15:50:34.696671Z"
    },
    "id": "z682XYsrjkY9"
   },
   "outputs": [],
   "source": [
    "import numpy as np\n",
    "\n",
    "import tensorflow_datasets as tfds\n",
    "import tensorflow as tf\n",
    "\n",
    "tfds.disable_progress_bar()\n",
    "np.set_printoptions(precision=3, suppress=True)"
   ]
  },
  {
   "cell_type": "markdown",
   "metadata": {
    "id": "1rXHa-w9JZhb"
   },
   "source": [
    "Import `matplotlib` and create a helper function to plot graphs:"
   ]
  },
  {
   "cell_type": "code",
   "execution_count": 3,
   "metadata": {
    "execution": {
     "iopub.execute_input": "2021-11-02T15:50:34.702573Z",
     "iopub.status.busy": "2021-11-02T15:50:34.701983Z",
     "iopub.status.idle": "2021-11-02T15:50:34.934678Z",
     "shell.execute_reply": "2021-11-02T15:50:34.934132Z"
    },
    "id": "Mp1Z7P9pYRSK"
   },
   "outputs": [],
   "source": [
    "import matplotlib.pyplot as plt\n",
    "\n",
    "\n",
    "def plot_graphs(history, metric):\n",
    "  plt.plot(history.history[metric])\n",
    "  plt.plot(history.history['val_'+metric], '')\n",
    "  plt.xlabel(\"Epochs\")\n",
    "  plt.ylabel(metric)\n",
    "  plt.legend([metric, 'val_'+metric])"
   ]
  },
  {
   "cell_type": "markdown",
   "metadata": {
    "id": "pRmMubr0jrE2"
   },
   "source": [
    "## Setup input pipeline\n",
    "\n",
    "\n",
    "The IMDB large movie review dataset is a *binary classification* dataset—all the reviews have either a *positive* or *negative* sentiment.\n",
    "\n",
    "Download the dataset using [TFDS](https://www.tensorflow.org/datasets). See the [loading text tutorial](https://www.tensorflow.org/tutorials/load_data/text) for details on how to load this sort of data manually.\n"
   ]
  },
  {
   "cell_type": "code",
   "execution_count": 4,
   "metadata": {},
   "outputs": [
    {
     "name": "stdout",
     "output_type": "stream",
     "text": [
      "[155127, 62177]\n"
     ]
    },
    {
     "data": {
      "image/png": "[encoded data removed]",
      "text/plain": [
       "<Figure size 432x288 with 1 Axes>"
      ]
     },
     "metadata": {
      "needs_background": "light"
     },
     "output_type": "display_data"
    },
    {
     "data": {
      "text/plain": [
       "<Figure size 1152x432 with 0 Axes>"
      ]
     },
     "metadata": {},
     "output_type": "display_data"
    }
   ],
   "source": [
    "import numpy as np\n",
    "import pandas as pd\n",
    "from sklearn.model_selection import train_test_split\n",
    "import matplotlib.pyplot as plt\n",
    "\n",
    "\n",
    "#\n",
    "# Load the csv data.\n",
    "#\n",
    "def load_data_arrays():\n",
    "    df_1 = pd.read_csv(\"datasets/1_preprocessed.csv\")\n",
    "    df_3 = pd.read_csv(\"datasets/3_preprocessed.csv\")\n",
    "    df_5 = pd.read_csv(\"datasets/5_preprocessed.csv\")\n",
    "    df_6 = pd.read_csv(\"datasets/6_preprocessed.csv\")\n",
    "    \n",
    "    df = df_1.append(df_3)\n",
    "    df = df.append(df_5)\n",
    "    df = df.append(df_6)\n",
    "    \n",
    "    train_df, test_df = train_test_split(df, test_size=0.2, random_state=42, shuffle=True, stratify=df[\"is_hatespeech\"])\n",
    "    \n",
    "    return train_df, test_df\n",
    "\n",
    "def plot_data_distribution(labels_1, label_2):\n",
    "    total = labels_1.reshape(-1).tolist()\n",
    "    total.extend(label_2.reshape(-1).tolist())\n",
    "    bins = sorted(list(set(total)))\n",
    "\n",
    "    plt.bar(bins, [total.count(bin_val) for bin_val in bins])\n",
    "    print([total.count(bin_val) for bin_val in bins])\n",
    "    plt.xticks(bins,\n",
    "               [\"No Hatespeech\", \"Hatespeech\"],\n",
    "               rotation=45,\n",
    "               rotation_mode=\"anchor\",\n",
    "               ha=\"right\")\n",
    "\n",
    "    plt.subplots_adjust(bottom=0.3)\n",
    "    plt.figure(figsize=(16, 6))\n",
    "    plt.show()\n",
    "\n",
    "train_df, test_df = load_data_arrays()\n",
    "\n",
    "\n",
    "plot_data_distribution(train_df['is_hatespeech'].values, test_df['is_hatespeech'].values)"
   ]
  },
  {
   "cell_type": "code",
   "execution_count": 5,
   "metadata": {},
   "outputs": [],
   "source": [
    "# Convert the test- and train-DataFrames to Tensorflow Datasets\n",
    "\n",
    "train_labels = np.eye(2)[train_df['is_hatespeech'].values]\n",
    "train_dataset = (\n",
    "    tf.data.Dataset.from_tensor_slices(\n",
    "        (\n",
    "            tf.cast(np.asarray(train_df['text'].values, dtype=str), tf.string),\n",
    "            tf.cast(train_labels, tf.int32)\n",
    "        )\n",
    "    )\n",
    ")\n",
    "\n",
    "test_labels = np.eye(2)[test_df['is_hatespeech'].values]\n",
    "test_dataset = (\n",
    "    tf.data.Dataset.from_tensor_slices(\n",
    "        (\n",
    "            tf.cast(np.asarray(test_df['text'].values, dtype=str), tf.string),\n",
    "            tf.cast(test_labels, tf.int32)\n",
    "        )\n",
    "    )\n",
    ")"
   ]
  },
  {
   "cell_type": "markdown",
   "metadata": {
    "id": "z2qVJzcEluH_"
   },
   "source": [
    "Next shuffle the data for training and create batches of these `(text, label)` pairs:"
   ]
  },
  {
   "cell_type": "code",
   "execution_count": 6,
   "metadata": {
    "execution": {
     "iopub.execute_input": "2021-11-02T15:50:42.831318Z",
     "iopub.status.busy": "2021-11-02T15:50:42.830698Z",
     "iopub.status.idle": "2021-11-02T15:50:42.832648Z",
     "shell.execute_reply": "2021-11-02T15:50:42.832975Z"
    },
    "id": "dDsCaZCDYZgm",
    "pycharm": {
     "is_executing": true
    }
   },
   "outputs": [],
   "source": [
    "BUFFER_SIZE = 1000\n",
    "BATCH_SIZE = 64"
   ]
  },
  {
   "cell_type": "code",
   "execution_count": 7,
   "metadata": {
    "execution": {
     "iopub.execute_input": "2021-11-02T15:50:42.837775Z",
     "iopub.status.busy": "2021-11-02T15:50:42.837138Z",
     "iopub.status.idle": "2021-11-02T15:50:42.841349Z",
     "shell.execute_reply": "2021-11-02T15:50:42.841706Z"
    },
    "id": "VznrltNOnUc5",
    "pycharm": {
     "is_executing": true
    }
   },
   "outputs": [],
   "source": [
    "train_dataset = train_dataset.shuffle(BUFFER_SIZE).batch(BATCH_SIZE).prefetch(tf.data.AUTOTUNE)\n",
    "test_dataset = test_dataset.batch(BATCH_SIZE).prefetch(tf.data.AUTOTUNE)"
   ]
  },
  {
   "cell_type": "code",
   "execution_count": 8,
   "metadata": {
    "execution": {
     "iopub.execute_input": "2021-11-02T15:50:42.846034Z",
     "iopub.status.busy": "2021-11-02T15:50:42.845470Z",
     "iopub.status.idle": "2021-11-02T15:50:45.126272Z",
     "shell.execute_reply": "2021-11-02T15:50:45.126652Z"
    },
    "id": "jqkvdcFv41wC",
    "pycharm": {
     "is_executing": true
    }
   },
   "outputs": [
    {
     "name": "stdout",
     "output_type": "stream",
     "text": [
      "texts:  [b'utc george tenet was a democrat 63226104225 1701 14 june 2010'\n",
      " b'censorship why was the censorship section removed'\n",
      " b'bobby bitch make that body flip you know i dont know karate bitch'\n",
      " b'bitch u 1'\n",
      " b'ps for the record here are todays changes against the current toc is intro rewritten 1 writing a \\xcf\\x86base number in standard form original maybe minor edits 2 representing integers as golden mean base numbers no change 21 nonuniqueness new 3 representing rationals as golden mean base numbers new what got me started 4 addition subtraction multiplication rewritten 41 calculate then convert to standard form was old section 4 42 avoiding digits other than 0 and 1 a new point of view 5 division rewritten 6 a close relation fibonacci representation new 7 external links orig'\n",
      " b'you people are pretty overzealous with this whole free thing get a fucking life you fucking niggers 23 16'\n",
      " b'looks like theres a fullscale editwar going on again so i will be staying away i thought it was stable so i corrected a grammatical nonsense if a thing never happens again you can say that the following day it didnt happen or several months later it didnt happen or fifty years later it didnt happen and no one of those statements makes more sense than any other on the other hand if a thing does happen for instance at the end of a year when it is expected to happen you can still say that after several months it didnt happen and that might be quite true although it would still be nonsensical and in this case also misleading i changed it to bucks contract with vogue was not renewed period which in fact gives exactly the same amount of information if you knew when the contract was due to be removed you could say that and that would be a useful addition but nobody has ever thought to do that in any case if youre busting a blood vessel and writing a splenetic message on somebodys talk page over such a simple edit it might be time for you to take a step back and try to get a sense of proportion it looks as though youre letting that article take over your life and that is not healthy'\n",
      " b'idiot youre an idiot i just realized that when you blocked me you said it was because i was using my ip address as a sockpuppet to avoid a block obviously the way i was editing pages and attacking people showed that i didnt care if i was blocked if i left any comments on your page as anything but emokid its because occasionally the website will sign me off when i go to a different page also just curious when that block ends anyway'\n",
      " b'7seriesbot we got a thanks here talk\\xe2\\x86\\x92 \\xe2\\x86\\x90track'\n",
      " b'why the fuck does zakusage think he owns this page i mean seriously anytime anyone edits it he reverts it wikipedia rules say you dont get to own pages zakusage this is your one warning next time you pull this page owning crap im filing for having you removed'\n",
      " b'jared israels claim that he fired gilwhite from tenc\\nafter an email correspondance with prof gilwhite himself about this claim i recieved the following response dear ryan in reply to your question concerning somebodys claim on my wiki page that\\ni was fired by jared israel from emperors clothes this is false i was\\nnever fired by jared israel because i was nevery in his employ there was\\nnever a contract that made jared israel my employer my work for emperors\\nclothes was volunteer work jared israel and i had some differences and i\\nquit moreover since i was supporting jared israel and emperors clothes\\nfinancially at the time if anything it was i who employed jared israel i\\nhave the email that i sent him in which i quit if wikipedia needs to see\\nit but the whole thing seems rather irrelevant to me and i doubt that\\nevery personal dispute a person has with another person needs to be on\\nwikipedia best francisco gilwhite i have therefore removed all mention of such a firing and i think it is best if the particular claims about steven wise and the shoah etc be kept on the blog discussion pages they are on as they dont seem too relevant to this biographical page as a further note please keep all major edits on the discussion page before changing the bio\\ntalk'\n",
      " b'rt this bitch tried to give my dick a hickey'\n",
      " b'citation for maths vs math i am not a registered user but can somebody find a citation for maths vs math im an american having an argument with a british friend over whether mathematics is plural or singular i say it is singular therefore mathematics should be shortened to math but he insists that mathematics refers to a diversity of strands and is therefore plurally maths'\n",
      " b'victorian morality\\nhi sundar i see that you put a cleanup flag on victorian morality perhaps you could go to talkvictorian morality and describe the chages you seek \\xe2\\x80\\x94 talk'\n",
      " b'currently the lede is too long and contains a lot of superfluous material giving a huge undue weight to one side of the dispute i will work on shortening it in the next few days'\n",
      " b'attention brought to administrators here and here vesey\\xc2\\xa0review me'\n",
      " b'go fuck yourself and block me you cunt'\n",
      " b'pov change removed a sentence in military secrecy that referenced doublespeak because i felt it sounded accusatory and paranoid\\n76213517'\n",
      " b'just what i knew from being in and learning about japan really but there are a few websites especially if you read japanese and quite a few books available 1621 nov 15 2004 utc'\n",
      " b'your edits on the wikipedia list of ukrainians\\ndavid eppstein thank you for clarifying your position david eppstein wikipedia is not a milieu for promoting ones ethnic hatred towards the things ukrainian ukrainian history culture or politics your mentioning of the wpnpov clause is very appropriate in case you have not noticed david eppstein luckily for us ukrainians we are no longer living in the days of ussr komintern and cheka i hope you understand that the days when kommissarsteins were deciding what has or has not anything to do with ukraine are over david eppstein please consider contributing to wikipedia constructively and not destructively'\n",
      " b'quick fail criteria has reliable sources is written neutrally no valid cleanup tags is relatively stable with no edit wars not specifically concerned with a rapidly unfolding current event with a definite endpoint article passes quick fail criteria a more detailed review will follow \\xe2\\x99\\xa5\\xe2\\x99\\xa5vampire\\xe2\\x99\\xa5heart\\xe2\\x99\\xa5'\n",
      " b'excellent article\\nexcellentlysourced article my congratulations and thanks to its creators it seems worth applying for good article status as a history article if nobody wants to take the initiative i may return and nominate it myself speaker for the dead'\n",
      " b'email sent with last version of your page'\n",
      " b'attention\\nthis ip address is registered to america online london uk and is shared by multiple users comments left on this page may be received by other users of this ip and appear to be irrelevant caution should be used when blocking this ip or reverting its contributions without checking in the event of vandalism from this address efforts will be made to contact america online london uk to report abuse if you are an unregistered user operating from this address note that this need not necessarily be the ip address of your machine in many cases it turns out to be the ip address of a proxy server that communicates between your browser and the wikimedia servers such proxies are shared among a huge number of users compared to the number of persons using your particular machine if you are frustrated by irrelevant comments appearing here you can avoid them by creating an account for yourself however you will still be unable to edit wikipedia while the ip you are using is blocked'\n",
      " b'what i put re plagarism was put there a couple of days ago and disappeared again as they do to all i post'\n",
      " b'which doesnt even matter this is foo talk here 13112511515'\n",
      " b'thanks thanks for the joy message you made going off to a long day of school so much easier love talk'\n",
      " b'support the current government of india equates the crime of feticide us common law with abortion specifically sexselective abortion making it one of the few countries in the world along with nepal to do so essentially criminalising abortion regardless of the mothers rights causing a further scar in the issue of abortion rights therefore the lede change is warranted it would also be helpful to include somewhere maybe in the article of feticide a throughly explanation of the indian law explaining the differences with other legislatures'\n",
      " b'featured article absolutely pathetic that this is the best we can choose as a featured article we were doing so well until yet another video game article comes along the nerds really are in control of this site and this is exactly why i dont contribute to wikipedia anymore'\n",
      " b'barry burns is a noted multi instrumentalist he undebiably meets the criteria for the definition and he is noted because mogwais albums are considered important frequently making bestof critics lists you dont have to sell as many albums as radiohead to be noted unless you plan on changing the definition to commercially viable userpedimedia1'\n",
      " b'if its something that needs immediate attention randi works as well'\n",
      " b'boy this is the most understated thing ive read here on wikipedia while the current details about zcmi are pretty good and the list of stores when the chain wwas closed down is pretty accurate it is hardly an exaustive list of stores that have been in existance virtually every mormon community had a version of zcmi at one time or another and some decidedly nonmormon communities as well the most remarkable being a zcmi set up in rapid city south dakota in addition a huge part of the history of zcmi is tied directly with the history of utah including the petition for utah statehood and the fight between the mormons and the gentiles during the territorial days of utah part of this history should include how members of the lds church would face excommunication if they shopped anywhere except at zcmi i am not kidding here several lds church members were removed from the church rolls because of this seemingly irrational justification based on modern sentiments keep in mind that there was a coordinated economic plan to try and push the nonmormons out of mormon influenced areas and this is really in keeping with other business traditions of 19th century america as well including standard oil and others that would be illegal with current fair trade laws saying that the lds church was a significant influences is hardly doing justice here the lds church owned the store lock stock and barrel and the decision to sell zcmi to may department stores was mainly a way for the lds church to get out of that sort of business what is surprising is that is was a subsiderary of the lds church for so long making it into the 21st century the lds church has divested itself from other businesses it started back elsewhen like a sugar company and a chain of hospitals and in that context zcmi is just one of several aspects of life in utah'\n",
      " b'rt we dont want no skinny bitches get out we want big booty bitches'\n",
      " b'the original discussion is here'\n",
      " b'1 feb 2004 utc\\nthats not the issue the issue is that you are deleting large amounts of factual content without bothering to dispute or even discuss it in detail and replacing it with a large amount of pov commentary and speculation this is supposed to be an encyclopedia entry not an oped page 1023'\n",
      " b'onto others by pasting this code into their talk page software invite with the following heading wikiproject software thanks talk \\xe2\\x97\\x8f spider loc young buck controversy hey boss what is the issue you have with the spider loc and young buck controversy that you keep deleting the entire paragraph after numerous users have updated and added content to it are you not recognizing the beef as factual check out spider locs homepage or myspace page or any one of a thousand websites including mtv that have covered the controversy i think at the very least there needs to be a section for this controversy considering spider has released several diss tracks on mixtapes and has confirmed that the primary diss track lean on me will be appear on his next album i wont reedit the page until i hear back from you but please consider the addition as i think it adds a lot to the page thanks 2098719421 it just needs a cite from a reliable publication see wprs otherwise it falls under original research which is generally not permitted especially so for wpblp articles whut up homie why did you delete my information on the butterfly rob was not the lead in the story plus you deleted the info on his kids why i take it you are a juggalo right then you sjould know how important that story is i have been a down with icp for 12 years and know there history matter of fact i am sitting here with joes book in front of me i am goin to go ahead and put back my stuff you deleted mcl butterfly i went ahead and put the chapters up on the behind the paint link wich the first chapter is the citation \\xe2\\x80\\x94preceding unsigned comment added by talk \\xe2\\x80\\xa2 contribs joseph bruce i understand your edits thanks for your patience but there is a problem with the user he seems not to listen and even became angry with me when i tried to explain that he is writing information that is not necessary im not sure what to do with him it seems he does not care to even listen to the rules maybe you can do something there isnt much i can do other than try to explain it the same way you did he appears to be a newly registered editor and does not understand how wikipedia operates yet well thank you anyway that means ftfo wptaboo hi interested in your thoughts on this jake gyllenhaal hey i noticed you recently reverted someone on jake gyllenhaal and asked them to cite their sources i thought you might like to know that the info is already in the article well sourced and well written have a nice day the rickk antivandalism barnstar the rickk antivandalism barnstar for your excellent job with reverting vandalism and challenging unsourced information in the travis mccoy article i hereby award you the rickk antivandalism barnstar keep up the great work broil i agree with you about requiring strong sources for any information'\n",
      " b'a tag has been placed on pajama test requesting that it be speedily deleted from wikipedia this has been done because the page appears to have no meaningful content or history and the text is unsalvageably incoherent if you think that this notice was placed here in error you may contest the deletion to do this add on the top of the page just below the existing speedy deletion or db tag and leave a note on the pages talk page explaining your position please do not remove the speedy deletion tag yourself if the page you created was a test please use the sandbox for any other experiments you would like to do feel free to leave a message on my talk page if you have any questions about this'\n",
      " b'barnstar thanks very much nice to see you back snowman'\n",
      " b'welcome hello pinthke and welcome to wikipedia thank you for your contributions i hope you like this place and decide to stay here are some pages that you might find helpful\\nintroduction\\nthe five pillars of wikipedia\\nhow to edit a page\\nhelp\\nhow to write a great article\\nsimplified manual of style please sign your name on talk pages using four tildes this will automatically produce your username and the date if you need help check out wikipediaquestions ask me on my talk page or place helpme on your talk page and ask your question there again welcome talk\\xe2\\x80\\xa2contribs'\n",
      " b'dead id hate to brake it to you guys but 73 million people didnt die in this war thats the most liberal assessment ive ever heard most put it at around 60 million bobby'\n",
      " b'on twitter you dont know who you are talking to oh this woman couldnt be a software dev oh lordy'\n",
      " b'hello abecedare i do not understand your speedy deletion criteria for ayyangar photo of the former lok sabha speaker it is in public domain as it was clickedmore than 60 years could you please elaborate on the speedy deletion criteria we need some evidence that the photograph was taken before 1949before we can claim that the image is public domain in india do you have any such indication'\n",
      " b'dont blame the players blame the gameblame wpwiafa 1c'\n",
      " b'wtf you talking fcker\\nyou stupid arshole your momma is btch talk people with respect you sob summon'\n",
      " b'giambiville what the hell asshole'\n",
      " b'oppose largely for the same reasons stated by sawblade5 additionally while i can appreciate the idea behind the merge combining 10pin with the broader bowling would result in readability and structural issues'\n",
      " b'response so put it in other mps article a full year ago thats not a longtime this is supposed to be a biography not her latest news it has a lot of bearing on her work as it indicates what position she takes on issues like accountability and frugality with taxpayers money'\n",
      " b'when you gonna take me out rt some hoes not gonna let you come over until you spend money on themlisten'\n",
      " b'i have no objection to you placing these candidates on the page however i want to make it very clear that it is not our job as wikipedians to bring social change the fact that third party candidates are less prominent less influential less wellknown and far less important to the article merits the gallery for third party candidates talk'\n",
      " b'for how long has it said he is anglo irish the change you made breaks with the consensus of the past which is why you should debate it here first im perfectly entitled to revert your change one last time but im sure you would undo it anyway why say irish anglo irish when you can say anglo irish that seems fine to me so i oppose the change if others here feel differently so be it i dont feel strongly about this matter i just dont like to see a change take place to something which has been handled the same way for some time without agreement on the talk page first'\n",
      " b'rt am i the only one tht see these hoes pattern they stop tweet for 3 to 4 weeks and come bac with the same love tweets bout'\n",
      " b'hmmm there is a way to do this ill see if i can remember what the code is gabsadds'\n",
      " b'i thought that editor is some wikipedia role but anyway even if its just the people editing articles im not an editor as i only wanted to put some order and fixes in the article after ive read it and saw it was so clumsy and cum means orgasm i dont get whats so hard for you to understand but i must note that ive already seen several consecutive writing errors for you so i dont think that youre the one who need to insistingly argue and revert my editings when im translating exactly what it is and i didnt understand what were you talking about with that upper case thing'\n",
      " b'again there was not a problem with this article until two days ago the boston e thomas article has been on line since feb 28 2008 was the last excepted edited done on this article this article did not have a copyright issue the article was tagged because it did not sight any refereces or sources not because of a copyright issue now that i am not allowed to edited my contributions that with the help of some wikipedia editors are now being deleted talk latour genealogical collection'\n",
      " b'the only thing better than a bargain is a yankee bargain'\n",
      " b'just because you dont realise that they are valid doesnt render them invalid the problem is not with the arguments provided to you as evidenced by your overall reaction or rather nonreaction everyme'\n",
      " b'thats another discussion really my point is that the content of that article concerns tiein companions or whatever you want to call it that arent notable enough for their own articles talk \\xe2\\x80\\xa2 contribs'\n",
      " b'at the bottom it lists different wyoming cities one of these reads bristol and links to bristol ri why'\n",
      " b'warning why did you warn me for what im war with ultrachristians ultraracist and other jerks warn me for whatcontributions622484219'\n",
      " b'jimbo wales stupid' b'why do u love removing stuff moli admin'\n",
      " b'userbox borderc000000 borders1 idc666666 ids12 idfcffffff idop infoc777777 infos8 infofcffffff infolh12em infoop id infothis user is frustrated because he is blocked and cannot do anything'\n",
      " b'holi greetings hi i am wishing you a happy holi the unique indian celebration of color and brotherhood among all members of the humanity the festival falls on 15th march 2006 i have collected a gift pack of quotationsfor you contained in the sections do things differently and something more which are part of the ongoing discussion pertaining to my nomination of for adminship you are aware of the tradition that if you throw colored water on flames of burning holika you enable a prahlad to emerge from the flames i again convey holi greetings to you and your family'\n",
      " b'bitch watch tf out u on moose meat now']\n",
      "\n",
      "labels:  [[1 0]\n",
      " [1 0]\n",
      " [0 1]\n",
      " [0 1]\n",
      " [1 0]\n",
      " [0 1]\n",
      " [1 0]\n",
      " [0 1]\n",
      " [1 0]\n",
      " [0 1]\n",
      " [1 0]\n",
      " [0 1]\n",
      " [1 0]\n",
      " [1 0]\n",
      " [1 0]\n",
      " [1 0]\n",
      " [0 1]\n",
      " [1 0]\n",
      " [1 0]\n",
      " [1 0]\n",
      " [1 0]\n",
      " [1 0]\n",
      " [1 0]\n",
      " [1 0]\n",
      " [1 0]\n",
      " [1 0]\n",
      " [1 0]\n",
      " [1 0]\n",
      " [0 1]\n",
      " [1 0]\n",
      " [1 0]\n",
      " [1 0]\n",
      " [0 1]\n",
      " [1 0]\n",
      " [1 0]\n",
      " [1 0]\n",
      " [1 0]\n",
      " [1 0]\n",
      " [1 0]\n",
      " [1 0]\n",
      " [1 0]\n",
      " [1 0]\n",
      " [1 0]\n",
      " [0 1]\n",
      " [0 1]\n",
      " [1 0]\n",
      " [1 0]\n",
      " [0 1]\n",
      " [1 0]\n",
      " [1 0]\n",
      " [0 1]\n",
      " [1 0]\n",
      " [1 0]\n",
      " [1 0]\n",
      " [1 0]\n",
      " [1 0]\n",
      " [1 0]\n",
      " [1 0]\n",
      " [0 1]\n",
      " [0 1]\n",
      " [1 0]\n",
      " [1 0]\n",
      " [1 0]\n",
      " [0 1]]\n"
     ]
    }
   ],
   "source": [
    "for example, label in train_dataset.take(1):\n",
    "  print('texts: ', example.numpy())\n",
    "  print()\n",
    "  print('labels: ', label.numpy())"
   ]
  },
  {
   "cell_type": "markdown",
   "metadata": {
    "id": "s5eWCo88voPY"
   },
   "source": [
    "## Create the text encoder"
   ]
  },
  {
   "cell_type": "markdown",
   "metadata": {
    "id": "TFevcItw15P_"
   },
   "source": [
    "The raw text loaded by `tfds` needs to be processed before it can be used in a model. The simplest way to process text for training is using the `TextVectorization` layer. This layer has many capabilities, but this tutorial sticks to the default behavior.\n",
    "\n",
    "Create the layer, and pass the dataset's text to the layer's `.adapt` method:"
   ]
  },
  {
   "cell_type": "code",
   "execution_count": 9,
   "metadata": {
    "execution": {
     "iopub.execute_input": "2021-11-02T15:50:45.131867Z",
     "iopub.status.busy": "2021-11-02T15:50:45.131251Z",
     "iopub.status.idle": "2021-11-02T15:50:48.294934Z",
     "shell.execute_reply": "2021-11-02T15:50:48.295429Z"
    },
    "id": "uC25Lu1Yvuqy",
    "pycharm": {
     "is_executing": true
    }
   },
   "outputs": [],
   "source": [
    "VOCAB_SIZE = 2000\n",
    "encoder = tf.keras.layers.TextVectorization(\n",
    "    max_tokens=VOCAB_SIZE)\n",
    "encoder.adapt(train_dataset.map(lambda text, label: text))"
   ]
  },
  {
   "cell_type": "markdown",
   "metadata": {
    "id": "IuQzVBbe3Ldu"
   },
   "source": [
    "The `.adapt` method sets the layer's vocabulary. Here are the first 20 tokens. After the padding and unknown tokens they're sorted by frequency: "
   ]
  },
  {
   "cell_type": "code",
   "execution_count": 10,
   "metadata": {
    "execution": {
     "iopub.execute_input": "2021-11-02T15:50:48.299858Z",
     "iopub.status.busy": "2021-11-02T15:50:48.299279Z",
     "iopub.status.idle": "2021-11-02T15:50:48.305058Z",
     "shell.execute_reply": "2021-11-02T15:50:48.304619Z"
    },
    "id": "tBoyjjWg0Ac9",
    "pycharm": {
     "is_executing": true
    }
   },
   "outputs": [
    {
     "data": {
      "text/plain": [
       "array(['', '[UNK]', 'the', 'to', 'you', 'a', 'and', 'of', 'i', 'is',\n",
       "       'that', 'in', 'it', 'for', 'this', 'not', 'on', 'be', 'are', 'as'],\n",
       "      dtype='<U23')"
      ]
     },
     "execution_count": 10,
     "metadata": {},
     "output_type": "execute_result"
    }
   ],
   "source": [
    "vocab = np.array(encoder.get_vocabulary())\n",
    "vocab[:20]"
   ]
  },
  {
   "cell_type": "markdown",
   "metadata": {
    "id": "mjId5pua3jHQ"
   },
   "source": [
    "Once the vocabulary is set, the layer can encode text into indices. The tensors of indices are 0-padded to the longest sequence in the batch (unless you set a fixed `output_sequence_length`):"
   ]
  },
  {
   "cell_type": "code",
   "execution_count": 11,
   "metadata": {
    "execution": {
     "iopub.execute_input": "2021-11-02T15:50:48.308818Z",
     "iopub.status.busy": "2021-11-02T15:50:48.308274Z",
     "iopub.status.idle": "2021-11-02T15:50:48.321984Z",
     "shell.execute_reply": "2021-11-02T15:50:48.322347Z"
    },
    "id": "RGc7C9WiwRWs",
    "pycharm": {
     "is_executing": true
    }
   },
   "outputs": [
    {
     "data": {
      "text/plain": [
       "array([[ 196, 1318,    1, ...,    0,    0,    0],\n",
       "       [1820,   78,   24, ...,    0,    0,    0],\n",
       "       [   1,  104,   98, ...,    0,    0,    0]], dtype=int64)"
      ]
     },
     "execution_count": 11,
     "metadata": {},
     "output_type": "execute_result"
    }
   ],
   "source": [
    "encoded_example = encoder(example)[:3].numpy()\n",
    "encoded_example"
   ]
  },
  {
   "cell_type": "markdown",
   "metadata": {
    "id": "F5cjz0bS39IN"
   },
   "source": [
    "With the default settings, the process is not completely reversible. There are three main reasons for that:\n",
    "\n",
    "1. The default value for `preprocessing.TextVectorization`'s `standardize` argument is `\"lower_and_strip_punctuation\"`.\n",
    "2. The limited vocabulary size and lack of character-based fallback results in some unknown tokens."
   ]
  },
  {
   "cell_type": "code",
   "execution_count": 12,
   "metadata": {
    "execution": {
     "iopub.execute_input": "2021-11-02T15:50:48.327153Z",
     "iopub.status.busy": "2021-11-02T15:50:48.326376Z",
     "iopub.status.idle": "2021-11-02T15:50:48.332236Z",
     "shell.execute_reply": "2021-11-02T15:50:48.331662Z"
    },
    "id": "N_tD0QY5wXaK",
    "pycharm": {
     "is_executing": true
    }
   },
   "outputs": [
    {
     "name": "stdout",
     "output_type": "stream",
     "text": [
      "Original:  b'utc george tenet was a democrat 63226104225 1701 14 june 2010'\n",
      "Round-trip:  utc george [UNK] was a [UNK] [UNK] [UNK] 14 june 2010                                                                                                                                                                                                                                                                                                                                                                                                                                                                                                                     \n",
      "\n",
      "Original:  b'censorship why was the censorship section removed'\n",
      "Round-trip:  censorship why was the censorship section removed                                                                                                                                                                                                                                                                                                                                                                                                                                                                                                                         \n",
      "\n",
      "Original:  b'bobby bitch make that body flip you know i dont know karate bitch'\n",
      "Round-trip:  [UNK] bitch make that body [UNK] you know i dont know [UNK] bitch                                                                                                                                                                                                                                                                                                                                                                                                                                                                                                                   \n",
      "\n"
     ]
    }
   ],
   "source": [
    "for n in range(3):\n",
    "  print(\"Original: \", example[n].numpy())\n",
    "  print(\"Round-trip: \", \" \".join(vocab[encoded_example[n]]))\n",
    "  print()"
   ]
  },
  {
   "cell_type": "markdown",
   "metadata": {
    "id": "bjUqGVBxGw-t"
   },
   "source": [
    "## Create the model"
   ]
  },
  {
   "cell_type": "markdown",
   "metadata": {
    "id": "bgs6nnSTGw-t"
   },
   "source": [
    "Above is a diagram of the model. \n",
    "\n",
    "1. This model can be build as a `tf.keras.Sequential`.\n",
    "\n",
    "2. The first layer is the `encoder`, which converts the text to a sequence of token indices.\n",
    "\n",
    "3. After the encoder is an embedding layer. An embedding layer stores one vector per word. When called, it converts the sequences of word indices to sequences of vectors. These vectors are trainable. After training (on enough data), words with similar meanings often have similar vectors.\n",
    "\n",
    "  This index-lookup is much more efficient than the equivalent operation of passing a one-hot encoded vector through a `tf.keras.layers.Dense` layer.\n",
    "\n",
    "4. A recurrent neural network (RNN) processes sequence input by iterating through the elements. RNNs pass the outputs from one timestep to their input on the next timestep.\n",
    "\n",
    "  The `tf.keras.layers.Bidirectional` wrapper can also be used with an RNN layer. This propagates the input forward and backwards through the RNN layer and then concatenates the final output. \n",
    "\n",
    "  * The main advantage of a bidirectional RNN is that the signal from the beginning of the input doesn't need to be processed all the way through every timestep to affect the output.  \n",
    "\n",
    "  * The main disadvantage of a bidirectional RNN is that you can't efficiently stream predictions as words are being added to the end.\n",
    "\n",
    "5. After the RNN has converted the sequence to a single vector the two `layers.Dense` do some final processing, and convert from this vector representation to a single logit as the classification output. \n"
   ]
  },
  {
   "cell_type": "markdown",
   "metadata": {
    "id": "V4fodCI7soQi"
   },
   "source": [
    "The code to implement this is below:"
   ]
  },
  {
   "cell_type": "code",
   "execution_count": 13,
   "metadata": {
    "execution": {
     "iopub.execute_input": "2021-11-02T15:50:48.337515Z",
     "iopub.status.busy": "2021-11-02T15:50:48.336851Z",
     "iopub.status.idle": "2021-11-02T15:50:49.682810Z",
     "shell.execute_reply": "2021-11-02T15:50:49.682208Z"
    },
    "id": "LwfoBkmRYcP3",
    "pycharm": {
     "is_executing": true
    },
    "scrolled": true
   },
   "outputs": [
    {
     "name": "stdout",
     "output_type": "stream",
     "text": [
      "Model: \"sequential\"\n",
      "_________________________________________________________________\n",
      " Layer (type)                Output Shape              Param #   \n",
      "=================================================================\n",
      " text_vectorization (TextVec  (None, None)             0         \n",
      " torization)                                                     \n",
      "                                                                 \n",
      " embedding (Embedding)       (None, None, 64)          128000    \n",
      "                                                                 \n",
      " bidirectional (Bidirectiona  (None, 128)              66048     \n",
      " l)                                                              \n",
      "                                                                 \n",
      " dense (Dense)               (None, 64)                8256      \n",
      "                                                                 \n",
      " dense_1 (Dense)             (None, 2)                 130       \n",
      "                                                                 \n",
      "=================================================================\n",
      "Total params: 202,434\n",
      "Trainable params: 202,434\n",
      "Non-trainable params: 0\n",
      "_________________________________________________________________\n",
      "None\n"
     ]
    }
   ],
   "source": [
    "model = tf.keras.Sequential([\n",
    "    encoder,\n",
    "    tf.keras.layers.Embedding(\n",
    "        input_dim=len(encoder.get_vocabulary()),\n",
    "        output_dim=64,\n",
    "        # Use masking to handle the variable sequence lengths\n",
    "        mask_zero=True),\n",
    "    tf.keras.layers.Bidirectional(tf.keras.layers.LSTM(64)),\n",
    "    tf.keras.layers.Dense(64, activation='relu'),\n",
    "    tf.keras.layers.Dense(2, activation='softmax')\n",
    "])\n",
    "\n",
    "print(model.summary())"
   ]
  },
  {
   "cell_type": "markdown",
   "metadata": {
    "id": "QIGmIGkkouUb"
   },
   "source": [
    "Please note that Keras sequential model is used here since all the layers in the model only have single input and produce single output. In case you want to use stateful RNN layer, you might want to build your model with Keras functional API or model subclassing so that you can retrieve and reuse the RNN layer states. Please check [Keras RNN guide](https://www.tensorflow.org/guide/keras/rnn#rnn_state_reuse) for more details."
   ]
  },
  {
   "cell_type": "markdown",
   "metadata": {
    "id": "kF-PsCk1LwjY"
   },
   "source": [
    "The embedding layer [uses masking](https://www.tensorflow.org/guide/keras/masking_and_padding) to handle the varying sequence-lengths. All the layers after the `Embedding` support masking:"
   ]
  },
  {
   "cell_type": "code",
   "execution_count": 14,
   "metadata": {
    "execution": {
     "iopub.execute_input": "2021-11-02T15:50:49.688412Z",
     "iopub.status.busy": "2021-11-02T15:50:49.687680Z",
     "iopub.status.idle": "2021-11-02T15:50:49.690180Z",
     "shell.execute_reply": "2021-11-02T15:50:49.690575Z"
    },
    "id": "87a8-CwfKebw",
    "pycharm": {
     "is_executing": true
    }
   },
   "outputs": [
    {
     "name": "stdout",
     "output_type": "stream",
     "text": [
      "[False, True, True, True, True]\n"
     ]
    }
   ],
   "source": [
    "print([layer.supports_masking for layer in model.layers])"
   ]
  },
  {
   "cell_type": "markdown",
   "metadata": {
    "id": "ZlS0iaUIWLpI"
   },
   "source": [
    "To confirm that this works as expected, evaluate a sentence twice. First, alone so there's no padding to mask:"
   ]
  },
  {
   "cell_type": "code",
   "execution_count": 15,
   "metadata": {
    "execution": {
     "iopub.execute_input": "2021-11-02T15:50:49.695532Z",
     "iopub.status.busy": "2021-11-02T15:50:49.694953Z",
     "iopub.status.idle": "2021-11-02T15:50:52.508631Z",
     "shell.execute_reply": "2021-11-02T15:50:52.509017Z"
    },
    "id": "O41gw3KfWHus",
    "pycharm": {
     "is_executing": true
    }
   },
   "outputs": [
    {
     "name": "stdout",
     "output_type": "stream",
     "text": [
      "[0.5 0.5]\n"
     ]
    }
   ],
   "source": [
    "# predict on a sample text without padding.\n",
    "\n",
    "sample_text = ('How are you doing')\n",
    "predictions = model.predict(np.array([sample_text]))\n",
    "print(predictions[0])"
   ]
  },
  {
   "cell_type": "markdown",
   "metadata": {
    "id": "K0VQmGnEWcuz"
   },
   "source": [
    "Now, evaluate it again in a batch with a longer sentence. The result should be identical:"
   ]
  },
  {
   "cell_type": "code",
   "execution_count": 16,
   "metadata": {
    "execution": {
     "iopub.execute_input": "2021-11-02T15:50:52.515111Z",
     "iopub.status.busy": "2021-11-02T15:50:52.514457Z",
     "iopub.status.idle": "2021-11-02T15:50:52.658235Z",
     "shell.execute_reply": "2021-11-02T15:50:52.658691Z"
    },
    "id": "UIgpuTeFNDzq",
    "pycharm": {
     "is_executing": true
    }
   },
   "outputs": [
    {
     "name": "stdout",
     "output_type": "stream",
     "text": [
      "[0.5 0.5]\n"
     ]
    }
   ],
   "source": [
    "# predict on a sample text with padding\n",
    "\n",
    "padding = \"How are you doing \" * 2000\n",
    "predictions = model.predict(np.array([sample_text, padding]))\n",
    "print(predictions[0])"
   ]
  },
  {
   "cell_type": "markdown",
   "metadata": {
    "id": "sRI776ZcH3Tf"
   },
   "source": [
    "Compile the Keras model to configure the training process:"
   ]
  },
  {
   "cell_type": "code",
   "execution_count": 17,
   "metadata": {
    "execution": {
     "iopub.execute_input": "2021-11-02T15:50:52.795749Z",
     "iopub.status.busy": "2021-11-02T15:50:52.794994Z",
     "iopub.status.idle": "2021-11-02T15:50:52.860291Z",
     "shell.execute_reply": "2021-11-02T15:50:52.860662Z"
    },
    "id": "kj2xei41YZjC",
    "pycharm": {
     "is_executing": true
    }
   },
   "outputs": [],
   "source": [
    "model.compile(loss=tf.keras.losses.CategoricalCrossentropy(),\n",
    "              optimizer=tf.keras.optimizers.Adam(0.0001),\n",
    "              metrics=['accuracy'])"
   ]
  },
  {
   "cell_type": "markdown",
   "metadata": {
    "id": "zIwH3nto596k"
   },
   "source": [
    "## Train the model"
   ]
  },
  {
   "cell_type": "code",
   "execution_count": 18,
   "metadata": {
    "execution": {
     "iopub.execute_input": "2021-11-02T15:50:52.865748Z",
     "iopub.status.busy": "2021-11-02T15:50:52.865047Z",
     "iopub.status.idle": "2021-11-02T15:56:08.899338Z",
     "shell.execute_reply": "2021-11-02T15:56:08.899791Z"
    },
    "id": "hw86wWS4YgR2",
    "pycharm": {
     "is_executing": true
    }
   },
   "outputs": [
    {
     "name": "stdout",
     "output_type": "stream",
     "text": [
      "Epoch 1/5\n",
      "2717/2717 [==============================] - 272s 98ms/step - loss: 0.2475 - accuracy: 0.8981 - val_loss: 0.2126 - val_accuracy: 0.9234\n",
      "Epoch 2/5\n",
      "2717/2717 [==============================] - 255s 94ms/step - loss: 0.1737 - accuracy: 0.9336 - val_loss: 0.2095 - val_accuracy: 0.9156\n",
      "Epoch 3/5\n",
      "2717/2717 [==============================] - 257s 95ms/step - loss: 0.1684 - accuracy: 0.9347 - val_loss: 0.2048 - val_accuracy: 0.9187\n",
      "Epoch 4/5\n",
      "2717/2717 [==============================] - 248s 91ms/step - loss: 0.1653 - accuracy: 0.9353 - val_loss: 0.2067 - val_accuracy: 0.9187\n",
      "Epoch 5/5\n",
      "2717/2717 [==============================] - 248s 91ms/step - loss: 0.1626 - accuracy: 0.9361 - val_loss: 0.2041 - val_accuracy: 0.9172\n"
     ]
    }
   ],
   "source": [
    "history = model.fit(train_dataset, epochs=5,\n",
    "                    validation_data=test_dataset,\n",
    "                    validation_steps=10)"
   ]
  },
  {
   "cell_type": "code",
   "execution_count": 19,
   "metadata": {
    "execution": {
     "iopub.execute_input": "2021-11-02T15:56:08.905181Z",
     "iopub.status.busy": "2021-11-02T15:56:08.904477Z",
     "iopub.status.idle": "2021-11-02T15:56:24.266040Z",
     "shell.execute_reply": "2021-11-02T15:56:24.266501Z"
    },
    "id": "BaNbXi43YgUT",
    "pycharm": {
     "is_executing": true
    }
   },
   "outputs": [
    {
     "name": "stdout",
     "output_type": "stream",
     "text": [
      "680/680 [==============================] - 22s 32ms/step - loss: 0.1874 - accuracy: 0.9269\n",
      "Test Loss: 0.18744468688964844\n",
      "Test Accuracy: 0.9268539547920227\n"
     ]
    }
   ],
   "source": [
    "test_loss, test_acc = model.evaluate(test_dataset)\n",
    "\n",
    "print('Test Loss:', test_loss)\n",
    "print('Test Accuracy:', test_acc)"
   ]
  },
  {
   "cell_type": "code",
   "execution_count": 31,
   "metadata": {},
   "outputs": [
    {
     "name": "stderr",
     "output_type": "stream",
     "text": [
      "Ein Unterverzeichnis oder eine Datei mit dem Namen \"models\" existiert bereits.\n",
      "WARNING:absl:Found untraced functions such as lstm_cell_1_layer_call_fn, lstm_cell_1_layer_call_and_return_conditional_losses, lstm_cell_2_layer_call_fn, lstm_cell_2_layer_call_and_return_conditional_losses, lstm_cell_1_layer_call_fn while saving (showing 5 of 10). These functions will not be directly callable after loading.\n"
     ]
    },
    {
     "name": "stdout",
     "output_type": "stream",
     "text": [
      "INFO:tensorflow:Assets written to: models/rnn_one_bigger_vocab\\assets\n"
     ]
    },
    {
     "name": "stderr",
     "output_type": "stream",
     "text": [
      "INFO:tensorflow:Assets written to: models/rnn_one_bigger_vocab\\assets\n",
      "WARNING:absl:<keras.layers.recurrent.LSTMCell object at 0x000001C18CC70130> has the same name 'LSTMCell' as a built-in Keras object. Consider renaming <class 'keras.layers.recurrent.LSTMCell'> to avoid naming conflicts when loading with `tf.keras.models.load_model`. If renaming is not possible, pass the object in the `custom_objects` parameter of the load function.\n",
      "WARNING:absl:<keras.layers.recurrent.LSTMCell object at 0x000001C1B2692910> has the same name 'LSTMCell' as a built-in Keras object. Consider renaming <class 'keras.layers.recurrent.LSTMCell'> to avoid naming conflicts when loading with `tf.keras.models.load_model`. If renaming is not possible, pass the object in the `custom_objects` parameter of the load function.\n"
     ]
    }
   ],
   "source": [
    "# Save the model\n",
    "!mkdir models\n",
    "model.save('models/rnn_one_bigger_vocab', save_format='tf')"
   ]
  },
  {
   "cell_type": "code",
   "execution_count": 21,
   "metadata": {
    "execution": {
     "iopub.execute_input": "2021-11-02T15:56:24.308793Z",
     "iopub.status.busy": "2021-11-02T15:56:24.286044Z",
     "iopub.status.idle": "2021-11-02T15:56:24.534404Z",
     "shell.execute_reply": "2021-11-02T15:56:24.534886Z"
    },
    "id": "OZmwt_mzaQJk",
    "pycharm": {
     "is_executing": true
    }
   },
   "outputs": [
    {
     "data": {
      "text/plain": [
       "(0.0, 0.25179038345813753)"
      ]
     },
     "execution_count": 21,
     "metadata": {},
     "output_type": "execute_result"
    },
    {
     "data": {
      "image/png": "[encoded data removed]",
      "text/plain": [
       "<Figure size 1152x576 with 2 Axes>"
      ]
     },
     "metadata": {
      "needs_background": "light"
     },
     "output_type": "display_data"
    }
   ],
   "source": [
    "plt.figure(figsize=(16, 8))\n",
    "plt.subplot(1, 2, 1)\n",
    "plot_graphs(history, 'accuracy')\n",
    "plt.ylim(None, 1)\n",
    "plt.subplot(1, 2, 2)\n",
    "plot_graphs(history, 'loss')\n",
    "plt.ylim(0, None)"
   ]
  },
  {
   "cell_type": "markdown",
   "metadata": {
    "id": "DwSE_386uhxD"
   },
   "source": [
    "Run a prediction on a new sentence:\n",
    "\n",
    "If the prediction is >= 0.0, it is positive else it is negative."
   ]
  },
  {
   "cell_type": "code",
   "execution_count": 22,
   "metadata": {
    "execution": {
     "iopub.execute_input": "2021-11-02T15:56:24.540123Z",
     "iopub.status.busy": "2021-11-02T15:56:24.539499Z",
     "iopub.status.idle": "2021-11-02T15:56:26.502611Z",
     "shell.execute_reply": "2021-11-02T15:56:26.502044Z"
    },
    "id": "ZXgfQSgRW6zU",
    "pycharm": {
     "is_executing": true
    }
   },
   "outputs": [
    {
     "name": "stdout",
     "output_type": "stream",
     "text": [
      "[[0.95 0.05]\n",
      " [0.   1.  ]]\n"
     ]
    }
   ],
   "source": [
    "sample_text = ['That was very nice of you to say', 'You stupid fucking bitch']\n",
    "predictions = model.predict(np.array(sample_text))\n",
    "print(predictions)"
   ]
  },
  {
   "cell_type": "markdown",
   "metadata": {
    "id": "7g1evcaRpTKm"
   },
   "source": [
    "## Stack two or more LSTM layers\n",
    "\n",
    "Keras recurrent layers have two available modes that are controlled by the `return_sequences` constructor argument:\n",
    "\n",
    "* If `False` it returns only the last output for each input sequence (a 2D tensor of shape (batch_size, output_features)). This is the default, used in the previous model.\n",
    "\n",
    "* If `True` the full sequences of successive outputs for each timestep is returned (a 3D tensor of shape `(batch_size, timesteps, output_features)`).\n",
    "\n",
    "Here is what the flow of information looks like with `return_sequences=True`:\n",
    "\n",
    "![layered_bidirectional](images/layered_bidirectional.png)"
   ]
  },
  {
   "cell_type": "markdown",
   "metadata": {
    "id": "wbSClCrG1z8l"
   },
   "source": [
    "The interesting thing about using an `RNN` with `return_sequences=True` is that the output still has 3-axes, like the input, so it can be passed to another RNN layer, like this:"
   ]
  },
  {
   "cell_type": "code",
   "execution_count": 23,
   "metadata": {
    "execution": {
     "iopub.execute_input": "2021-11-02T15:56:26.509313Z",
     "iopub.status.busy": "2021-11-02T15:56:26.508536Z",
     "iopub.status.idle": "2021-11-02T15:56:29.643331Z",
     "shell.execute_reply": "2021-11-02T15:56:29.642665Z"
    },
    "id": "jo1jjO3vn0jo",
    "pycharm": {
     "is_executing": true
    }
   },
   "outputs": [
    {
     "name": "stdout",
     "output_type": "stream",
     "text": [
      "Model: \"sequential_1\"\n",
      "_________________________________________________________________\n",
      " Layer (type)                Output Shape              Param #   \n",
      "=================================================================\n",
      " text_vectorization (TextVec  (None, None)             0         \n",
      " torization)                                                     \n",
      "                                                                 \n",
      " embedding_1 (Embedding)     (None, None, 64)          128000    \n",
      "                                                                 \n",
      " bidirectional_1 (Bidirectio  (None, None, 128)        66048     \n",
      " nal)                                                            \n",
      "                                                                 \n",
      " bidirectional_2 (Bidirectio  (None, 64)               41216     \n",
      " nal)                                                            \n",
      "                                                                 \n",
      " dense_2 (Dense)             (None, 64)                4160      \n",
      "                                                                 \n",
      " dropout (Dropout)           (None, 64)                0         \n",
      "                                                                 \n",
      " dense_3 (Dense)             (None, 2)                 130       \n",
      "                                                                 \n",
      "=================================================================\n",
      "Total params: 239,554\n",
      "Trainable params: 239,554\n",
      "Non-trainable params: 0\n",
      "_________________________________________________________________\n",
      "None\n"
     ]
    }
   ],
   "source": [
    "model_two = tf.keras.Sequential([\n",
    "    encoder,\n",
    "    tf.keras.layers.Embedding(len(encoder.get_vocabulary()), 64, mask_zero=True),\n",
    "    tf.keras.layers.Bidirectional(tf.keras.layers.LSTM(64,  return_sequences=True)),\n",
    "    tf.keras.layers.Bidirectional(tf.keras.layers.LSTM(32)),\n",
    "    tf.keras.layers.Dense(64, activation='relu'),\n",
    "    tf.keras.layers.Dropout(0.5),\n",
    "    tf.keras.layers.Dense(2, activation='softmax')\n",
    "])\n",
    "\n",
    "print(model_two.summary())"
   ]
  },
  {
   "cell_type": "code",
   "execution_count": 24,
   "metadata": {
    "execution": {
     "iopub.execute_input": "2021-11-02T15:56:29.647221Z",
     "iopub.status.busy": "2021-11-02T15:56:29.646587Z",
     "iopub.status.idle": "2021-11-02T15:56:29.653319Z",
     "shell.execute_reply": "2021-11-02T15:56:29.653676Z"
    },
    "id": "hEPV5jVGp-is",
    "pycharm": {
     "is_executing": true
    }
   },
   "outputs": [],
   "source": [
    "model_two.compile(loss=tf.keras.losses.CategoricalCrossentropy(),\n",
    "              optimizer=tf.keras.optimizers.Adam(0.0001),\n",
    "              metrics=['accuracy'])"
   ]
  },
  {
   "cell_type": "code",
   "execution_count": 25,
   "metadata": {
    "execution": {
     "iopub.execute_input": "2021-11-02T15:56:29.658306Z",
     "iopub.status.busy": "2021-11-02T15:56:29.657641Z",
     "iopub.status.idle": "2021-11-02T16:05:39.623362Z",
     "shell.execute_reply": "2021-11-02T16:05:39.622731Z"
    },
    "id": "LeSE-YjdqAeN",
    "pycharm": {
     "is_executing": true
    }
   },
   "outputs": [
    {
     "name": "stdout",
     "output_type": "stream",
     "text": [
      "Epoch 1/5\n",
      "2717/2717 [==============================] - 486s 175ms/step - loss: 0.2507 - accuracy: 0.9011 - val_loss: 0.2174 - val_accuracy: 0.9208\n",
      "Epoch 2/5\n",
      "2717/2717 [==============================] - 474s 174ms/step - loss: 0.1796 - accuracy: 0.9329 - val_loss: 0.1926 - val_accuracy: 0.9255\n",
      "Epoch 3/5\n",
      "2717/2717 [==============================] - 467s 172ms/step - loss: 0.1724 - accuracy: 0.9340 - val_loss: 0.1907 - val_accuracy: 0.9245\n",
      "Epoch 4/5\n",
      "2717/2717 [==============================] - 464s 171ms/step - loss: 0.1694 - accuracy: 0.9348 - val_loss: 0.1906 - val_accuracy: 0.9255\n",
      "Epoch 5/5\n",
      "2717/2717 [==============================] - 340s 125ms/step - loss: 0.1665 - accuracy: 0.9351 - val_loss: 0.1911 - val_accuracy: 0.9260\n"
     ]
    }
   ],
   "source": [
    "history_two = model_two.fit(train_dataset, epochs=5,\n",
    "                    validation_data=test_dataset,\n",
    "                    validation_steps=30)"
   ]
  },
  {
   "cell_type": "code",
   "execution_count": 26,
   "metadata": {
    "execution": {
     "iopub.execute_input": "2021-11-02T16:05:39.628681Z",
     "iopub.status.busy": "2021-11-02T16:05:39.627978Z",
     "iopub.status.idle": "2021-11-02T16:06:05.529389Z",
     "shell.execute_reply": "2021-11-02T16:06:05.528860Z"
    },
    "id": "_LdwilM1qPM3",
    "pycharm": {
     "is_executing": true
    }
   },
   "outputs": [
    {
     "name": "stdout",
     "output_type": "stream",
     "text": [
      "680/680 [==============================] - 20s 29ms/step - loss: 0.1743 - accuracy: 0.9316\n",
      "Test Loss: 0.17433513700962067\n",
      "Test Accuracy: 0.9316168427467346\n"
     ]
    }
   ],
   "source": [
    "test_loss, test_acc = model_two.evaluate(test_dataset)\n",
    "\n",
    "print('Test Loss:', test_loss)\n",
    "print('Test Accuracy:', test_acc)"
   ]
  },
  {
   "cell_type": "code",
   "execution_count": 27,
   "metadata": {
    "execution": {
     "iopub.execute_input": "2021-11-02T16:06:05.533990Z",
     "iopub.status.busy": "2021-11-02T16:06:05.533409Z",
     "iopub.status.idle": "2021-11-02T16:06:09.200328Z",
     "shell.execute_reply": "2021-11-02T16:06:09.199826Z"
    },
    "id": "ykUKnAoqbycW",
    "pycharm": {
     "is_executing": true
    }
   },
   "outputs": [
    {
     "name": "stdout",
     "output_type": "stream",
     "text": [
      "[[0. 1.]\n",
      " [1. 0.]]\n"
     ]
    }
   ],
   "source": [
    "# predict on a sample text without padding.\n",
    "\n",
    "sample_text = ['You are such a stupid fucking whore',\n",
    "               'I would not recommend this movie.']\n",
    "predictions = model_two.predict(np.array(sample_text))\n",
    "\n",
    "print(predictions)"
   ]
  },
  {
   "cell_type": "code",
   "execution_count": 30,
   "metadata": {},
   "outputs": [
    {
     "name": "stderr",
     "output_type": "stream",
     "text": [
      "Ein Unterverzeichnis oder eine Datei mit dem Namen \"models\" existiert bereits.\n",
      "WARNING:absl:Found untraced functions such as lstm_cell_4_layer_call_fn, lstm_cell_4_layer_call_and_return_conditional_losses, lstm_cell_5_layer_call_fn, lstm_cell_5_layer_call_and_return_conditional_losses, lstm_cell_7_layer_call_fn while saving (showing 5 of 20). These functions will not be directly callable after loading.\n"
     ]
    },
    {
     "name": "stdout",
     "output_type": "stream",
     "text": [
      "INFO:tensorflow:Assets written to: models/rnn_two_bigger_vocab\\assets\n"
     ]
    },
    {
     "name": "stderr",
     "output_type": "stream",
     "text": [
      "INFO:tensorflow:Assets written to: models/rnn_two_bigger_vocab\\assets\n",
      "WARNING:absl:<keras.layers.recurrent.LSTMCell object at 0x000001C1A56A5130> has the same name 'LSTMCell' as a built-in Keras object. Consider renaming <class 'keras.layers.recurrent.LSTMCell'> to avoid naming conflicts when loading with `tf.keras.models.load_model`. If renaming is not possible, pass the object in the `custom_objects` parameter of the load function.\n",
      "WARNING:absl:<keras.layers.recurrent.LSTMCell object at 0x000001C1A56A5AC0> has the same name 'LSTMCell' as a built-in Keras object. Consider renaming <class 'keras.layers.recurrent.LSTMCell'> to avoid naming conflicts when loading with `tf.keras.models.load_model`. If renaming is not possible, pass the object in the `custom_objects` parameter of the load function.\n",
      "WARNING:absl:<keras.layers.recurrent.LSTMCell object at 0x000001C1A56D00A0> has the same name 'LSTMCell' as a built-in Keras object. Consider renaming <class 'keras.layers.recurrent.LSTMCell'> to avoid naming conflicts when loading with `tf.keras.models.load_model`. If renaming is not possible, pass the object in the `custom_objects` parameter of the load function.\n",
      "WARNING:absl:<keras.layers.recurrent.LSTMCell object at 0x000001C1A56D0A30> has the same name 'LSTMCell' as a built-in Keras object. Consider renaming <class 'keras.layers.recurrent.LSTMCell'> to avoid naming conflicts when loading with `tf.keras.models.load_model`. If renaming is not possible, pass the object in the `custom_objects` parameter of the load function.\n"
     ]
    }
   ],
   "source": [
    "# Save the model\n",
    "!mkdir models\n",
    "model_two.save('models/rnn_two_bigger_vocab', save_format='tf')"
   ]
  },
  {
   "cell_type": "code",
   "execution_count": 29,
   "metadata": {
    "execution": {
     "iopub.execute_input": "2021-11-02T16:06:09.257308Z",
     "iopub.status.busy": "2021-11-02T16:06:09.244756Z",
     "iopub.status.idle": "2021-11-02T16:06:09.481357Z",
     "shell.execute_reply": "2021-11-02T16:06:09.480751Z"
    },
    "id": "_YYub0EDtwCu",
    "pycharm": {
     "is_executing": true
    }
   },
   "outputs": [
    {
     "data": {
      "image/png": "[encoded data removed]",
      "text/plain": [
       "<Figure size 1152x432 with 2 Axes>"
      ]
     },
     "metadata": {
      "needs_background": "light"
     },
     "output_type": "display_data"
    }
   ],
   "source": [
    "plt.figure(figsize=(16, 6))\n",
    "plt.subplot(1, 2, 1)\n",
    "plot_graphs(history_two, 'accuracy')\n",
    "plt.subplot(1, 2, 2)\n",
    "plot_graphs(history_two, 'loss')"
   ]
  },
  {
   "cell_type": "markdown",
   "metadata": {
    "id": "9xvpE3BaGw_V"
   },
   "source": [
    "Check out other existing recurrent layers such as [GRU layers](https://www.tensorflow.org/api_docs/python/tf/keras/layers/GRU).\n",
    "\n",
    "If you're interestied in building custom RNNs, see the [Keras RNN Guide](https://www.tensorflow.org/guide/keras/rnn).\n"
   ]
  },
  {
   "cell_type": "code",
   "execution_count": null,
   "metadata": {},
   "outputs": [],
   "source": []
  }
 ],
 "metadata": {
  "accelerator": "GPU",
  "colab": {
   "collapsed_sections": [],
   "name": "text_classification_rnn.ipynb",
   "provenance": [],
   "toc_visible": true
  },
  "kernelspec": {
   "display_name": "Python 3 (ipykernel)",
   "language": "python",
   "name": "python3"
  },
  "language_info": {
   "codemirror_mode": {
    "name": "ipython",
    "version": 3
   },
   "file_extension": ".py",
   "mimetype": "text/x-python",
   "name": "python",
   "nbconvert_exporter": "python",
   "pygments_lexer": "ipython3",
   "version": "3.8.0"
  }
 },
 "nbformat": 4,
 "nbformat_minor": 1
}
