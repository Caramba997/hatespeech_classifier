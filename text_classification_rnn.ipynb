{
 "cells": [
  {
   "cell_type": "markdown",
   "metadata": {
    "id": "hX4n9TsbGw-f"
   },
   "source": [
    "##### Copyright 2018 The TensorFlow Authors."
   ]
  },
  {
   "cell_type": "code",
   "execution_count": 55,
   "metadata": {
    "cellView": "form",
    "execution": {
     "iopub.execute_input": "2021-11-02T15:50:32.590813Z",
     "iopub.status.busy": "2021-11-02T15:50:32.590150Z",
     "iopub.status.idle": "2021-11-02T15:50:32.592967Z",
     "shell.execute_reply": "2021-11-02T15:50:32.592428Z"
    },
    "id": "0nbI5DtDGw-i"
   },
   "outputs": [],
   "source": [
    "#@title Licensed under the Apache License, Version 2.0 (the \"License\");\n",
    "# you may not use this file except in compliance with the License.\n",
    "# You may obtain a copy of the License at\n",
    "#\n",
    "# https://www.apache.org/licenses/LICENSE-2.0\n",
    "#\n",
    "# Unless required by applicable law or agreed to in writing, software\n",
    "# distributed under the License is distributed on an \"AS IS\" BASIS,\n",
    "# WITHOUT WARRANTIES OR CONDITIONS OF ANY KIND, either express or implied.\n",
    "# See the License for the specific language governing permissions and\n",
    "# limitations under the License."
   ]
  },
  {
   "cell_type": "markdown",
   "metadata": {
    "id": "9TnJztDZGw-n"
   },
   "source": [
    "# Text classification with an RNN"
   ]
  },
  {
   "cell_type": "markdown",
   "metadata": {
    "id": "AfN3bMR5Gw-o"
   },
   "source": [
    "<table class=\"tfo-notebook-buttons\" align=\"left\">\n",
    "  <td>\n",
    "    <a target=\"_blank\" href=\"https://www.tensorflow.org/text/tutorials/text_classification_rnn\"><img src=\"https://www.tensorflow.org/images/tf_logo_32px.png\" />View on TensorFlow.org</a>\n",
    "  </td>\n",
    "  <td>\n",
    "    <a target=\"_blank\" href=\"https://colab.research.google.com/github/tensorflow/text/blob/master/docs/tutorials/text_classification_rnn.ipynb\"><img src=\"https://www.tensorflow.org/images/colab_logo_32px.png\" />Run in Google Colab</a>\n",
    "  </td>\n",
    "  <td>\n",
    "    <a target=\"_blank\" href=\"https://github.com/tensorflow/text/blob/master/docs/tutorials/text_classification_rnn.ipynb\"><img src=\"https://www.tensorflow.org/images/GitHub-Mark-32px.png\" />View source on GitHub</a>\n",
    "  </td>\n",
    "  <td>\n",
    "    <a href=\"https://storage.googleapis.com/tensorflow_docs/text/docs/tutorials/text_classification_rnn.ipynb\"><img src=\"https://www.tensorflow.org/images/download_logo_32px.png\" />Download notebook</a>\n",
    "  </td>\n",
    "</table>"
   ]
  },
  {
   "cell_type": "markdown",
   "metadata": {
    "id": "lUWearf0Gw-p"
   },
   "source": [
    "This text classification tutorial trains a [recurrent neural network](https://developers.google.com/machine-learning/glossary/#recurrent_neural_network) on the [IMDB large movie review dataset](http://ai.stanford.edu/~amaas/data/sentiment/) for sentiment analysis."
   ]
  },
  {
   "cell_type": "markdown",
   "metadata": {
    "id": "_2VQo4bajwUU"
   },
   "source": [
    "## Setup"
   ]
  },
  {
   "cell_type": "code",
   "execution_count": 56,
   "metadata": {
    "execution": {
     "iopub.execute_input": "2021-11-02T15:50:32.600658Z",
     "iopub.status.busy": "2021-11-02T15:50:32.600048Z",
     "iopub.status.idle": "2021-11-02T15:50:34.697251Z",
     "shell.execute_reply": "2021-11-02T15:50:34.696671Z"
    },
    "id": "z682XYsrjkY9"
   },
   "outputs": [],
   "source": [
    "import numpy as np\n",
    "\n",
    "import tensorflow_datasets as tfds\n",
    "import tensorflow as tf\n",
    "import tensorflow_addons as tfa\n",
    "\n",
    "tfds.disable_progress_bar()\n",
    "np.set_printoptions(precision=3, suppress=True)"
   ]
  },
  {
   "cell_type": "markdown",
   "metadata": {
    "id": "1rXHa-w9JZhb"
   },
   "source": [
    "Import `matplotlib` and create a helper function to plot graphs:"
   ]
  },
  {
   "cell_type": "code",
   "execution_count": 57,
   "metadata": {
    "execution": {
     "iopub.execute_input": "2021-11-02T15:50:34.702573Z",
     "iopub.status.busy": "2021-11-02T15:50:34.701983Z",
     "iopub.status.idle": "2021-11-02T15:50:34.934678Z",
     "shell.execute_reply": "2021-11-02T15:50:34.934132Z"
    },
    "id": "Mp1Z7P9pYRSK"
   },
   "outputs": [],
   "source": [
    "import matplotlib.pyplot as plt\n",
    "\n",
    "\n",
    "def plot_graphs(history, metric):\n",
    "  plt.plot(history.history[metric])\n",
    "  plt.plot(history.history['val_'+metric], '')\n",
    "  plt.xlabel(\"Epochs\")\n",
    "  plt.ylabel(metric)\n",
    "  plt.legend([metric, 'val_'+metric])"
   ]
  },
  {
   "cell_type": "markdown",
   "metadata": {
    "id": "pRmMubr0jrE2"
   },
   "source": [
    "## Setup input pipeline\n",
    "\n",
    "\n",
    "The IMDB large movie review dataset is a *binary classification* dataset—all the reviews have either a *positive* or *negative* sentiment.\n",
    "\n",
    "Download the dataset using [TFDS](https://www.tensorflow.org/datasets). See the [loading text tutorial](https://www.tensorflow.org/tutorials/load_data/text) for details on how to load this sort of data manually.\n"
   ]
  },
  {
   "cell_type": "code",
   "execution_count": 58,
   "metadata": {},
   "outputs": [
    {
     "name": "stdout",
     "output_type": "stream",
     "text": [
      "[4163, 20620]\n"
     ]
    },
    {
     "data": {
      "image/png": "[encoded data removed]",
      "text/plain": [
       "<Figure size 432x288 with 1 Axes>"
      ]
     },
     "metadata": {
      "needs_background": "light"
     },
     "output_type": "display_data"
    },
    {
     "data": {
      "text/plain": [
       "<Figure size 1152x720 with 0 Axes>"
      ]
     },
     "metadata": {},
     "output_type": "display_data"
    }
   ],
   "source": [
    "import numpy as np\n",
    "import pandas as pd\n",
    "from sklearn.model_selection import train_test_split\n",
    "import matplotlib.pyplot as plt\n",
    "\n",
    "\n",
    "#\n",
    "# Load the csv data.\n",
    "#\n",
    "def load_data_arrays():\n",
    "    data_path = \"datasets/1_no_stopwords.csv\"\n",
    "    df = pd.read_csv(data_path)\n",
    "\n",
    "    train_df, test_df = train_test_split(df, test_size=0.2, random_state=42, shuffle=True, stratify=df[\"is_hatespeech\"])\n",
    "    \n",
    "    return train_df, test_df\n",
    "\n",
    "def plot_data_distribution(labels_1, label_2):\n",
    "    total = labels_1.reshape(-1).tolist()\n",
    "    total.extend(label_2.reshape(-1).tolist())\n",
    "    bins = sorted(list(set(total)))\n",
    "\n",
    "    plt.bar(bins, [total.count(bin_val) for bin_val in bins])\n",
    "    print([total.count(bin_val) for bin_val in bins])\n",
    "    plt.xticks(bins,\n",
    "               [\"No Hatespeech\", \"Hatespeech\"],\n",
    "               rotation=45,\n",
    "               rotation_mode=\"anchor\",\n",
    "               ha=\"right\")\n",
    "\n",
    "    plt.subplots_adjust(bottom=0.3)\n",
    "    plt.figure(figsize=(16, 10))\n",
    "    plt.show()\n",
    "\n",
    "train_df, test_df = load_data_arrays()\n",
    "\n",
    "\n",
    "plot_data_distribution(train_df['is_hatespeech'].values, test_df['is_hatespeech'].values)"
   ]
  },
  {
   "cell_type": "code",
   "execution_count": 59,
   "metadata": {},
   "outputs": [],
   "source": [
    "# Convert the test- and train-DataFrames to Tensorflow Datasets\n",
    "\n",
    "train_labels = np.eye(2)[train_df['is_hatespeech'].values]\n",
    "train_dataset = (\n",
    "    tf.data.Dataset.from_tensor_slices(\n",
    "        (\n",
    "            tf.cast(np.asarray(train_df['text'].values, dtype=str), tf.string),\n",
    "            tf.cast(train_labels, tf.int32)\n",
    "        )\n",
    "    )\n",
    ")\n",
    "\n",
    "test_labels = np.eye(2)[test_df['is_hatespeech'].values]\n",
    "test_dataset = (\n",
    "    tf.data.Dataset.from_tensor_slices(\n",
    "        (\n",
    "            tf.cast(np.asarray(test_df['text'].values, dtype=str), tf.string),\n",
    "            tf.cast(test_labels, tf.int32)\n",
    "        )\n",
    "    )\n",
    ")"
   ]
  },
  {
   "cell_type": "markdown",
   "metadata": {
    "id": "z2qVJzcEluH_"
   },
   "source": [
    "Next shuffle the data for training and create batches of these `(text, label)` pairs:"
   ]
  },
  {
   "cell_type": "code",
   "execution_count": 60,
   "metadata": {
    "execution": {
     "iopub.execute_input": "2021-11-02T15:50:42.831318Z",
     "iopub.status.busy": "2021-11-02T15:50:42.830698Z",
     "iopub.status.idle": "2021-11-02T15:50:42.832648Z",
     "shell.execute_reply": "2021-11-02T15:50:42.832975Z"
    },
    "id": "dDsCaZCDYZgm",
    "pycharm": {
     "is_executing": true
    }
   },
   "outputs": [],
   "source": [
    "BUFFER_SIZE = 1000\n",
    "BATCH_SIZE = 64"
   ]
  },
  {
   "cell_type": "code",
   "execution_count": 61,
   "metadata": {
    "execution": {
     "iopub.execute_input": "2021-11-02T15:50:42.837775Z",
     "iopub.status.busy": "2021-11-02T15:50:42.837138Z",
     "iopub.status.idle": "2021-11-02T15:50:42.841349Z",
     "shell.execute_reply": "2021-11-02T15:50:42.841706Z"
    },
    "id": "VznrltNOnUc5",
    "pycharm": {
     "is_executing": true
    }
   },
   "outputs": [],
   "source": [
    "train_dataset = train_dataset.shuffle(BUFFER_SIZE).batch(BATCH_SIZE).prefetch(tf.data.AUTOTUNE)\n",
    "test_dataset = test_dataset.batch(BATCH_SIZE).prefetch(tf.data.AUTOTUNE)"
   ]
  },
  {
   "cell_type": "code",
   "execution_count": 62,
   "metadata": {
    "execution": {
     "iopub.execute_input": "2021-11-02T15:50:42.846034Z",
     "iopub.status.busy": "2021-11-02T15:50:42.845470Z",
     "iopub.status.idle": "2021-11-02T15:50:45.126272Z",
     "shell.execute_reply": "2021-11-02T15:50:45.126652Z"
    },
    "id": "jqkvdcFv41wC",
    "pycharm": {
     "is_executing": true
    }
   },
   "outputs": [
    {
     "name": "stdout",
     "output_type": "stream",
     "text": [
      "texts:  [b'lol think it right way amp wrong way love someone hoe may love got'\n",
      " b'if nbc elected spokesman nbc lot trouble i friends longer watch nbc trash 1'\n",
      " b'bitch got flameeee'\n",
      " b'rt to call martin baker uncle tom uppity hes siding majority pure ignorance'\n",
      " b'rt rt u remember steve blue clues left us bitch ass nigga joe'\n",
      " b'spics half breed trash no filthy native allowed speak european'\n",
      " b'and u aint ho get up out my trap houuuse' b'funny u faggot'\n",
      " b'twice divorced teabagger florida attorney general says marriage reserved stable enduring family units'\n",
      " b'i cheated 10 bitches i tf lol nobody even wanted committed shit'\n",
      " b'rt hits blunt bruh tells go text hoes one hoes i keep texting'\n",
      " b'i ignore birds'\n",
      " b'rt yall makin nigga microwaveable dinner meanwhile eatin another bitch homemade dinner'\n",
      " b'rt my ex bitch keep tryna next bitch called tha day told give it a rest bitch'\n",
      " b'in many areas look need see bean countsaid before beans bitchtend expect'\n",
      " b'need one around world twitter bitches cause local facebook hoes aint cuttin lol'\n",
      " b'lawd i got many enemies bitches i even know' b'yall pussy boa'\n",
      " b'you got wild bitches tellin liessss' b'the birds bees'\n",
      " b'just saw crow gallop across road mmkay wut'\n",
      " b'the wasp of angry legend beat it into a squishy pulp'\n",
      " b'that vine started coon frenzy bruh' b'fuk u bitch'\n",
      " b'rt some bitches turned bitched turned them'\n",
      " b'say ya want im single i opportunity dick ass and pussy time ima take it'\n",
      " b'this bitches voice' b'rt crazy bird'\n",
      " b'you like us colored folks hell colored white fucks'\n",
      " b'i jamming skid rowkixcinderelladamn yankeesbon jovidef leppardwhitesnakeextremevinnie vincent invasionrattscorpions etc'\n",
      " b'rt i never knew possible look like buy pussy still look cool tha'\n",
      " b'million dollar bitch slap ho'\n",
      " b'damn lol rt janay rice speaks domestic violence costume mocks marriage'\n",
      " b'these rednecks around like shitput wall up say' b'karma bitch bruhh'\n",
      " b'all called real niggas hoes aint nuttin massah luvin uncle toms amp aunt jamammis fakin da funk'\n",
      " b'rt wtf lolzzz did laugh sleep bitch'\n",
      " b'nigga i 542 i went go get homeboy i texted u 550 naw u bitch'\n",
      " b'bitch watch fucking mouth dirty whore i swear god thats thin line'\n",
      " b'rt lol oh godddddd bitch really coming amp late gon lls'\n",
      " b'rt im cool ass nigga lbsits rare mf like menigga either hating mad cus yo bitch choosing'\n",
      " b'rt go fight idf progressive trash hate much guts it istandwithisr'\n",
      " b'glory isaiah mom asked i wanted brownie i said thanks she said fasting'\n",
      " b'ha dat bitch jail'\n",
      " b'blow pussy like hussein bitch look crazy like whos sane'\n",
      " b'rt rt i tweet eating pussy moment woman tweets sucking dick she hoe slut o'\n",
      " b'inde jus got hype work i knew bitch candace aint die'\n",
      " b'rt i cant trust ah soul i cant trust nighas i cant trust hoes'\n",
      " b'too much shit going deal another bitch nonsense' b'dam bitch'\n",
      " b'almost cussed dis bitch mcdonalds talmbout da register dey cant serve usumm bitch give us da food fa free den'\n",
      " b'birds tonight'\n",
      " b'bitches already twerkin cinegram shit may jus better instagram'\n",
      " b'rt bible rt you hoe already got new years eve plans'\n",
      " b'i knew faggot though'\n",
      " b'rt get real fucking fight play me i play pussy ass niggas'\n",
      " b'gay fuck busted basic bitches lol'\n",
      " b'simplyaddictedtoguys woof woof hot scally lad'\n",
      " b'quote weezy verse like bitch ass aint got shit'\n",
      " b'rt when rubbing booty start playing pussy ya thumb gtgtgtgtgt'\n",
      " b'probably hate even i look white when im technically poc i white hair im double cracker'\n",
      " b'uncle tom hypocrite'\n",
      " b'rt if unfollow little bitch cus handle tweets lol'\n",
      " b'my ex wanna work out bitch try yoga']\n",
      "\n",
      "labels:  [[0 1]\n",
      " [1 0]\n",
      " [0 1]\n",
      " [1 0]\n",
      " [0 1]\n",
      " [0 1]\n",
      " [0 1]\n",
      " [0 1]\n",
      " [1 0]\n",
      " [0 1]\n",
      " [0 1]\n",
      " [1 0]\n",
      " [0 1]\n",
      " [0 1]\n",
      " [0 1]\n",
      " [0 1]\n",
      " [0 1]\n",
      " [0 1]\n",
      " [0 1]\n",
      " [1 0]\n",
      " [1 0]\n",
      " [1 0]\n",
      " [0 1]\n",
      " [0 1]\n",
      " [0 1]\n",
      " [0 1]\n",
      " [0 1]\n",
      " [1 0]\n",
      " [0 1]\n",
      " [1 0]\n",
      " [0 1]\n",
      " [0 1]\n",
      " [1 0]\n",
      " [0 1]\n",
      " [0 1]\n",
      " [0 1]\n",
      " [0 1]\n",
      " [0 1]\n",
      " [0 1]\n",
      " [0 1]\n",
      " [0 1]\n",
      " [1 0]\n",
      " [1 0]\n",
      " [0 1]\n",
      " [0 1]\n",
      " [0 1]\n",
      " [0 1]\n",
      " [0 1]\n",
      " [0 1]\n",
      " [0 1]\n",
      " [0 1]\n",
      " [1 0]\n",
      " [0 1]\n",
      " [0 1]\n",
      " [0 1]\n",
      " [0 1]\n",
      " [0 1]\n",
      " [1 0]\n",
      " [0 1]\n",
      " [0 1]\n",
      " [0 1]\n",
      " [0 1]\n",
      " [0 1]\n",
      " [0 1]]\n"
     ]
    }
   ],
   "source": [
    "for example, label in train_dataset.take(1):\n",
    "  print('texts: ', example.numpy())\n",
    "  print()\n",
    "  print('labels: ', label.numpy())"
   ]
  },
  {
   "cell_type": "markdown",
   "metadata": {
    "id": "s5eWCo88voPY"
   },
   "source": [
    "## Create the text encoder"
   ]
  },
  {
   "cell_type": "markdown",
   "metadata": {
    "id": "TFevcItw15P_"
   },
   "source": [
    "The raw text loaded by `tfds` needs to be processed before it can be used in a model. The simplest way to process text for training is using the `TextVectorization` layer. This layer has many capabilities, but this tutorial sticks to the default behavior.\n",
    "\n",
    "Create the layer, and pass the dataset's text to the layer's `.adapt` method:"
   ]
  },
  {
   "cell_type": "code",
   "execution_count": 63,
   "metadata": {
    "execution": {
     "iopub.execute_input": "2021-11-02T15:50:45.131867Z",
     "iopub.status.busy": "2021-11-02T15:50:45.131251Z",
     "iopub.status.idle": "2021-11-02T15:50:48.294934Z",
     "shell.execute_reply": "2021-11-02T15:50:48.295429Z"
    },
    "id": "uC25Lu1Yvuqy",
    "pycharm": {
     "is_executing": true
    }
   },
   "outputs": [],
   "source": [
    "VOCAB_SIZE = 1000\n",
    "encoder = tf.keras.layers.TextVectorization(\n",
    "    max_tokens=VOCAB_SIZE)\n",
    "encoder.adapt(train_dataset.map(lambda text, label: text))"
   ]
  },
  {
   "cell_type": "markdown",
   "metadata": {
    "id": "IuQzVBbe3Ldu"
   },
   "source": [
    "The `.adapt` method sets the layer's vocabulary. Here are the first 20 tokens. After the padding and unknown tokens they're sorted by frequency: "
   ]
  },
  {
   "cell_type": "code",
   "execution_count": 64,
   "metadata": {
    "execution": {
     "iopub.execute_input": "2021-11-02T15:50:48.299858Z",
     "iopub.status.busy": "2021-11-02T15:50:48.299279Z",
     "iopub.status.idle": "2021-11-02T15:50:48.305058Z",
     "shell.execute_reply": "2021-11-02T15:50:48.304619Z"
    },
    "id": "tBoyjjWg0Ac9",
    "pycharm": {
     "is_executing": true
    }
   },
   "outputs": [
    {
     "data": {
      "text/plain": [
       "array(['', '[UNK]', 'bitch', 'rt', 'i', 'bitches', 'like', 'hoes', 'im',\n",
       "       'pussy', 'hoe', 'ass', 'fuck', 'get', 'shit', 'got', 'u', 'you',\n",
       "       'nigga', 'aint'], dtype='<U27')"
      ]
     },
     "execution_count": 64,
     "metadata": {},
     "output_type": "execute_result"
    }
   ],
   "source": [
    "vocab = np.array(encoder.get_vocabulary())\n",
    "vocab[:20]"
   ]
  },
  {
   "cell_type": "markdown",
   "metadata": {
    "id": "mjId5pua3jHQ"
   },
   "source": [
    "Once the vocabulary is set, the layer can encode text into indices. The tensors of indices are 0-padded to the longest sequence in the batch (unless you set a fixed `output_sequence_length`):"
   ]
  },
  {
   "cell_type": "code",
   "execution_count": 65,
   "metadata": {
    "execution": {
     "iopub.execute_input": "2021-11-02T15:50:48.308818Z",
     "iopub.status.busy": "2021-11-02T15:50:48.308274Z",
     "iopub.status.idle": "2021-11-02T15:50:48.321984Z",
     "shell.execute_reply": "2021-11-02T15:50:48.322347Z"
    },
    "id": "RGc7C9WiwRWs",
    "pycharm": {
     "is_executing": true
    }
   },
   "outputs": [
    {
     "data": {
      "text/plain": [
       "array([[ 21,  48,  42,  61, 148,  22, 250, 148,  26, 168,  10, 504,  26,\n",
       "         15,   0,   0,   0,   0,   0,   0],\n",
       "       [ 30,   1,   1,   1,   1, 267,   1,   4, 216,   1, 252,   1,  20,\n",
       "        206,   0,   0,   0,   0,   0,   0],\n",
       "       [  2,  15,   1,   0,   0,   0,   0,   0,   0,   0,   0,   0,   0,\n",
       "          0,   0,   0,   0,   0,   0,   0]], dtype=int64)"
      ]
     },
     "execution_count": 65,
     "metadata": {},
     "output_type": "execute_result"
    }
   ],
   "source": [
    "encoded_example = encoder(example)[:3].numpy()\n",
    "encoded_example"
   ]
  },
  {
   "cell_type": "markdown",
   "metadata": {
    "id": "F5cjz0bS39IN"
   },
   "source": [
    "With the default settings, the process is not completely reversible. There are three main reasons for that:\n",
    "\n",
    "1. The default value for `preprocessing.TextVectorization`'s `standardize` argument is `\"lower_and_strip_punctuation\"`.\n",
    "2. The limited vocabulary size and lack of character-based fallback results in some unknown tokens."
   ]
  },
  {
   "cell_type": "code",
   "execution_count": 66,
   "metadata": {
    "execution": {
     "iopub.execute_input": "2021-11-02T15:50:48.327153Z",
     "iopub.status.busy": "2021-11-02T15:50:48.326376Z",
     "iopub.status.idle": "2021-11-02T15:50:48.332236Z",
     "shell.execute_reply": "2021-11-02T15:50:48.331662Z"
    },
    "id": "N_tD0QY5wXaK",
    "pycharm": {
     "is_executing": true
    }
   },
   "outputs": [
    {
     "name": "stdout",
     "output_type": "stream",
     "text": [
      "Original:  b'lol think it right way amp wrong way love someone hoe may love got'\n",
      "Round-trip:  lol think it right way amp wrong way love someone hoe may love got      \n",
      "\n",
      "Original:  b'if nbc elected spokesman nbc lot trouble i friends longer watch nbc trash 1'\n",
      "Round-trip:  if [UNK] [UNK] [UNK] [UNK] lot [UNK] i friends [UNK] watch [UNK] trash 1      \n",
      "\n",
      "Original:  b'bitch got flameeee'\n",
      "Round-trip:  bitch got [UNK]                 \n",
      "\n"
     ]
    }
   ],
   "source": [
    "for n in range(3):\n",
    "  print(\"Original: \", example[n].numpy())\n",
    "  print(\"Round-trip: \", \" \".join(vocab[encoded_example[n]]))\n",
    "  print()"
   ]
  },
  {
   "cell_type": "markdown",
   "metadata": {
    "id": "bjUqGVBxGw-t"
   },
   "source": [
    "## Create the model"
   ]
  },
  {
   "cell_type": "markdown",
   "metadata": {
    "id": "bgs6nnSTGw-t"
   },
   "source": [
    "Above is a diagram of the model. \n",
    "\n",
    "1. This model can be build as a `tf.keras.Sequential`.\n",
    "\n",
    "2. The first layer is the `encoder`, which converts the text to a sequence of token indices.\n",
    "\n",
    "3. After the encoder is an embedding layer. An embedding layer stores one vector per word. When called, it converts the sequences of word indices to sequences of vectors. These vectors are trainable. After training (on enough data), words with similar meanings often have similar vectors.\n",
    "\n",
    "  This index-lookup is much more efficient than the equivalent operation of passing a one-hot encoded vector through a `tf.keras.layers.Dense` layer.\n",
    "\n",
    "4. A recurrent neural network (RNN) processes sequence input by iterating through the elements. RNNs pass the outputs from one timestep to their input on the next timestep.\n",
    "\n",
    "  The `tf.keras.layers.Bidirectional` wrapper can also be used with an RNN layer. This propagates the input forward and backwards through the RNN layer and then concatenates the final output. \n",
    "\n",
    "  * The main advantage of a bidirectional RNN is that the signal from the beginning of the input doesn't need to be processed all the way through every timestep to affect the output.  \n",
    "\n",
    "  * The main disadvantage of a bidirectional RNN is that you can't efficiently stream predictions as words are being added to the end.\n",
    "\n",
    "5. After the RNN has converted the sequence to a single vector the two `layers.Dense` do some final processing, and convert from this vector representation to a single logit as the classification output. \n"
   ]
  },
  {
   "cell_type": "markdown",
   "metadata": {
    "id": "V4fodCI7soQi"
   },
   "source": [
    "The code to implement this is below:"
   ]
  },
  {
   "cell_type": "code",
   "execution_count": 67,
   "metadata": {
    "execution": {
     "iopub.execute_input": "2021-11-02T15:50:48.337515Z",
     "iopub.status.busy": "2021-11-02T15:50:48.336851Z",
     "iopub.status.idle": "2021-11-02T15:50:49.682810Z",
     "shell.execute_reply": "2021-11-02T15:50:49.682208Z"
    },
    "id": "LwfoBkmRYcP3",
    "pycharm": {
     "is_executing": true
    },
    "scrolled": true
   },
   "outputs": [
    {
     "name": "stdout",
     "output_type": "stream",
     "text": [
      "Model: \"sequential_4\"\n",
      "_________________________________________________________________\n",
      " Layer (type)                Output Shape              Param #   \n",
      "=================================================================\n",
      " text_vectorization_2 (TextV  (None, None)             0         \n",
      " ectorization)                                                   \n",
      "                                                                 \n",
      " embedding_4 (Embedding)     (None, None, 64)          64000     \n",
      "                                                                 \n",
      " bidirectional_6 (Bidirectio  (None, 128)              66048     \n",
      " nal)                                                            \n",
      "                                                                 \n",
      " dense_8 (Dense)             (None, 64)                8256      \n",
      "                                                                 \n",
      " dense_9 (Dense)             (None, 2)                 130       \n",
      "                                                                 \n",
      "=================================================================\n",
      "Total params: 138,434\n",
      "Trainable params: 138,434\n",
      "Non-trainable params: 0\n",
      "_________________________________________________________________\n",
      "None\n"
     ]
    }
   ],
   "source": [
    "model = tf.keras.Sequential([\n",
    "    encoder,\n",
    "    tf.keras.layers.Embedding(\n",
    "        input_dim=len(encoder.get_vocabulary()),\n",
    "        output_dim=64,\n",
    "        # Use masking to handle the variable sequence lengths\n",
    "        mask_zero=True),\n",
    "    tf.keras.layers.Bidirectional(tf.keras.layers.LSTM(64)),\n",
    "    tf.keras.layers.Dense(64, activation='relu'),\n",
    "    tf.keras.layers.Dense(2, activation='softmax')\n",
    "])\n",
    "\n",
    "print(model.summary())"
   ]
  },
  {
   "cell_type": "markdown",
   "metadata": {
    "id": "QIGmIGkkouUb"
   },
   "source": [
    "Please note that Keras sequential model is used here since all the layers in the model only have single input and produce single output. In case you want to use stateful RNN layer, you might want to build your model with Keras functional API or model subclassing so that you can retrieve and reuse the RNN layer states. Please check [Keras RNN guide](https://www.tensorflow.org/guide/keras/rnn#rnn_state_reuse) for more details."
   ]
  },
  {
   "cell_type": "markdown",
   "metadata": {
    "id": "kF-PsCk1LwjY"
   },
   "source": [
    "The embedding layer [uses masking](https://www.tensorflow.org/guide/keras/masking_and_padding) to handle the varying sequence-lengths. All the layers after the `Embedding` support masking:"
   ]
  },
  {
   "cell_type": "code",
   "execution_count": 68,
   "metadata": {
    "execution": {
     "iopub.execute_input": "2021-11-02T15:50:49.688412Z",
     "iopub.status.busy": "2021-11-02T15:50:49.687680Z",
     "iopub.status.idle": "2021-11-02T15:50:49.690180Z",
     "shell.execute_reply": "2021-11-02T15:50:49.690575Z"
    },
    "id": "87a8-CwfKebw",
    "pycharm": {
     "is_executing": true
    }
   },
   "outputs": [
    {
     "name": "stdout",
     "output_type": "stream",
     "text": [
      "[False, True, True, True, True]\n"
     ]
    }
   ],
   "source": [
    "print([layer.supports_masking for layer in model.layers])"
   ]
  },
  {
   "cell_type": "markdown",
   "metadata": {
    "id": "ZlS0iaUIWLpI"
   },
   "source": [
    "To confirm that this works as expected, evaluate a sentence twice. First, alone so there's no padding to mask:"
   ]
  },
  {
   "cell_type": "code",
   "execution_count": 69,
   "metadata": {
    "execution": {
     "iopub.execute_input": "2021-11-02T15:50:49.695532Z",
     "iopub.status.busy": "2021-11-02T15:50:49.694953Z",
     "iopub.status.idle": "2021-11-02T15:50:52.508631Z",
     "shell.execute_reply": "2021-11-02T15:50:52.509017Z"
    },
    "id": "O41gw3KfWHus",
    "pycharm": {
     "is_executing": true
    }
   },
   "outputs": [
    {
     "name": "stdout",
     "output_type": "stream",
     "text": [
      "WARNING:tensorflow:6 out of the last 8 calls to <function Model.make_predict_function.<locals>.predict_function at 0x00000274A7529DC0> triggered tf.function retracing. Tracing is expensive and the excessive number of tracings could be due to (1) creating @tf.function repeatedly in a loop, (2) passing tensors with different shapes, (3) passing Python objects instead of tensors. For (1), please define your @tf.function outside of the loop. For (2), @tf.function has experimental_relax_shapes=True option that relaxes argument shapes that can avoid unnecessary retracing. For (3), please refer to https://www.tensorflow.org/guide/function#controlling_retracing and https://www.tensorflow.org/api_docs/python/tf/function for  more details.\n",
      "[0.499 0.501]\n"
     ]
    }
   ],
   "source": [
    "# predict on a sample text without padding.\n",
    "\n",
    "sample_text = ('How are you doing')\n",
    "predictions = model.predict(np.array([sample_text]))\n",
    "print(predictions[0])"
   ]
  },
  {
   "cell_type": "markdown",
   "metadata": {
    "id": "K0VQmGnEWcuz"
   },
   "source": [
    "Now, evaluate it again in a batch with a longer sentence. The result should be identical:"
   ]
  },
  {
   "cell_type": "code",
   "execution_count": 70,
   "metadata": {
    "execution": {
     "iopub.execute_input": "2021-11-02T15:50:52.515111Z",
     "iopub.status.busy": "2021-11-02T15:50:52.514457Z",
     "iopub.status.idle": "2021-11-02T15:50:52.658235Z",
     "shell.execute_reply": "2021-11-02T15:50:52.658691Z"
    },
    "id": "UIgpuTeFNDzq",
    "pycharm": {
     "is_executing": true
    }
   },
   "outputs": [
    {
     "name": "stdout",
     "output_type": "stream",
     "text": [
      "[0.499 0.501]\n"
     ]
    }
   ],
   "source": [
    "# predict on a sample text with padding\n",
    "\n",
    "padding = \"How are you doing \" * 2000\n",
    "predictions = model.predict(np.array([sample_text, padding]))\n",
    "print(predictions[0])"
   ]
  },
  {
   "cell_type": "markdown",
   "metadata": {
    "id": "sRI776ZcH3Tf"
   },
   "source": [
    "Compile the Keras model to configure the training process:"
   ]
  },
  {
   "cell_type": "code",
   "execution_count": 71,
   "metadata": {
    "execution": {
     "iopub.execute_input": "2021-11-02T15:50:52.795749Z",
     "iopub.status.busy": "2021-11-02T15:50:52.794994Z",
     "iopub.status.idle": "2021-11-02T15:50:52.860291Z",
     "shell.execute_reply": "2021-11-02T15:50:52.860662Z"
    },
    "id": "kj2xei41YZjC",
    "pycharm": {
     "is_executing": true
    }
   },
   "outputs": [],
   "source": [
    "model.compile(loss=tf.keras.losses.CategoricalCrossentropy(),\n",
    "              optimizer=tf.keras.optimizers.Adam(0.0001),\n",
    "              metrics=['accuracy', tfa.metrics.f_scores.F1Score(2, \"micro\")])"
   ]
  },
  {
   "cell_type": "markdown",
   "metadata": {
    "id": "zIwH3nto596k"
   },
   "source": [
    "## Train the model"
   ]
  },
  {
   "cell_type": "code",
   "execution_count": 72,
   "metadata": {
    "execution": {
     "iopub.execute_input": "2021-11-02T15:50:52.865748Z",
     "iopub.status.busy": "2021-11-02T15:50:52.865047Z",
     "iopub.status.idle": "2021-11-02T15:56:08.899338Z",
     "shell.execute_reply": "2021-11-02T15:56:08.899791Z"
    },
    "id": "hw86wWS4YgR2",
    "pycharm": {
     "is_executing": true
    }
   },
   "outputs": [
    {
     "name": "stdout",
     "output_type": "stream",
     "text": [
      "Epoch 1/5\n",
      "310/310 [==============================] - 11s 23ms/step - loss: 0.4904 - accuracy: 0.8325 - f1_score: 0.8325 - val_loss: 0.2776 - val_accuracy: 0.8687 - val_f1_score: 0.8687\n",
      "Epoch 2/5\n",
      "310/310 [==============================] - 6s 18ms/step - loss: 0.1911 - accuracy: 0.9208 - f1_score: 0.9208 - val_loss: 0.1572 - val_accuracy: 0.9344 - val_f1_score: 0.9344\n",
      "Epoch 3/5\n",
      "310/310 [==============================] - 6s 19ms/step - loss: 0.1327 - accuracy: 0.9471 - f1_score: 0.9471 - val_loss: 0.1502 - val_accuracy: 0.9438 - val_f1_score: 0.9438\n",
      "Epoch 4/5\n",
      "310/310 [==============================] - 6s 18ms/step - loss: 0.1178 - accuracy: 0.9556 - f1_score: 0.9556 - val_loss: 0.1502 - val_accuracy: 0.9438 - val_f1_score: 0.9438\n",
      "Epoch 5/5\n",
      "310/310 [==============================] - 6s 18ms/step - loss: 0.1103 - accuracy: 0.9583 - f1_score: 0.9583 - val_loss: 0.1525 - val_accuracy: 0.9391 - val_f1_score: 0.9391\n"
     ]
    }
   ],
   "source": [
    "history = model.fit(train_dataset, epochs=5,\n",
    "                    validation_data=test_dataset,\n",
    "                    validation_steps=10)"
   ]
  },
  {
   "cell_type": "code",
   "execution_count": 73,
   "metadata": {
    "execution": {
     "iopub.execute_input": "2021-11-02T15:56:08.905181Z",
     "iopub.status.busy": "2021-11-02T15:56:08.904477Z",
     "iopub.status.idle": "2021-11-02T15:56:24.266040Z",
     "shell.execute_reply": "2021-11-02T15:56:24.266501Z"
    },
    "id": "BaNbXi43YgUT",
    "pycharm": {
     "is_executing": true
    }
   },
   "outputs": [
    {
     "name": "stdout",
     "output_type": "stream",
     "text": [
      "78/78 [==============================] - 1s 9ms/step - loss: 0.1359 - accuracy: 0.9429 - f1_score: 0.9429\n",
      "Test Loss: 0.13590672612190247\n",
      "Test Accuracy: 0.9429090023040771\n",
      "Test Entropy: 0.9429090023040771\n"
     ]
    }
   ],
   "source": [
    "test_loss, test_acc, test_entr = model.evaluate(test_dataset)\n",
    "\n",
    "print('Test Loss:', test_loss)\n",
    "print('Test Accuracy:', test_acc)\n",
    "print('Test Entropy:', test_entr)"
   ]
  },
  {
   "cell_type": "code",
   "execution_count": 74,
   "metadata": {
    "execution": {
     "iopub.execute_input": "2021-11-02T15:56:24.308793Z",
     "iopub.status.busy": "2021-11-02T15:56:24.286044Z",
     "iopub.status.idle": "2021-11-02T15:56:24.534404Z",
     "shell.execute_reply": "2021-11-02T15:56:24.534886Z"
    },
    "id": "OZmwt_mzaQJk",
    "pycharm": {
     "is_executing": true
    }
   },
   "outputs": [
    {
     "data": {
      "text/plain": [
       "(0.0, 0.5093838941305876)"
      ]
     },
     "execution_count": 74,
     "metadata": {},
     "output_type": "execute_result"
    },
    {
     "data": {
      "image/png": "[encoded data removed]",
      "text/plain": [
       "<Figure size 1152x576 with 2 Axes>"
      ]
     },
     "metadata": {
      "needs_background": "light"
     },
     "output_type": "display_data"
    }
   ],
   "source": [
    "plt.figure(figsize=(16, 8))\n",
    "plt.subplot(1, 2, 1)\n",
    "plot_graphs(history, 'accuracy')\n",
    "plt.ylim(None, 1)\n",
    "plt.subplot(1, 2, 2)\n",
    "plot_graphs(history, 'loss')\n",
    "plt.ylim(0, None)"
   ]
  },
  {
   "cell_type": "markdown",
   "metadata": {
    "id": "DwSE_386uhxD"
   },
   "source": [
    "Run a prediction on a new sentence:\n",
    "\n",
    "If the prediction is >= 0.0, it is positive else it is negative."
   ]
  },
  {
   "cell_type": "code",
   "execution_count": 75,
   "metadata": {
    "execution": {
     "iopub.execute_input": "2021-11-02T15:56:24.540123Z",
     "iopub.status.busy": "2021-11-02T15:56:24.539499Z",
     "iopub.status.idle": "2021-11-02T15:56:26.502611Z",
     "shell.execute_reply": "2021-11-02T15:56:26.502044Z"
    },
    "id": "ZXgfQSgRW6zU",
    "pycharm": {
     "is_executing": true
    }
   },
   "outputs": [
    {
     "name": "stdout",
     "output_type": "stream",
     "text": [
      "[[0.757 0.243]\n",
      " [0.    1.   ]]\n"
     ]
    }
   ],
   "source": [
    "sample_text = ['That was very nice of you to say', 'You stupid fucking bitch']\n",
    "predictions = model.predict(np.array(sample_text))\n",
    "print(predictions)"
   ]
  },
  {
   "cell_type": "markdown",
   "metadata": {
    "id": "7g1evcaRpTKm"
   },
   "source": [
    "## Stack two or more LSTM layers\n",
    "\n",
    "Keras recurrent layers have two available modes that are controlled by the `return_sequences` constructor argument:\n",
    "\n",
    "* If `False` it returns only the last output for each input sequence (a 2D tensor of shape (batch_size, output_features)). This is the default, used in the previous model.\n",
    "\n",
    "* If `True` the full sequences of successive outputs for each timestep is returned (a 3D tensor of shape `(batch_size, timesteps, output_features)`).\n",
    "\n",
    "Here is what the flow of information looks like with `return_sequences=True`:\n",
    "\n",
    "![layered_bidirectional](images/layered_bidirectional.png)"
   ]
  },
  {
   "cell_type": "markdown",
   "metadata": {
    "id": "wbSClCrG1z8l"
   },
   "source": [
    "The interesting thing about using an `RNN` with `return_sequences=True` is that the output still has 3-axes, like the input, so it can be passed to another RNN layer, like this:"
   ]
  },
  {
   "cell_type": "code",
   "execution_count": 76,
   "metadata": {
    "execution": {
     "iopub.execute_input": "2021-11-02T15:56:26.509313Z",
     "iopub.status.busy": "2021-11-02T15:56:26.508536Z",
     "iopub.status.idle": "2021-11-02T15:56:29.643331Z",
     "shell.execute_reply": "2021-11-02T15:56:29.642665Z"
    },
    "id": "jo1jjO3vn0jo",
    "pycharm": {
     "is_executing": true
    }
   },
   "outputs": [
    {
     "name": "stdout",
     "output_type": "stream",
     "text": [
      "Model: \"sequential_5\"\n",
      "_________________________________________________________________\n",
      " Layer (type)                Output Shape              Param #   \n",
      "=================================================================\n",
      " text_vectorization_2 (TextV  (None, None)             0         \n",
      " ectorization)                                                   \n",
      "                                                                 \n",
      " embedding_5 (Embedding)     (None, None, 64)          64000     \n",
      "                                                                 \n",
      " bidirectional_7 (Bidirectio  (None, None, 128)        66048     \n",
      " nal)                                                            \n",
      "                                                                 \n",
      " bidirectional_8 (Bidirectio  (None, 64)               41216     \n",
      " nal)                                                            \n",
      "                                                                 \n",
      " dense_10 (Dense)            (None, 64)                4160      \n",
      "                                                                 \n",
      " dropout_2 (Dropout)         (None, 64)                0         \n",
      "                                                                 \n",
      " dense_11 (Dense)            (None, 2)                 130       \n",
      "                                                                 \n",
      "=================================================================\n",
      "Total params: 175,554\n",
      "Trainable params: 175,554\n",
      "Non-trainable params: 0\n",
      "_________________________________________________________________\n",
      "None\n"
     ]
    }
   ],
   "source": [
    "model_two = tf.keras.Sequential([\n",
    "    encoder,\n",
    "    tf.keras.layers.Embedding(len(encoder.get_vocabulary()), 64, mask_zero=True),\n",
    "    tf.keras.layers.Bidirectional(tf.keras.layers.LSTM(64,  return_sequences=True)),\n",
    "    tf.keras.layers.Bidirectional(tf.keras.layers.LSTM(32)),\n",
    "    tf.keras.layers.Dense(64, activation='relu'),\n",
    "    tf.keras.layers.Dropout(0.5),\n",
    "    tf.keras.layers.Dense(2, activation='softmax')\n",
    "])\n",
    "\n",
    "print(model_two.summary())"
   ]
  },
  {
   "cell_type": "code",
   "execution_count": 77,
   "metadata": {
    "execution": {
     "iopub.execute_input": "2021-11-02T15:56:29.647221Z",
     "iopub.status.busy": "2021-11-02T15:56:29.646587Z",
     "iopub.status.idle": "2021-11-02T15:56:29.653319Z",
     "shell.execute_reply": "2021-11-02T15:56:29.653676Z"
    },
    "id": "hEPV5jVGp-is",
    "pycharm": {
     "is_executing": true
    }
   },
   "outputs": [],
   "source": [
    "model_two.compile(loss=tf.keras.losses.CategoricalCrossentropy(),\n",
    "              optimizer=tf.keras.optimizers.Adam(0.0001),\n",
    "              metrics=['accuracy', tfa.metrics.f_scores.F1Score(2, \"micro\")])"
   ]
  },
  {
   "cell_type": "code",
   "execution_count": 78,
   "metadata": {
    "execution": {
     "iopub.execute_input": "2021-11-02T15:56:29.658306Z",
     "iopub.status.busy": "2021-11-02T15:56:29.657641Z",
     "iopub.status.idle": "2021-11-02T16:05:39.623362Z",
     "shell.execute_reply": "2021-11-02T16:05:39.622731Z"
    },
    "id": "LeSE-YjdqAeN",
    "pycharm": {
     "is_executing": true
    }
   },
   "outputs": [
    {
     "name": "stdout",
     "output_type": "stream",
     "text": [
      "Epoch 1/5\n",
      "310/310 [==============================] - 17s 35ms/step - loss: 0.4592 - accuracy: 0.8402 - f1_score: 0.8402 - val_loss: 0.2447 - val_accuracy: 0.8818 - val_f1_score: 0.8818\n",
      "Epoch 2/5\n",
      "310/310 [==============================] - 9s 30ms/step - loss: 0.1815 - accuracy: 0.9273 - f1_score: 0.9273 - val_loss: 0.1574 - val_accuracy: 0.9391 - val_f1_score: 0.9391\n",
      "Epoch 3/5\n",
      "310/310 [==============================] - 9s 30ms/step - loss: 0.1356 - accuracy: 0.9489 - f1_score: 0.9489 - val_loss: 0.1450 - val_accuracy: 0.9469 - val_f1_score: 0.9469\n",
      "Epoch 4/5\n",
      "310/310 [==============================] - 9s 30ms/step - loss: 0.1191 - accuracy: 0.9558 - f1_score: 0.9558 - val_loss: 0.1433 - val_accuracy: 0.9479 - val_f1_score: 0.9479\n",
      "Epoch 5/5\n",
      "310/310 [==============================] - 9s 30ms/step - loss: 0.1119 - accuracy: 0.9597 - f1_score: 0.9597 - val_loss: 0.1450 - val_accuracy: 0.9484 - val_f1_score: 0.9484\n"
     ]
    }
   ],
   "source": [
    "history_two = model_two.fit(train_dataset, epochs=5,\n",
    "                    validation_data=test_dataset,\n",
    "                    validation_steps=30)"
   ]
  },
  {
   "cell_type": "code",
   "execution_count": 79,
   "metadata": {
    "execution": {
     "iopub.execute_input": "2021-11-02T16:05:39.628681Z",
     "iopub.status.busy": "2021-11-02T16:05:39.627978Z",
     "iopub.status.idle": "2021-11-02T16:06:05.529389Z",
     "shell.execute_reply": "2021-11-02T16:06:05.528860Z"
    },
    "id": "_LdwilM1qPM3",
    "pycharm": {
     "is_executing": true
    }
   },
   "outputs": [
    {
     "name": "stdout",
     "output_type": "stream",
     "text": [
      "78/78 [==============================] - 1s 15ms/step - loss: 0.1419 - accuracy: 0.9431 - f1_score: 0.9431\n",
      "Test Loss: 0.14192712306976318\n",
      "Test Accuracy: 0.9431107640266418\n",
      "Test Entropy: 0.9431107640266418\n"
     ]
    }
   ],
   "source": [
    "test_loss, test_acc, test_entr = model_two.evaluate(test_dataset)\n",
    "\n",
    "print('Test Loss:', test_loss)\n",
    "print('Test Accuracy:', test_acc)\n",
    "print('Test Entropy:', test_entr)"
   ]
  },
  {
   "cell_type": "code",
   "execution_count": 82,
   "metadata": {
    "execution": {
     "iopub.execute_input": "2021-11-02T16:06:05.533990Z",
     "iopub.status.busy": "2021-11-02T16:06:05.533409Z",
     "iopub.status.idle": "2021-11-02T16:06:09.200328Z",
     "shell.execute_reply": "2021-11-02T16:06:09.199826Z"
    },
    "id": "ykUKnAoqbycW",
    "pycharm": {
     "is_executing": true
    }
   },
   "outputs": [
    {
     "name": "stdout",
     "output_type": "stream",
     "text": [
      "[[0.    1.   ]\n",
      " [0.743 0.257]]\n"
     ]
    }
   ],
   "source": [
    "# predict on a sample text without padding.\n",
    "\n",
    "sample_text = ['You are such a stupid fucking whore',\n",
    "               'I would not recommend this movie.']\n",
    "predictions = model_two.predict(np.array(sample_text))\n",
    "\n",
    "print(predictions)"
   ]
  },
  {
   "cell_type": "code",
   "execution_count": 81,
   "metadata": {
    "execution": {
     "iopub.execute_input": "2021-11-02T16:06:09.257308Z",
     "iopub.status.busy": "2021-11-02T16:06:09.244756Z",
     "iopub.status.idle": "2021-11-02T16:06:09.481357Z",
     "shell.execute_reply": "2021-11-02T16:06:09.480751Z"
    },
    "id": "_YYub0EDtwCu",
    "pycharm": {
     "is_executing": true
    }
   },
   "outputs": [
    {
     "data": {
      "image/png": "[encoded data removed]",
      "text/plain": [
       "<Figure size 1152x432 with 2 Axes>"
      ]
     },
     "metadata": {
      "needs_background": "light"
     },
     "output_type": "display_data"
    }
   ],
   "source": [
    "plt.figure(figsize=(16, 6))\n",
    "plt.subplot(1, 2, 1)\n",
    "plot_graphs(history_two, 'accuracy')\n",
    "plt.subplot(1, 2, 2)\n",
    "plot_graphs(history_two, 'loss')"
   ]
  },
  {
   "cell_type": "markdown",
   "metadata": {
    "id": "9xvpE3BaGw_V"
   },
   "source": [
    "Check out other existing recurrent layers such as [GRU layers](https://www.tensorflow.org/api_docs/python/tf/keras/layers/GRU).\n",
    "\n",
    "If you're interestied in building custom RNNs, see the [Keras RNN Guide](https://www.tensorflow.org/guide/keras/rnn).\n"
   ]
  },
  {
   "cell_type": "code",
   "execution_count": null,
   "metadata": {},
   "outputs": [],
   "source": []
  }
 ],
 "metadata": {
  "accelerator": "GPU",
  "colab": {
   "collapsed_sections": [],
   "name": "text_classification_rnn.ipynb",
   "provenance": [],
   "toc_visible": true
  },
  "kernelspec": {
   "display_name": "Python 3 (ipykernel)",
   "language": "python",
   "name": "python3"
  },
  "language_info": {
   "codemirror_mode": {
    "name": "ipython",
    "version": 3
   },
   "file_extension": ".py",
   "mimetype": "text/x-python",
   "name": "python",
   "nbconvert_exporter": "python",
   "pygments_lexer": "ipython3",
   "version": "3.9.6"
  }
 },
 "nbformat": 4,
 "nbformat_minor": 1
}
