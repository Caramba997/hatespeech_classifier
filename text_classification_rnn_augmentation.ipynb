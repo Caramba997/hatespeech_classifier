{
 "cells": [
  {
   "cell_type": "markdown",
   "metadata": {
    "id": "hX4n9TsbGw-f"
   },
   "source": [
    "##### Copyright 2018 The TensorFlow Authors."
   ]
  },
  {
   "cell_type": "code",
   "execution_count": 44,
   "metadata": {
    "cellView": "form",
    "execution": {
     "iopub.execute_input": "2021-11-02T15:50:32.590813Z",
     "iopub.status.busy": "2021-11-02T15:50:32.590150Z",
     "iopub.status.idle": "2021-11-02T15:50:32.592967Z",
     "shell.execute_reply": "2021-11-02T15:50:32.592428Z"
    },
    "id": "0nbI5DtDGw-i"
   },
   "outputs": [],
   "source": [
    "#@title Licensed under the Apache License, Version 2.0 (the \"License\");\n",
    "# you may not use this file except in compliance with the License.\n",
    "# You may obtain a copy of the License at\n",
    "#\n",
    "# https://www.apache.org/licenses/LICENSE-2.0\n",
    "#\n",
    "# Unless required by applicable law or agreed to in writing, software\n",
    "# distributed under the License is distributed on an \"AS IS\" BASIS,\n",
    "# WITHOUT WARRANTIES OR CONDITIONS OF ANY KIND, either express or implied.\n",
    "# See the License for the specific language governing permissions and\n",
    "# limitations under the License."
   ]
  },
  {
   "cell_type": "markdown",
   "metadata": {
    "id": "9TnJztDZGw-n"
   },
   "source": [
    "# Text classification with an RNN"
   ]
  },
  {
   "cell_type": "markdown",
   "metadata": {
    "id": "_2VQo4bajwUU"
   },
   "source": [
    "## Setup"
   ]
  },
  {
   "cell_type": "code",
   "execution_count": 45,
   "metadata": {
    "execution": {
     "iopub.execute_input": "2021-11-02T15:50:32.600658Z",
     "iopub.status.busy": "2021-11-02T15:50:32.600048Z",
     "iopub.status.idle": "2021-11-02T15:50:34.697251Z",
     "shell.execute_reply": "2021-11-02T15:50:34.696671Z"
    },
    "id": "z682XYsrjkY9"
   },
   "outputs": [],
   "source": [
    "!export LC_ALL=C\n",
    "\n",
    "import numpy as np\n",
    "import tensorflow as tf\n",
    "import tensorflow_datasets as tfds\n",
    "\n",
    "tfds.disable_progress_bar()\n",
    "np.set_printoptions(precision = 3, suppress = True)"
   ]
  },
  {
   "cell_type": "markdown",
   "metadata": {
    "id": "1rXHa-w9JZhb"
   },
   "source": [
    "Import `matplotlib` and create a helper function to plot graphs:"
   ]
  },
  {
   "cell_type": "code",
   "execution_count": 46,
   "metadata": {
    "execution": {
     "iopub.execute_input": "2021-11-02T15:50:34.702573Z",
     "iopub.status.busy": "2021-11-02T15:50:34.701983Z",
     "iopub.status.idle": "2021-11-02T15:50:34.934678Z",
     "shell.execute_reply": "2021-11-02T15:50:34.934132Z"
    },
    "id": "Mp1Z7P9pYRSK"
   },
   "outputs": [],
   "source": [
    "def plot_graphs(history, metric):\n",
    "    plt.plot(history.history[metric])\n",
    "    plt.plot(history.history['val_' + metric], '')\n",
    "    plt.xlabel(\"Epochs\")\n",
    "    plt.ylabel(metric)\n",
    "    plt.legend([metric, 'val_' + metric])"
   ]
  },
  {
   "cell_type": "markdown",
   "metadata": {
    "id": "pRmMubr0jrE2"
   },
   "source": [
    "## Setup input pipeline\n",
    "\n",
    "\n",
    "The IMDB large movie review dataset is a *binary classification* dataset—all the reviews have either a *positive* or *negative* sentiment.\n",
    "\n",
    "Download the dataset using [TFDS](https://www.tensorflow.org/datasets). See the [loading text tutorial](https://www.tensorflow.org/tutorials/load_data/text) for details on how to load this sort of data manually.\n"
   ]
  },
  {
   "cell_type": "code",
   "execution_count": 47,
   "metadata": {},
   "outputs": [
    {
     "name": "stdout",
     "output_type": "stream",
     "text": [
      "[35843, 34778]\n"
     ]
    },
    {
     "data": {
      "text/plain": "<Figure size 432x288 with 1 Axes>",
      "image/png": "[encoded data removed]"
     },
     "metadata": {
      "needs_background": "light"
     },
     "output_type": "display_data"
    },
    {
     "data": {
      "text/plain": "<Figure size 1152x432 with 0 Axes>"
     },
     "metadata": {},
     "output_type": "display_data"
    }
   ],
   "source": [
    "import numpy as np\n",
    "import pandas as pd\n",
    "from sklearn.model_selection import train_test_split\n",
    "import matplotlib.pyplot as plt\n",
    "\n",
    "\n",
    "def load_emotions(split='train'):\n",
    "    dataset, info = tfds.load('goemotions', with_info = True, split = split)\n",
    "    emotions = tfds.as_dataframe(ds = dataset)\n",
    "    emotions = emotions.rename(columns = {'comment_text': 'text'})\n",
    "    rem = [\n",
    "        'admiration',\n",
    "        'amusement',\n",
    "        'anger',\n",
    "        'annoyance',\n",
    "        'approval',\n",
    "        'caring',\n",
    "        'confusion',\n",
    "        'curiosity',\n",
    "        'desire',\n",
    "        'disappointment',\n",
    "        'disapproval',\n",
    "        'disgust',\n",
    "        'embarrassment',\n",
    "        'excitement',\n",
    "        'fear',\n",
    "        'gratitude',\n",
    "        'grief',\n",
    "        'joy',\n",
    "        'love',\n",
    "        'nervousness',\n",
    "        'neutral',\n",
    "        'optimism',\n",
    "        'pride',\n",
    "        'realization',\n",
    "        'relief',\n",
    "        'remorse',\n",
    "        'sadness',\n",
    "        'surprise',\n",
    "    ]\n",
    "\n",
    "    emotions = emotions[emotions.columns.drop(rem)]\n",
    "    emotions['is_hatespeech'] = 0\n",
    "    return emotions\n",
    "\n",
    "\n",
    "#\n",
    "# Load the csv data.\n",
    "#\n",
    "def load_data_arrays():\n",
    "    df_1 = pd.read_csv(\"datasets/1_no_stopwords.csv\")\n",
    "    df_3 = pd.read_csv(\"datasets/3_no_stopwords.csv\")\n",
    "\n",
    "    #    df_5 = pd.read_csv(\"datasets/5_no_stopwords.csv\")\n",
    "\n",
    "    df_6 = pd.read_csv(\"datasets/6_no_stopwords.csv\")\n",
    "\n",
    "    df = df_1.append(df_3)\n",
    "    df = df.append(df_6)\n",
    "\n",
    "    train_df, test_df = train_test_split(df, test_size = 0.2, random_state = 42, shuffle = True,\n",
    "                                         stratify = df[\"is_hatespeech\"])\n",
    "\n",
    "    emo_df = pd.read_csv('./datasets/goemotions.csv', encoding = 'utf-8')\n",
    "\n",
    "    emo_1, emo_2 = train_test_split(emo_df, test_size = 0.4, random_state = 42, shuffle = True)\n",
    "\n",
    "    train_df = df.append(emo_2)\n",
    "    # emo_df = load_emotions()\n",
    "    # emo_df = emo_df.append(load_emotions('test'))\n",
    "    # emo_df = emo_df.append(load_emotions('validation'))\n",
    "\n",
    "\n",
    "    return train_df, test_df\n",
    "\n",
    "\n",
    "def plot_data_distribution(labels_1, label_2):\n",
    "    total = labels_1.reshape(-1).tolist()\n",
    "    total.extend(label_2.reshape(-1).tolist())\n",
    "    bins = sorted(list(set(total)))\n",
    "\n",
    "    plt.bar(bins, [total.count(bin_val) for bin_val in bins])\n",
    "    print([total.count(bin_val) for bin_val in bins])\n",
    "    plt.xticks(bins,\n",
    "               [\"No Hatespeech\", \"Hatespeech\"],\n",
    "               rotation = 45,\n",
    "               rotation_mode = \"anchor\",\n",
    "               ha = \"right\")\n",
    "\n",
    "    plt.subplots_adjust(bottom = 0.3)\n",
    "    plt.figure(figsize = (16, 6))\n",
    "    plt.show()\n",
    "\n",
    "\n",
    "train_df, test_df = load_data_arrays()\n",
    "\n",
    "plot_data_distribution(train_df['is_hatespeech'].values, test_df['is_hatespeech'].values)"
   ]
  },
  {
   "cell_type": "code",
   "execution_count": 48,
   "metadata": {},
   "outputs": [],
   "source": [
    "# Convert the test- and train-DataFrames to Tensorflow Datasets\n",
    "\n",
    "train_labels = tf.keras.utils.to_categorical(train_df['is_hatespeech'].values, num_classes = 2)\n",
    "train_dataset = (\n",
    "    tf.data.Dataset.from_tensor_slices(\n",
    "        (\n",
    "            tf.cast(np.asarray(train_df['text'].values, dtype = str), tf.string),\n",
    "            tf.cast(train_labels, tf.int32)\n",
    "        )\n",
    "    )\n",
    ")\n",
    "\n",
    "test_labels = tf.keras.utils.to_categorical(test_df['is_hatespeech'].values, num_classes = 2)\n",
    "test_dataset = (\n",
    "    tf.data.Dataset.from_tensor_slices(\n",
    "        (\n",
    "            tf.cast(np.asarray(test_df['text'].values, dtype = str), tf.string),\n",
    "            tf.cast(test_labels, tf.int32)\n",
    "        )\n",
    "    )\n",
    ")"
   ]
  },
  {
   "cell_type": "markdown",
   "metadata": {
    "id": "z2qVJzcEluH_"
   },
   "source": [
    "Next shuffle the data for training and create batches of these `(text, label)` pairs:"
   ]
  },
  {
   "cell_type": "code",
   "execution_count": 49,
   "metadata": {
    "execution": {
     "iopub.execute_input": "2021-11-02T15:50:42.831318Z",
     "iopub.status.busy": "2021-11-02T15:50:42.830698Z",
     "iopub.status.idle": "2021-11-02T15:50:42.832648Z",
     "shell.execute_reply": "2021-11-02T15:50:42.832975Z"
    },
    "id": "dDsCaZCDYZgm"
   },
   "outputs": [],
   "source": [
    "BUFFER_SIZE = 1000\n",
    "BATCH_SIZE = 64"
   ]
  },
  {
   "cell_type": "code",
   "execution_count": 50,
   "metadata": {
    "execution": {
     "iopub.execute_input": "2021-11-02T15:50:42.837775Z",
     "iopub.status.busy": "2021-11-02T15:50:42.837138Z",
     "iopub.status.idle": "2021-11-02T15:50:42.841349Z",
     "shell.execute_reply": "2021-11-02T15:50:42.841706Z"
    },
    "id": "VznrltNOnUc5"
   },
   "outputs": [],
   "source": [
    "train_dataset = train_dataset.shuffle(BUFFER_SIZE, 42).batch(BATCH_SIZE).prefetch(tf.data.AUTOTUNE)\n",
    "test_dataset = test_dataset.batch(BATCH_SIZE).prefetch(tf.data.AUTOTUNE)"
   ]
  },
  {
   "cell_type": "code",
   "execution_count": 51,
   "metadata": {
    "execution": {
     "iopub.execute_input": "2021-11-02T15:50:42.846034Z",
     "iopub.status.busy": "2021-11-02T15:50:42.845470Z",
     "iopub.status.idle": "2021-11-02T15:50:45.126272Z",
     "shell.execute_reply": "2021-11-02T15:50:45.126652Z"
    },
    "id": "jqkvdcFv41wC"
   },
   "outputs": [
    {
     "name": "stdout",
     "output_type": "stream",
     "text": [
      "texts:  [b'i found new way chug open mouth alot shitallysays'\n",
      " b'pornandroidiphoneipadsexxxx handjob hand job cum rubber pussy'\n",
      " b'dont worry nigga see worry nigga dont see dats da nigga fuckin yo bitch'\n",
      " b'yankees take three games motown im callin it mlb'\n",
      " b'pornandroidiphoneipadsexxxx desi paki' b'chilling sexy scally lad'\n",
      " b'and bitch must lost' b'happy bday bitch ass nigga bitch roll up'\n",
      " b'bored supposed cute faggot sometimes' b'i got hicks lol'\n",
      " b'tikiti rough mock base eventually ashtray tiki ti'\n",
      " b'virginia full white trash'\n",
      " b'pornandroidiphoneipadsexxxx korean korean girlfriend pussy'\n",
      " b'rt me please thanks did pierced pussy come across timeline'\n",
      " b'just follow yellow brick twitter'\n",
      " b'rt these bitches started shooting party fuck new orleans'\n",
      " b'bartending becomes real bitch bartender way way taller bar designed for holy back pains'\n",
      " b'bruh im tired niggas retweetin miley cyrus naked bitch aint types bad lmaooo'\n",
      " b'how draft gungho folks send afghanistan war zones show their'\n",
      " b'longhair care got gayboyproblems everywhere im bitch im champ im totally full of'\n",
      " b'i bitch bitch bitch eating halibut freshrhymes jerksquad slowstir'\n",
      " b'nl queen and reminded i still get janelle monae perplexed people think queer'\n",
      " b'firefighter job white trash'\n",
      " b'glad im getting outta atlanta nothing bunch niggas amp outta jail amp dumb bitches mad kids fuckin em'\n",
      " b'eaglesnation every eagles need see pic i posted bitch said racist shit'\n",
      " b'iu 8 straight nation college soccer champions wow hoosiernation hoosiers'\n",
      " b'i think worst advice i gave pussy speed up lol'\n",
      " b'earlybird early morning sunrise dawn bird thebird jerryreed kansas city'\n",
      " b'friends hate me ratchet hoe'\n",
      " b'that son bitch moment turn radio favorite song end song'\n",
      " b'used girlfriend i got hoes i lookin good girl fuckin low'\n",
      " b'onlyinamichaelmyersmovie bitch running hundred meter dash niqqa whos actually taking his time walking amp u still get killed'\n",
      " b'dont let side bitch settle in i might headbutt evelyn'\n",
      " b'ebola great i thought panic bird flu bad i really aint got time that'\n",
      " b'freshmanadvice aint hoe get traphouseeeeeeee'\n",
      " b'rawr rt my sexy french scally i love him frenchscally sexy scally woof woof'\n",
      " b'hgwells charlie chaplin history photography'\n",
      " b'if richnow show hella tinder hoes im friend anymore chill i brought like like 8 prople'\n",
      " b'shoutout macktown niccas' b'when im done hoe pass squad g'\n",
      " b'minnesota full white trash'\n",
      " b'umightnotgetin fucc nicca beerandtacos wethelastonesleft'\n",
      " b'facto who cares hoe ass looks like this'\n",
      " b'you took land could make retarded diapers sureuse imagecool redskins nfl concussion jokes'\n",
      " b'bitchslapthursdays 2nite pure passion doors open 10 but watching game bitch too'\n",
      " b'ayo even kill handicapped crippled bitcheslook scalp real close see triple sixes'\n",
      " b'yo bitch horn tryna shoot porn thats t shirt worthy tony'\n",
      " b'video entire media likely mock crybaby'\n",
      " b'pornandroidiphoneipadsexxxx fisting whipped cream fisting'\n",
      " b'signsofcockblockin gtrt niggahs telling hoes im talking i cant get fuckniggahs'\n",
      " b'nowplaying bt feat tori amos blue skies radio edit 1069thearrow'\n",
      " b'pussy ride dick like jamaican gt amp'\n",
      " b'love frat boy w soft long soles'\n",
      " b'i sit hate another bitch i got much shit going on'\n",
      " b'all i see brunos bitch ass twitter now wtf brunos sees drake voice'\n",
      " b'peopletoavoid valerie jarrett i control reflex bitch slap her'\n",
      " b'rt brees trash since this'\n",
      " b'my cousin said share hoes brothers he said sharing caring love brothers'\n",
      " b'so hes good football playerbut still acts like nig'\n",
      " b'anncoulter still calling obama community organizer re syria well still cunt well so what'\n",
      " b'why eggplant emoji doey say looked like scream lmao'\n",
      " b'southcarolina highschool graduation rate near 50 thats many uninformed teabaggers morningjoe'\n",
      " b'why would wanna green ranger hes evil duh bitch'\n",
      " b'ha well iguess i make hoes loyal bro theyll never loyal hoes nig']\n",
      "\n",
      "labels:  [[1 0]\n",
      " [0 1]\n",
      " [0 1]\n",
      " [1 0]\n",
      " [1 0]\n",
      " [1 0]\n",
      " [0 1]\n",
      " [0 1]\n",
      " [0 1]\n",
      " [1 0]\n",
      " [1 0]\n",
      " [0 1]\n",
      " [0 1]\n",
      " [0 1]\n",
      " [1 0]\n",
      " [0 1]\n",
      " [0 1]\n",
      " [0 1]\n",
      " [1 0]\n",
      " [0 1]\n",
      " [0 1]\n",
      " [0 1]\n",
      " [0 1]\n",
      " [0 1]\n",
      " [0 1]\n",
      " [1 0]\n",
      " [0 1]\n",
      " [1 0]\n",
      " [0 1]\n",
      " [0 1]\n",
      " [0 1]\n",
      " [0 1]\n",
      " [0 1]\n",
      " [1 0]\n",
      " [0 1]\n",
      " [1 0]\n",
      " [1 0]\n",
      " [0 1]\n",
      " [0 1]\n",
      " [0 1]\n",
      " [0 1]\n",
      " [0 1]\n",
      " [0 1]\n",
      " [0 1]\n",
      " [0 1]\n",
      " [0 1]\n",
      " [0 1]\n",
      " [1 0]\n",
      " [0 1]\n",
      " [0 1]\n",
      " [1 0]\n",
      " [0 1]\n",
      " [1 0]\n",
      " [0 1]\n",
      " [0 1]\n",
      " [0 1]\n",
      " [0 1]\n",
      " [0 1]\n",
      " [0 1]\n",
      " [0 1]\n",
      " [1 0]\n",
      " [1 0]\n",
      " [0 1]\n",
      " [0 1]]\n"
     ]
    }
   ],
   "source": [
    "for example, label in train_dataset.take(1):\n",
    "    print('texts: ', example.numpy())\n",
    "    print()\n",
    "    print('labels: ', label.numpy())"
   ]
  },
  {
   "cell_type": "markdown",
   "metadata": {
    "id": "s5eWCo88voPY"
   },
   "source": [
    "## Create the text encoder"
   ]
  },
  {
   "cell_type": "markdown",
   "metadata": {
    "id": "TFevcItw15P_"
   },
   "source": [
    "The raw text loaded by `tfds` needs to be processed before it can be used in a model. The simplest way to process text for training is using the `TextVectorization` layer. This layer has many capabilities, but this tutorial sticks to the default behavior.\n",
    "\n",
    "Create the layer, and pass the dataset's text to the layer's `.adapt` method:"
   ]
  },
  {
   "cell_type": "code",
   "execution_count": 52,
   "metadata": {
    "execution": {
     "iopub.execute_input": "2021-11-02T15:50:45.131867Z",
     "iopub.status.busy": "2021-11-02T15:50:45.131251Z",
     "iopub.status.idle": "2021-11-02T15:50:48.294934Z",
     "shell.execute_reply": "2021-11-02T15:50:48.295429Z"
    },
    "id": "uC25Lu1Yvuqy"
   },
   "outputs": [],
   "source": [
    "VOCAB_SIZE = 1000\n",
    "encoder = tf.keras.layers.TextVectorization(\n",
    "    max_tokens = VOCAB_SIZE)\n",
    "encoder.adapt(train_dataset.map(lambda text, label: text))"
   ]
  },
  {
   "cell_type": "markdown",
   "metadata": {
    "id": "IuQzVBbe3Ldu"
   },
   "source": [
    "The `.adapt` method sets the layer's vocabulary. Here are the first 20 tokens. After the padding and unknown tokens they're sorted by frequency: "
   ]
  },
  {
   "cell_type": "code",
   "execution_count": 53,
   "metadata": {
    "execution": {
     "iopub.execute_input": "2021-11-02T15:50:48.299858Z",
     "iopub.status.busy": "2021-11-02T15:50:48.299279Z",
     "iopub.status.idle": "2021-11-02T15:50:48.305058Z",
     "shell.execute_reply": "2021-11-02T15:50:48.304619Z"
    },
    "id": "tBoyjjWg0Ac9"
   },
   "outputs": [
    {
     "data": {
      "text/plain": "array(['', '[UNK]', 'i', 'the', 'rt', 'bitch', 'a', 'to', 'you', 'like',\n       'and', 'it', 'is', 'that', 'im', 'this', 'of', 'mkr', 'name', 'in'],\n      dtype='<U15')"
     },
     "execution_count": 53,
     "metadata": {},
     "output_type": "execute_result"
    }
   ],
   "source": [
    "vocab = np.array(encoder.get_vocabulary())\n",
    "vocab[:20]"
   ]
  },
  {
   "cell_type": "markdown",
   "metadata": {
    "id": "mjId5pua3jHQ"
   },
   "source": [
    "Once the vocabulary is set, the layer can encode text into indices. The tensors of indices are 0-padded to the longest sequence in the batch (unless you set a fixed `output_sequence_length`):"
   ]
  },
  {
   "cell_type": "code",
   "execution_count": 54,
   "metadata": {
    "execution": {
     "iopub.execute_input": "2021-11-02T15:50:48.308818Z",
     "iopub.status.busy": "2021-11-02T15:50:48.308274Z",
     "iopub.status.idle": "2021-11-02T15:50:48.321984Z",
     "shell.execute_reply": "2021-11-02T15:50:48.322347Z"
    },
    "id": "RGc7C9WiwRWs"
   },
   "outputs": [
    {
     "data": {
      "text/plain": "array([[  2, 534, 133, 102,   1, 511, 644,   1,   1,   0,   0,   0,   0,\n          0,   0,   0,   0,   0],\n       [  1,   1, 684, 341,   1,   1,  28,   0,   0,   0,   0,   0,   0,\n          0,   0,   0,   0,   0],\n       [ 58, 817,  70,  62, 817,  70,  58,  62,   1, 308,  70, 329, 135,\n          5,   0,   0,   0,   0]])"
     },
     "execution_count": 54,
     "metadata": {},
     "output_type": "execute_result"
    }
   ],
   "source": [
    "encoded_example = encoder(example)[:3].numpy()\n",
    "encoded_example"
   ]
  },
  {
   "cell_type": "markdown",
   "metadata": {
    "id": "F5cjz0bS39IN"
   },
   "source": [
    "With the default settings, the process is not completely reversible. There are three main reasons for that:\n",
    "\n",
    "1. The default value for `preprocessing.TextVectorization`'s `standardize` argument is `\"lower_and_strip_punctuation\"`.\n",
    "2. The limited vocabulary size and lack of character-based fallback results in some unknown tokens."
   ]
  },
  {
   "cell_type": "code",
   "execution_count": 55,
   "metadata": {
    "execution": {
     "iopub.execute_input": "2021-11-02T15:50:48.327153Z",
     "iopub.status.busy": "2021-11-02T15:50:48.326376Z",
     "iopub.status.idle": "2021-11-02T15:50:48.332236Z",
     "shell.execute_reply": "2021-11-02T15:50:48.331662Z"
    },
    "id": "N_tD0QY5wXaK"
   },
   "outputs": [
    {
     "name": "stdout",
     "output_type": "stream",
     "text": [
      "Original:  b'i found new way chug open mouth alot shitallysays'\n",
      "Round-trip:  i found new way [UNK] open mouth [UNK] [UNK]         \n",
      "\n",
      "Original:  b'pornandroidiphoneipadsexxxx handjob hand job cum rubber pussy'\n",
      "Round-trip:  [UNK] [UNK] hand job [UNK] [UNK] pussy           \n",
      "\n",
      "Original:  b'dont worry nigga see worry nigga dont see dats da nigga fuckin yo bitch'\n",
      "Round-trip:  dont worry nigga see worry nigga dont see [UNK] da nigga fuckin yo bitch    \n",
      "\n"
     ]
    }
   ],
   "source": [
    "for n in range(3):\n",
    "    print(\"Original: \", example[n].numpy())\n",
    "    print(\"Round-trip: \", \" \".join(vocab[encoded_example[n]]))\n",
    "    print()"
   ]
  },
  {
   "cell_type": "markdown",
   "metadata": {
    "id": "bjUqGVBxGw-t"
   },
   "source": [
    "## Create the model"
   ]
  },
  {
   "cell_type": "markdown",
   "metadata": {
    "id": "bgs6nnSTGw-t"
   },
   "source": [
    "Above is a diagram of the model. \n",
    "\n",
    "1. This model can be build as a `tf.keras.Sequential`.\n",
    "\n",
    "2. The first layer is the `encoder`, which converts the text to a sequence of token indices.\n",
    "\n",
    "3. After the encoder is an embedding layer. An embedding layer stores one vector per word. When called, it converts the sequences of word indices to sequences of vectors. These vectors are trainable. After training (on enough data), words with similar meanings often have similar vectors.\n",
    "\n",
    "  This index-lookup is much more efficient than the equivalent operation of passing a one-hot encoded vector through a `tf.keras.layers.Dense` layer.\n",
    "\n",
    "4. A recurrent neural network (RNN) processes sequence input by iterating through the elements. RNNs pass the outputs from one timestep to their input on the next timestep.\n",
    "\n",
    "  The `tf.keras.layers.Bidirectional` wrapper can also be used with an RNN layer. This propagates the input forward and backwards through the RNN layer and then concatenates the final output. \n",
    "\n",
    "  * The main advantage of a bidirectional RNN is that the signal from the beginning of the input doesn't need to be processed all the way through every timestep to affect the output.  \n",
    "\n",
    "  * The main disadvantage of a bidirectional RNN is that you can't efficiently stream predictions as words are being added to the end.\n",
    "\n",
    "5. After the RNN has converted the sequence to a single vector the two `layers.Dense` do some final processing, and convert from this vector representation to a single logit as the classification output. \n"
   ]
  },
  {
   "cell_type": "markdown",
   "metadata": {
    "id": "V4fodCI7soQi"
   },
   "source": [
    "The code to implement this is below:"
   ]
  },
  {
   "cell_type": "code",
   "execution_count": 56,
   "metadata": {
    "execution": {
     "iopub.execute_input": "2021-11-02T15:50:48.337515Z",
     "iopub.status.busy": "2021-11-02T15:50:48.336851Z",
     "iopub.status.idle": "2021-11-02T15:50:49.682810Z",
     "shell.execute_reply": "2021-11-02T15:50:49.682208Z"
    },
    "id": "LwfoBkmRYcP3",
    "scrolled": true
   },
   "outputs": [
    {
     "name": "stdout",
     "output_type": "stream",
     "text": [
      "Model: \"sequential_2\"\n",
      "_________________________________________________________________\n",
      " Layer (type)                Output Shape              Param #   \n",
      "=================================================================\n",
      " text_vectorization_2 (TextV  (None, None)             0         \n",
      " ectorization)                                                   \n",
      "                                                                 \n",
      " embedding_2 (Embedding)     (None, None, 64)          64000     \n",
      "                                                                 \n",
      " bidirectional_2 (Bidirectio  (None, 128)              66048     \n",
      " nal)                                                            \n",
      "                                                                 \n",
      " dense_4 (Dense)             (None, 64)                8256      \n",
      "                                                                 \n",
      " dense_5 (Dense)             (None, 2)                 130       \n",
      "                                                                 \n",
      "=================================================================\n",
      "Total params: 138,434\n",
      "Trainable params: 138,434\n",
      "Non-trainable params: 0\n",
      "_________________________________________________________________\n",
      "None\n"
     ]
    }
   ],
   "source": [
    "model = tf.keras.Sequential([\n",
    "    encoder,\n",
    "    tf.keras.layers.Embedding(\n",
    "        input_dim = len(encoder.get_vocabulary()),\n",
    "        output_dim = 64,\n",
    "        # Use masking to handle the variable sequence lengths\n",
    "        mask_zero = True),\n",
    "    tf.keras.layers.Bidirectional(tf.keras.layers.LSTM(64)),\n",
    "    tf.keras.layers.Dense(64, activation = 'relu'),\n",
    "    tf.keras.layers.Dense(2, activation = 'sigmoid')\n",
    "])\n",
    "\n",
    "print(model.summary())\n",
    "\n",
    "model.compile(loss = tf.keras.losses.BinaryCrossentropy(),\n",
    "              optimizer = tf.keras.optimizers.Adam(0.001),\n",
    "              metrics = ['accuracy'])"
   ]
  },
  {
   "cell_type": "markdown",
   "metadata": {
    "id": "zIwH3nto596k"
   },
   "source": [
    "## Train the model"
   ]
  },
  {
   "cell_type": "code",
   "execution_count": 57,
   "metadata": {
    "execution": {
     "iopub.execute_input": "2021-11-02T15:50:52.865748Z",
     "iopub.status.busy": "2021-11-02T15:50:52.865047Z",
     "iopub.status.idle": "2021-11-02T15:56:08.899338Z",
     "shell.execute_reply": "2021-11-02T15:56:08.899791Z"
    },
    "id": "hw86wWS4YgR2"
   },
   "outputs": [
    {
     "name": "stdout",
     "output_type": "stream",
     "text": [
      "Epoch 1/5\n",
      "977/977 [==============================] - 26s 21ms/step - loss: 0.1256 - accuracy: 0.9518 - val_loss: 6.0997 - val_accuracy: 0.3234\n",
      "Epoch 2/5\n",
      "977/977 [==============================] - 21s 21ms/step - loss: 0.1141 - accuracy: 0.9594 - val_loss: 6.1343 - val_accuracy: 0.3750\n",
      "Epoch 3/5\n",
      "977/977 [==============================] - 21s 21ms/step - loss: 0.1134 - accuracy: 0.9619 - val_loss: 3.7009 - val_accuracy: 0.4797\n",
      "Epoch 4/5\n",
      "977/977 [==============================] - 20s 20ms/step - loss: 0.1022 - accuracy: 0.9646 - val_loss: 2.5049 - val_accuracy: 0.4875\n",
      "Epoch 5/5\n",
      "977/977 [==============================] - 20s 21ms/step - loss: 0.0981 - accuracy: 0.9646 - val_loss: 2.6539 - val_accuracy: 0.4203\n"
     ]
    }
   ],
   "source": [
    "history = model.fit(train_dataset, epochs = 5,\n",
    "                    validation_data = test_dataset,\n",
    "                    validation_steps = 10)"
   ]
  },
  {
   "cell_type": "code",
   "execution_count": 58,
   "metadata": {
    "execution": {
     "iopub.execute_input": "2021-11-02T15:56:08.905181Z",
     "iopub.status.busy": "2021-11-02T15:56:08.904477Z",
     "iopub.status.idle": "2021-11-02T15:56:24.266040Z",
     "shell.execute_reply": "2021-11-02T15:56:24.266501Z"
    },
    "id": "BaNbXi43YgUT"
   },
   "outputs": [
    {
     "name": "stdout",
     "output_type": "stream",
     "text": [
      "128/128 [==============================] - 1s 8ms/step - loss: 2.8327 - accuracy: 0.4205\n",
      "Test Loss: 2.832691192626953\n",
      "Test Accuracy: 0.42045873403549194\n"
     ]
    }
   ],
   "source": [
    "test_loss, test_acc = model.evaluate(test_dataset)\n",
    "\n",
    "print('Test Loss:', test_loss)\n",
    "print('Test Accuracy:', test_acc)"
   ]
  },
  {
   "cell_type": "code",
   "execution_count": 59,
   "metadata": {
    "execution": {
     "iopub.execute_input": "2021-11-02T15:56:24.308793Z",
     "iopub.status.busy": "2021-11-02T15:56:24.286044Z",
     "iopub.status.idle": "2021-11-02T15:56:24.534404Z",
     "shell.execute_reply": "2021-11-02T15:56:24.534886Z"
    },
    "id": "OZmwt_mzaQJk"
   },
   "outputs": [
    {
     "data": {
      "text/plain": "(0.0, 6.436116675287485)"
     },
     "execution_count": 59,
     "metadata": {},
     "output_type": "execute_result"
    },
    {
     "data": {
      "text/plain": "<Figure size 1152x576 with 2 Axes>",
      "image/png": "[encoded data removed]"
     },
     "metadata": {
      "needs_background": "light"
     },
     "output_type": "display_data"
    }
   ],
   "source": [
    "plt.figure(figsize = (16, 8))\n",
    "plt.subplot(1, 2, 1)\n",
    "plot_graphs(history, 'accuracy')\n",
    "plt.ylim(0, 1)\n",
    "plt.subplot(1, 2, 2)\n",
    "plot_graphs(history, 'loss')\n",
    "plt.ylim(0, None)"
   ]
  },
  {
   "cell_type": "code",
   "execution_count": 59,
   "metadata": {},
   "outputs": [],
   "source": []
  }
 ],
 "metadata": {
  "accelerator": "GPU",
  "colab": {
   "collapsed_sections": [],
   "name": "text_classification_rnn.ipynb",
   "provenance": [],
   "toc_visible": true
  },
  "kernelspec": {
   "display_name": "Python 3 (ipykernel)",
   "language": "python",
   "name": "python3"
  },
  "language_info": {
   "codemirror_mode": {
    "name": "ipython",
    "version": 3
   },
   "file_extension": ".py",
   "mimetype": "text/x-python",
   "name": "python",
   "nbconvert_exporter": "python",
   "pygments_lexer": "ipython3",
   "version": "3.9.6"
  }
 },
 "nbformat": 4,
 "nbformat_minor": 1
}