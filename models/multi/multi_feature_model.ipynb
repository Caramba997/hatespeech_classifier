{
 "cells": [
  {
   "cell_type": "code",
   "execution_count": 1,
   "metadata": {},
   "outputs": [],
   "source": [
    "import tensorflow as tf\n",
    "import matplotlib.pyplot as plt\n",
    "import pandas as pd\n",
    "import numpy as np\n",
    "from sklearn.model_selection import train_test_split"
   ]
  },
  {
   "cell_type": "markdown",
   "metadata": {},
   "source": [
    "### Datasets"
   ]
  },
  {
   "cell_type": "code",
   "execution_count": 2,
   "metadata": {},
   "outputs": [],
   "source": [
    "def load_data_arrays():\n",
    "    df_1 = pd.read_csv(\"../../datasets/1_preprocessed.csv\")\n",
    "    df_3 = pd.read_csv(\"../../datasets/3_preprocessed.csv\")\n",
    "    df_5 = pd.read_csv(\"../../datasets/5_preprocessed.csv\")\n",
    "    df_6 = pd.read_csv(\"../../datasets/6_preprocessed.csv\")\n",
    "    \n",
    "    df = df_1.append(df_3)\n",
    "    df = df.append(df_5)\n",
    "    df = df.append(df_6)\n",
    "\n",
    "    df = df[(df['is_hatespeech'] == 1)]\n",
    "    \n",
    "    train_df, test_df = train_test_split(df, test_size=0.2, random_state=42, shuffle=True, stratify=df[\"is_hatespeech\"])\n",
    "    \n",
    "    return train_df, test_df\n",
    "\n",
    "train_df, test_df = load_data_arrays()\n",
    "\n",
    "\n",
    "# Convert the test- and train-DataFrames to Tensorflow Datasets\n",
    "\n",
    "train_labels = np.eye(8)[train_df['class'].values]\n",
    "train_dataset = (\n",
    "    tf.data.Dataset.from_tensor_slices(\n",
    "        (\n",
    "            tf.cast(np.asarray(train_df['text'].values, dtype=str), tf.string),\n",
    "            tf.cast(train_labels, tf.int32)\n",
    "        )\n",
    "    )\n",
    ")\n",
    "\n",
    "test_labels = np.eye(8)[test_df['class'].values]\n",
    "test_dataset = (\n",
    "    tf.data.Dataset.from_tensor_slices(\n",
    "        (\n",
    "            tf.cast(np.asarray(test_df['text'].values, dtype=str), tf.string),\n",
    "            tf.cast(test_labels, tf.int32)\n",
    "        )\n",
    "    )\n",
    ")\n",
    "\n",
    "BUFFER_SIZE = 1000\n",
    "BATCH_SIZE = 64\n",
    "\n",
    "train_dataset = train_dataset.shuffle(BUFFER_SIZE).batch(BATCH_SIZE).prefetch(tf.data.AUTOTUNE)\n",
    "test_dataset = test_dataset.batch(BATCH_SIZE).prefetch(tf.data.AUTOTUNE)"
   ]
  },
  {
   "cell_type": "code",
   "execution_count": 3,
   "metadata": {},
   "outputs": [
    {
     "name": "stdout",
     "output_type": "stream",
     "text": [
      "<PrefetchDataset shapes: ((None,), (None, 8)), types: (tf.string, tf.int32)>\n",
      "[0. 0. 0. 0. 0. 0. 0. 1.]\n"
     ]
    }
   ],
   "source": [
    "print(train_dataset)\n",
    "print(train_labels[0])"
   ]
  },
  {
   "cell_type": "markdown",
   "metadata": {},
   "source": [
    "### Keywords feature"
   ]
  },
  {
   "cell_type": "code",
   "execution_count": 4,
   "metadata": {},
   "outputs": [],
   "source": [
    "df_kw = pd.read_csv(\"../../datasets/bad_words.csv\")\n",
    "kw_vocab = set()\n",
    "for idx, item in df_kw.iterrows():\n",
    "  kw_vocab.add(item[0])\n",
    "kw_vocab_len = len(kw_vocab) + 1\n",
    "kw_layer = tf.keras.layers.TextVectorization(vocabulary=list(kw_vocab))\n",
    "kw_layer.compile()"
   ]
  },
  {
   "cell_type": "markdown",
   "metadata": {},
   "source": [
    "### Encoder feature"
   ]
  },
  {
   "cell_type": "code",
   "execution_count": 5,
   "metadata": {},
   "outputs": [],
   "source": [
    "VOCAB_SIZE = 2000\n",
    "ec_layer = tf.keras.layers.TextVectorization(max_tokens=VOCAB_SIZE)\n",
    "ec_layer.adapt(train_dataset.map(lambda text, label: text))"
   ]
  },
  {
   "cell_type": "markdown",
   "metadata": {},
   "source": [
    "### Model"
   ]
  },
  {
   "cell_type": "code",
   "execution_count": 6,
   "metadata": {},
   "outputs": [
    {
     "name": "stdout",
     "output_type": "stream",
     "text": [
      "Epoch 1/5\n",
      "778/778 [==============================] - 351s 423ms/step - loss: 1.7870 - accuracy: 0.4499 - val_loss: 1.6221 - val_accuracy: 0.5500\n",
      "Epoch 2/5\n",
      "778/778 [==============================] - 324s 417ms/step - loss: 1.5991 - accuracy: 0.5217 - val_loss: 1.5163 - val_accuracy: 0.5328\n",
      "Epoch 3/5\n",
      "778/778 [==============================] - 330s 425ms/step - loss: 1.5151 - accuracy: 0.5224 - val_loss: 1.4311 - val_accuracy: 0.5578\n",
      "Epoch 4/5\n",
      "778/778 [==============================] - 332s 426ms/step - loss: 1.4451 - accuracy: 0.5269 - val_loss: 1.3418 - val_accuracy: 0.5531\n",
      "Epoch 5/5\n",
      "778/778 [==============================] - 328s 421ms/step - loss: 1.3527 - accuracy: 0.5262 - val_loss: 1.2726 - val_accuracy: 0.5531\n"
     ]
    }
   ],
   "source": [
    "import tensorflow.keras.layers as layers\n",
    "\n",
    "input_layer = layers.Input(shape=(1,), dtype=(tf.string))\n",
    "seq_layer = kw_layer(input_layer)\n",
    "seq_layer = layers.Embedding(input_dim=len(kw_layer.get_vocabulary()), output_dim=64, mask_zero=True)(seq_layer)\n",
    "seq_layer = layers.Bidirectional(tf.keras.layers.LSTM(64, return_sequences=True))(seq_layer)\n",
    "seq_layer = layers.Bidirectional(tf.keras.layers.LSTM(32))(seq_layer)\n",
    "seq_layer = layers.Dense(64, activation='relu')(seq_layer)\n",
    "seq_layer = layers.Dropout(0.5)(seq_layer)\n",
    "seq_layer = layers.Dense(8, activation='softmax')(seq_layer)\n",
    "seq2_layer = ec_layer(input_layer)\n",
    "seq2_layer = layers.Embedding(input_dim=len(ec_layer.get_vocabulary()), output_dim=64, mask_zero=True)(seq2_layer)\n",
    "seq2_layer = layers.Bidirectional(tf.keras.layers.LSTM(64, return_sequences=True))(seq2_layer)\n",
    "seq2_layer = layers.Bidirectional(tf.keras.layers.LSTM(32))(seq2_layer)\n",
    "seq2_layer = layers.Dense(64, activation='relu')(seq2_layer)\n",
    "seq2_layer = layers.Dropout(0.5)(seq2_layer)\n",
    "seq2_layer = layers.Dense(8, activation='softmax')(seq2_layer)\n",
    "concat_layer = layers.Concatenate(axis=1)([seq_layer, seq2_layer])\n",
    "output_layer = layers.Dense(8, activation='softmax')(concat_layer)\n",
    "\n",
    "model = tf.keras.Model(name=\"hatespeech_keywords\", inputs=input_layer, outputs=output_layer)\n",
    "model.compile(optimizer=tf.keras.optimizers.Adam(0.0001), loss=tf.keras.losses.CategoricalCrossentropy(), metrics=['accuracy'])\n",
    "history = model.fit(train_dataset, epochs=5, validation_data=test_dataset, validation_steps=10)"
   ]
  },
  {
   "cell_type": "code",
   "execution_count": 7,
   "metadata": {},
   "outputs": [
    {
     "name": "stdout",
     "output_type": "stream",
     "text": [
      "195/195 [==============================] - 35s 180ms/step - loss: 1.3235 - accuracy: 0.5290\n",
      "Test Loss: 1.3234697580337524\n",
      "Test Accuracy: 0.5290286540985107\n"
     ]
    }
   ],
   "source": [
    "test_loss, test_acc = model.evaluate(test_dataset)\n",
    "print('Test Loss:', test_loss)\n",
    "print('Test Accuracy:', test_acc)"
   ]
  },
  {
   "cell_type": "markdown",
   "metadata": {},
   "source": [
    "Plot the results"
   ]
  },
  {
   "cell_type": "code",
   "execution_count": 8,
   "metadata": {},
   "outputs": [
    {
     "data": {
      "text/plain": [
       "(0.0, 1.8127420783042907)"
      ]
     },
     "execution_count": 8,
     "metadata": {},
     "output_type": "execute_result"
    },
    {
     "data": {
      "image/png": "[encoded data removed]",
      "text/plain": [
       "<Figure size 1152x576 with 2 Axes>"
      ]
     },
     "metadata": {
      "needs_background": "light"
     },
     "output_type": "display_data"
    }
   ],
   "source": [
    "np.set_printoptions(precision=3, suppress=True)\n",
    "\n",
    "def plot_graphs(history, metric):\n",
    "  plt.plot(history.history[metric])\n",
    "  plt.plot(history.history['val_'+metric], '')\n",
    "  plt.xlabel(\"Epochs\")\n",
    "  plt.ylabel(metric)\n",
    "  plt.legend([metric, 'val_'+metric])\n",
    "\n",
    "plt.figure(figsize=(16, 8))\n",
    "plt.subplot(1, 2, 1)\n",
    "plot_graphs(history, 'accuracy')\n",
    "plt.ylim(None, 1)\n",
    "plt.subplot(1, 2, 2)\n",
    "plot_graphs(history, 'loss')\n",
    "plt.ylim(0, None)"
   ]
  },
  {
   "cell_type": "code",
   "execution_count": 14,
   "metadata": {},
   "outputs": [
    {
     "name": "stdout",
     "output_type": "stream",
     "text": [
      "[[0.341 0.077 0.027 0.052 0.029 0.032 0.311 0.131]\n",
      " [0.356 0.079 0.026 0.055 0.036 0.034 0.282 0.133]\n",
      " [0.342 0.077 0.027 0.051 0.029 0.032 0.312 0.131]\n",
      " [0.333 0.085 0.028 0.058 0.038 0.036 0.281 0.141]]\n"
     ]
    }
   ],
   "source": [
    "# predict on a sample text without padding.\n",
    "sample_text = ['You are such a stupid fucking whore',\n",
    "               'I would not recommend this movie.',\n",
    "               'You should stay in the kitchen with your emotions',\n",
    "               'You can leave nigger']\n",
    "predictions = model.predict(np.array(sample_text))\n",
    "print(predictions)"
   ]
  },
  {
   "cell_type": "markdown",
   "metadata": {},
   "source": [
    "(Optional) Save the model"
   ]
  },
  {
   "cell_type": "code",
   "execution_count": 10,
   "metadata": {},
   "outputs": [],
   "source": [
    "# model_two.save('saves/keywords')"
   ]
  }
 ],
 "metadata": {
  "interpreter": {
   "hash": "c9a9cabc42f5adcc0f3294cfdbbe9ffcb3a15664c9675865bec9473cb4197e8d"
  },
  "kernelspec": {
   "display_name": "Python 3.8.0 64-bit ('.venv2': venv)",
   "language": "python",
   "name": "python3"
  },
  "language_info": {
   "codemirror_mode": {
    "name": "ipython",
    "version": 3
   },
   "file_extension": ".py",
   "mimetype": "text/x-python",
   "name": "python",
   "nbconvert_exporter": "python",
   "pygments_lexer": "ipython3",
   "version": "3.8.0"
  },
  "orig_nbformat": 4
 },
 "nbformat": 4,
 "nbformat_minor": 2
}
