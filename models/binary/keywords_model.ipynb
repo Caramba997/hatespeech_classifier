{
 "cells": [
  {
   "cell_type": "code",
   "execution_count": 1,
   "metadata": {},
   "outputs": [],
   "source": [
    "import tensorflow as tf\n",
    "import matplotlib.pyplot as plt\n",
    "import pandas as pd\n",
    "import numpy as np\n",
    "from sklearn.model_selection import train_test_split"
   ]
  },
  {
   "cell_type": "markdown",
   "metadata": {},
   "source": [
    "### Datasets"
   ]
  },
  {
   "cell_type": "code",
   "execution_count": 2,
   "metadata": {},
   "outputs": [],
   "source": [
    "def load_data_arrays():\n",
    "    df_1 = pd.read_csv(\"../../datasets/1_no_stopwords.csv\")\n",
    "    df_3 = pd.read_csv(\"../../datasets/3_no_stopwords.csv\")\n",
    "    df_5 = pd.read_csv(\"../../datasets/5_no_stopwords.csv\")\n",
    "    df_6 = pd.read_csv(\"../../datasets/6_no_stopwords.csv\")\n",
    "    \n",
    "    df = df_1.append(df_3)\n",
    "    df = df.append(df_5)\n",
    "    df = df.append(df_6)\n",
    "    \n",
    "    train_df, test_df = train_test_split(df, test_size=0.2, random_state=42, shuffle=True, stratify=df[\"is_hatespeech\"])\n",
    "    \n",
    "    return train_df, test_df\n",
    "\n",
    "train_df, test_df = load_data_arrays()\n",
    "\n",
    "\n",
    "# Convert the test- and train-DataFrames to Tensorflow Datasets\n",
    "\n",
    "train_labels = np.eye(2)[train_df['is_hatespeech'].values]\n",
    "train_dataset = (\n",
    "    tf.data.Dataset.from_tensor_slices(\n",
    "        (\n",
    "            tf.cast(np.asarray(train_df['text'].values, dtype=str), tf.string),\n",
    "            tf.cast(train_labels, tf.int32)\n",
    "        )\n",
    "    )\n",
    ")\n",
    "\n",
    "test_labels = np.eye(2)[test_df['is_hatespeech'].values]\n",
    "test_dataset = (\n",
    "    tf.data.Dataset.from_tensor_slices(\n",
    "        (\n",
    "            tf.cast(np.asarray(test_df['text'].values, dtype=str), tf.string),\n",
    "            tf.cast(test_labels, tf.int32)\n",
    "        )\n",
    "    )\n",
    ")\n",
    "\n",
    "BUFFER_SIZE = 1000\n",
    "BATCH_SIZE = 64\n",
    "\n",
    "train_dataset = train_dataset.shuffle(BUFFER_SIZE).batch(BATCH_SIZE).prefetch(tf.data.AUTOTUNE)\n",
    "test_dataset = test_dataset.batch(BATCH_SIZE).prefetch(tf.data.AUTOTUNE)"
   ]
  },
  {
   "cell_type": "markdown",
   "metadata": {},
   "source": [
    "### Keywords feature"
   ]
  },
  {
   "cell_type": "code",
   "execution_count": 3,
   "metadata": {},
   "outputs": [],
   "source": [
    "df_kw = pd.read_csv(\"../../datasets/bad_words.csv\")\n",
    "kw_vocab = set()\n",
    "for idx, item in df_kw.iterrows():\n",
    "  kw_vocab.add(item[0])\n",
    "kw_vocab_len = len(kw_vocab) + 1\n",
    "kw_layer = tf.keras.layers.TextVectorization(vocabulary=list(kw_vocab))\n",
    "kw_layer.compile()"
   ]
  },
  {
   "cell_type": "markdown",
   "metadata": {},
   "source": [
    "### Model"
   ]
  },
  {
   "cell_type": "code",
   "execution_count": 4,
   "metadata": {},
   "outputs": [
    {
     "name": "stdout",
     "output_type": "stream",
     "text": [
      "Epoch 1/5\n"
     ]
    },
    {
     "name": "stderr",
     "output_type": "stream",
     "text": [
      "e:\\Projekte\\NLP\\Final Project\\hatespeech_classifier\\.venv2\\lib\\site-packages\\tensorflow\\python\\util\\dispatch.py:1096: UserWarning: \"`binary_crossentropy` received `from_logits=True`, but the `output` argument was produced by a sigmoid or softmax activation and thus does not represent logits. Was this intended?\"\n",
      "  return dispatch_target(*args, **kwargs)\n"
     ]
    },
    {
     "name": "stdout",
     "output_type": "stream",
     "text": [
      "2717/2717 [==============================] - 831s 304ms/step - loss: 0.3203 - accuracy: 0.8749 - val_loss: 0.2830 - val_accuracy: 0.8969\n",
      "Epoch 2/5\n",
      "2717/2717 [==============================] - 787s 289ms/step - loss: 0.2256 - accuracy: 0.9259 - val_loss: 0.2756 - val_accuracy: 0.9062\n",
      "Epoch 3/5\n",
      "2717/2717 [==============================] - 809s 298ms/step - loss: 0.2214 - accuracy: 0.9271 - val_loss: 0.2749 - val_accuracy: 0.9078\n",
      "Epoch 4/5\n",
      "2717/2717 [==============================] - 805s 296ms/step - loss: 0.2190 - accuracy: 0.9277 - val_loss: 0.2759 - val_accuracy: 0.9062\n",
      "Epoch 5/5\n",
      "2717/2717 [==============================] - 794s 292ms/step - loss: 0.2177 - accuracy: 0.9284 - val_loss: 0.2743 - val_accuracy: 0.9094\n"
     ]
    }
   ],
   "source": [
    "import tensorflow.keras.layers as layers\n",
    "\n",
    "input_layer = layers.Input(shape=(1,), dtype=(tf.string))\n",
    "seq_layer = kw_layer(input_layer)\n",
    "seq_layer = layers.Embedding(input_dim=len(kw_layer.get_vocabulary()), output_dim=64, mask_zero=True)(seq_layer)\n",
    "seq_layer = layers.Bidirectional(tf.keras.layers.LSTM(64))(seq_layer)\n",
    "seq_layer = layers.Dense(64, activation='relu')(seq_layer)\n",
    "output_layer = layers.Dense(2, activation='softmax')(seq_layer)\n",
    "\n",
    "model = tf.keras.Model(name=\"hatespeech_keywords\", inputs=input_layer, outputs=output_layer)\n",
    "model.compile(optimizer=tf.keras.optimizers.Adam(0.0001), loss=tf.keras.losses.BinaryCrossentropy(from_logits=True), metrics=['accuracy'])\n",
    "history = model.fit(train_dataset, epochs=5, validation_data=test_dataset, validation_steps=10)"
   ]
  },
  {
   "cell_type": "code",
   "execution_count": 5,
   "metadata": {},
   "outputs": [
    {
     "name": "stdout",
     "output_type": "stream",
     "text": [
      "680/680 [==============================] - 39s 57ms/step - loss: 0.2258 - accuracy: 0.9265\n",
      "Test Loss: 0.22575470805168152\n",
      "Test Accuracy: 0.9265088438987732\n"
     ]
    }
   ],
   "source": [
    "test_loss, test_acc = model.evaluate(test_dataset)\n",
    "print('Test Loss:', test_loss)\n",
    "print('Test Accuracy:', test_acc)"
   ]
  },
  {
   "cell_type": "markdown",
   "metadata": {},
   "source": [
    "Plot the results"
   ]
  },
  {
   "cell_type": "code",
   "execution_count": 6,
   "metadata": {},
   "outputs": [
    {
     "data": {
      "text/plain": [
       "(0.0, 0.32544929459691047)"
      ]
     },
     "execution_count": 6,
     "metadata": {},
     "output_type": "execute_result"
    },
    {
     "data": {
      "image/png": "[encoded data removed]",
      "text/plain": [
       "<Figure size 1152x576 with 2 Axes>"
      ]
     },
     "metadata": {
      "needs_background": "light"
     },
     "output_type": "display_data"
    }
   ],
   "source": [
    "np.set_printoptions(precision=3, suppress=True)\n",
    "\n",
    "def plot_graphs(history, metric):\n",
    "  plt.plot(history.history[metric])\n",
    "  plt.plot(history.history['val_'+metric], '')\n",
    "  plt.xlabel(\"Epochs\")\n",
    "  plt.ylabel(metric)\n",
    "  plt.legend([metric, 'val_'+metric])\n",
    "\n",
    "plt.figure(figsize=(16, 8))\n",
    "plt.subplot(1, 2, 1)\n",
    "plot_graphs(history, 'accuracy')\n",
    "plt.ylim(None, 1)\n",
    "plt.subplot(1, 2, 2)\n",
    "plot_graphs(history, 'loss')\n",
    "plt.ylim(0, None)"
   ]
  },
  {
   "cell_type": "code",
   "execution_count": 7,
   "metadata": {},
   "outputs": [
    {
     "name": "stdout",
     "output_type": "stream",
     "text": [
      "               precision    recall  f1-score   support\n",
      "\n",
      "no hatespeech       0.93      0.97      0.95     31026\n",
      "   hatespeech       0.92      0.82      0.86     12435\n",
      "\n",
      "     accuracy                           0.93     43461\n",
      "    macro avg       0.92      0.89      0.91     43461\n",
      " weighted avg       0.93      0.93      0.93     43461\n",
      "\n"
     ]
    },
    {
     "data": {
      "image/png": "[encoded data removed]",
      "text/plain": [
       "<Figure size 720x504 with 2 Axes>"
      ]
     },
     "metadata": {
      "needs_background": "light"
     },
     "output_type": "display_data"
    }
   ],
   "source": [
    "from sklearn.metrics import classification_report\n",
    "import seaborn as sn\n",
    "\n",
    "pred = model.predict(test_dataset)\n",
    "test_data_labels = np.concatenate([y for x, y in test_dataset], axis=0)\n",
    "\n",
    "print(classification_report(test_data_labels.argmax(axis=1),\n",
    "                            pred.argmax(axis=1),\n",
    "                            target_names=['no hatespeech', 'hatespeech']))\n",
    "\n",
    "def plot_confusion_matrix(labels, pred, index, columns):\n",
    "    conf = tf.math.confusion_matrix(labels=[np.argmax(val) for val in labels],\n",
    "                                    predictions=[np.argmax(val) for val in pred])\n",
    "\n",
    "    df_cm = pd.DataFrame(conf.numpy(), index=index, columns=columns)\n",
    "\n",
    "    plt.figure(figsize=(10, 7))\n",
    "    plt.tick_params(axis='both', which='major', labelsize=14, labelbottom=False, bottom=False, top=False,\n",
    "                    labeltop=True)\n",
    "    sn.heatmap(df_cm, annot=True, cmap='Blues', fmt='g')\n",
    "    plt.show()\n",
    "\n",
    "plot_confusion_matrix(labels=test_data_labels,\n",
    "                      pred=pred,\n",
    "                      index=['no hatespeech', 'hatespeech'],\n",
    "                      columns=['no hatespeech', 'hatespeech'])"
   ]
  },
  {
   "cell_type": "code",
   "execution_count": 8,
   "metadata": {},
   "outputs": [
    {
     "name": "stdout",
     "output_type": "stream",
     "text": [
      "[[0.    1.   ]\n",
      " [0.978 0.022]]\n"
     ]
    }
   ],
   "source": [
    "# predict on a sample text without padding.\n",
    "sample_text = ['You are such a stupid fucking whore',\n",
    "               'I would not recommend this movie.']\n",
    "predictions = model.predict(np.array(sample_text))\n",
    "print(predictions)"
   ]
  },
  {
   "cell_type": "markdown",
   "metadata": {},
   "source": [
    "(Optional) Save the model"
   ]
  },
  {
   "cell_type": "code",
   "execution_count": 9,
   "metadata": {},
   "outputs": [],
   "source": [
    "# model_two.save('saves/keywords')"
   ]
  }
 ],
 "metadata": {
  "interpreter": {
   "hash": "c9a9cabc42f5adcc0f3294cfdbbe9ffcb3a15664c9675865bec9473cb4197e8d"
  },
  "kernelspec": {
   "display_name": "Python 3.8.0 64-bit ('.venv2': venv)",
   "language": "python",
   "name": "python3"
  },
  "language_info": {
   "codemirror_mode": {
    "name": "ipython",
    "version": 3
   },
   "file_extension": ".py",
   "mimetype": "text/x-python",
   "name": "python",
   "nbconvert_exporter": "python",
   "pygments_lexer": "ipython3",
   "version": "3.8.0"
  },
  "orig_nbformat": 4
 },
 "nbformat": 4,
 "nbformat_minor": 2
}
