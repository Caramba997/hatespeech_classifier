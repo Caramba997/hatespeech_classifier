{
 "cells": [
  {
   "cell_type": "markdown",
   "metadata": {},
   "source": [
    "# Dataset\n",
    "This notebook shows information about the used dataset"
   ]
  },
  {
   "cell_type": "markdown",
   "metadata": {},
   "source": [
    "### Setup"
   ]
  },
  {
   "cell_type": "code",
   "execution_count": 1,
   "metadata": {},
   "outputs": [],
   "source": [
    "import numpy as np\n",
    "import matplotlib.pyplot as plt\n",
    "\n",
    "import tensorflow_datasets as tfds\n",
    "\n",
    "import pandas as pd\n",
    "from sklearn.model_selection import train_test_split\n",
    "\n",
    "tfds.disable_progress_bar()\n",
    "np.set_printoptions(precision=3, suppress=True)\n",
    "\n",
    "def plot_graphs(history, metric):\n",
    "  plt.plot(history.history[metric])\n",
    "  plt.plot(history.history['val_'+metric], '')\n",
    "  plt.xlabel(\"Epochs\")\n",
    "  plt.ylabel(metric)\n",
    "  plt.legend([metric, 'val_'+metric])"
   ]
  },
  {
   "cell_type": "markdown",
   "metadata": {},
   "source": [
    "Load datasets"
   ]
  },
  {
   "cell_type": "code",
   "execution_count": 2,
   "metadata": {},
   "outputs": [],
   "source": [
    "def load_data_arrays():\n",
    "  df_1 = pd.read_csv(\"../../datasets/1_no_stopwords.csv\")\n",
    "  df_3 = pd.read_csv(\"../../datasets/3_no_stopwords.csv\")\n",
    "  df_5 = pd.read_csv(\"../../datasets/5_no_stopwords.csv\")\n",
    "  df_6 = pd.read_csv(\"../../datasets/6_no_stopwords.csv\")\n",
    "\n",
    "  df = df_1.append(df_3)\n",
    "  df = df.append(df_5)\n",
    "  df = df.append(df_6)\n",
    "\n",
    "  train_df, test_df = train_test_split(df, test_size=0.2, random_state=42, shuffle=True, stratify=df[\"is_hatespeech\"])\n",
    "\n",
    "  return train_df, test_df\n",
    "\n",
    "train_df, test_df = load_data_arrays()"
   ]
  },
  {
   "cell_type": "markdown",
   "metadata": {},
   "source": [
    "Plot data distribution"
   ]
  },
  {
   "cell_type": "code",
   "execution_count": 3,
   "metadata": {},
   "outputs": [
    {
     "name": "stdout",
     "output_type": "stream",
     "text": [
      "[155127, 62177]\n"
     ]
    },
    {
     "data": {
      "image/png": "[encoded data removed]",
      "text/plain": [
       "<Figure size 432x288 with 1 Axes>"
      ]
     },
     "metadata": {
      "needs_background": "light"
     },
     "output_type": "display_data"
    },
    {
     "data": {
      "text/plain": [
       "<Figure size 1152x432 with 0 Axes>"
      ]
     },
     "metadata": {},
     "output_type": "display_data"
    }
   ],
   "source": [
    "def plot_data_distribution(labels_1, label_2):\n",
    "    total = labels_1.reshape(-1).tolist()\n",
    "    total.extend(label_2.reshape(-1).tolist())\n",
    "    bins = sorted(list(set(total)))\n",
    "\n",
    "    plt.bar(bins, [total.count(bin_val) for bin_val in bins])\n",
    "    print([total.count(bin_val) for bin_val in bins])\n",
    "    plt.xticks(bins,\n",
    "                [\"No Hatespeech\", \"Hatespeech\"],\n",
    "                rotation=45,\n",
    "                rotation_mode=\"anchor\",\n",
    "                ha=\"right\")\n",
    "\n",
    "    plt.subplots_adjust(bottom=0.3)\n",
    "    plt.figure(figsize=(16, 6))\n",
    "    plt.show()\n",
    "\n",
    "    \n",
    "plot_data_distribution(train_df['is_hatespeech'].values, test_df['is_hatespeech'].values)"
   ]
  }
 ],
 "metadata": {
  "interpreter": {
   "hash": "c9a9cabc42f5adcc0f3294cfdbbe9ffcb3a15664c9675865bec9473cb4197e8d"
  },
  "kernelspec": {
   "display_name": "Python 3.8.0 64-bit ('.venv2': venv)",
   "language": "python",
   "name": "python3"
  },
  "language_info": {
   "codemirror_mode": {
    "name": "ipython",
    "version": 3
   },
   "file_extension": ".py",
   "mimetype": "text/x-python",
   "name": "python",
   "nbconvert_exporter": "python",
   "pygments_lexer": "ipython3",
   "version": "3.8.0"
  },
  "orig_nbformat": 4
 },
 "nbformat": 4,
 "nbformat_minor": 2
}
