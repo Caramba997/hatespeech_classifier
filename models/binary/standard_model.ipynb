{
 "cells": [
  {
   "cell_type": "markdown",
   "metadata": {},
   "source": [
    "# Simple binary classifier\n",
    "This notebook shows a simple model inspired by the Tensorflow tutorial"
   ]
  },
  {
   "cell_type": "markdown",
   "metadata": {},
   "source": [
    "### Setup"
   ]
  },
  {
   "cell_type": "code",
   "execution_count": 1,
   "metadata": {},
   "outputs": [],
   "source": [
    "import numpy as np\n",
    "import matplotlib.pyplot as plt\n",
    "\n",
    "import tensorflow_datasets as tfds\n",
    "import tensorflow as tf\n",
    "\n",
    "import pandas as pd\n",
    "from sklearn.model_selection import train_test_split\n",
    "\n",
    "tfds.disable_progress_bar()"
   ]
  },
  {
   "cell_type": "markdown",
   "metadata": {},
   "source": [
    "## Dataset\n",
    "Load datasets"
   ]
  },
  {
   "cell_type": "code",
   "execution_count": 2,
   "metadata": {},
   "outputs": [],
   "source": [
    "def load_data_arrays():\n",
    "  df_1 = pd.read_csv(\"../../datasets/1_no_stopwords.csv\")\n",
    "  df_3 = pd.read_csv(\"../../datasets/3_no_stopwords.csv\")\n",
    "  df_5 = pd.read_csv(\"../../datasets/5_no_stopwords.csv\")\n",
    "  df_6 = pd.read_csv(\"../../datasets/6_no_stopwords.csv\")\n",
    "\n",
    "  df = df_1.append(df_3)\n",
    "  df = df.append(df_5)\n",
    "  df = df.append(df_6)\n",
    "\n",
    "  train_df, test_df = train_test_split(df, test_size=0.2, random_state=42, shuffle=True, stratify=df[\"is_hatespeech\"])\n",
    "\n",
    "  return train_df, test_df\n",
    "\n",
    "train_df, test_df = load_data_arrays()"
   ]
  },
  {
   "cell_type": "markdown",
   "metadata": {},
   "source": [
    "Convert train and test datasets to Tensorflow datasets"
   ]
  },
  {
   "cell_type": "code",
   "execution_count": 3,
   "metadata": {},
   "outputs": [],
   "source": [
    "train_labels = np.eye(2)[train_df['is_hatespeech'].values]\n",
    "train_dataset = (\n",
    "  tf.data.Dataset.from_tensor_slices(\n",
    "    (\n",
    "      tf.cast(np.asarray(train_df['text'].values, dtype=str), tf.string),\n",
    "      tf.cast(train_labels, tf.int32)\n",
    "    )\n",
    "  )\n",
    ")\n",
    "\n",
    "test_labels = np.eye(2)[test_df['is_hatespeech'].values]\n",
    "test_dataset = (\n",
    "  tf.data.Dataset.from_tensor_slices(\n",
    "    (\n",
    "      tf.cast(np.asarray(test_df['text'].values, dtype=str), tf.string),\n",
    "      tf.cast(test_labels, tf.int32)\n",
    "    )\n",
    "  )\n",
    ")"
   ]
  },
  {
   "cell_type": "markdown",
   "metadata": {},
   "source": [
    "Shuffle training data and create batches of (text, label) pairs"
   ]
  },
  {
   "cell_type": "code",
   "execution_count": 4,
   "metadata": {},
   "outputs": [],
   "source": [
    "BUFFER_SIZE = 1000\n",
    "BATCH_SIZE = 64\n",
    "\n",
    "train_dataset = train_dataset.shuffle(BUFFER_SIZE).batch(BATCH_SIZE).prefetch(tf.data.AUTOTUNE)\n",
    "test_dataset = test_dataset.batch(BATCH_SIZE).prefetch(tf.data.AUTOTUNE)"
   ]
  },
  {
   "cell_type": "markdown",
   "metadata": {},
   "source": [
    "## Model\n",
    "### Create the text encoder\n",
    "We create a text encoder using text vectorization. We define a vocabulary size of 1000 words and let Tensorflow create the vocabulary for this layer by adapting it to our dataset."
   ]
  },
  {
   "cell_type": "code",
   "execution_count": 5,
   "metadata": {},
   "outputs": [],
   "source": [
    "VOCAB_SIZE = 1000\n",
    "\n",
    "encoder = tf.keras.layers.TextVectorization(max_tokens=VOCAB_SIZE)\n",
    "encoder.adapt(train_dataset.map(lambda text, label: text))"
   ]
  },
  {
   "cell_type": "markdown",
   "metadata": {},
   "source": [
    "## Create the model\n",
    "We create a RNN model with different layers and let them process sequentially (because we have single input and output). At first, we create a numerical representation of the text using our encoder, which is transformed to an embedding. We then dense the output in 2 steps."
   ]
  },
  {
   "cell_type": "code",
   "execution_count": 6,
   "metadata": {},
   "outputs": [
    {
     "name": "stdout",
     "output_type": "stream",
     "text": [
      "Model: \"sequential\"\n",
      "_________________________________________________________________\n",
      " Layer (type)                Output Shape              Param #   \n",
      "=================================================================\n",
      " text_vectorization (TextVec  (None, None)             0         \n",
      " torization)                                                     \n",
      "                                                                 \n",
      " embedding (Embedding)       (None, None, 64)          64000     \n",
      "                                                                 \n",
      " bidirectional (Bidirectiona  (None, 128)              66048     \n",
      " l)                                                              \n",
      "                                                                 \n",
      " dense (Dense)               (None, 64)                8256      \n",
      "                                                                 \n",
      " dense_1 (Dense)             (None, 2)                 130       \n",
      "                                                                 \n",
      "=================================================================\n",
      "Total params: 138,434\n",
      "Trainable params: 138,434\n",
      "Non-trainable params: 0\n",
      "_________________________________________________________________\n",
      "None\n"
     ]
    }
   ],
   "source": [
    "model = tf.keras.Sequential([\n",
    "    encoder,\n",
    "    tf.keras.layers.Embedding(\n",
    "        input_dim=len(encoder.get_vocabulary()),\n",
    "        output_dim=64,\n",
    "        mask_zero=True),\n",
    "    tf.keras.layers.Bidirectional(tf.keras.layers.LSTM(64)),\n",
    "    tf.keras.layers.Dense(64, activation='relu'),\n",
    "    tf.keras.layers.Dense(2, activation='softmax')\n",
    "])\n",
    "\n",
    "print(model.summary())"
   ]
  },
  {
   "cell_type": "markdown",
   "metadata": {},
   "source": [
    "### Compile the model\n",
    "For the loss function we use binary cross entropy, since we have a binary classifier. We use a little learning rate of 0.01% in this first model, because it gives some good results."
   ]
  },
  {
   "cell_type": "code",
   "execution_count": 7,
   "metadata": {},
   "outputs": [],
   "source": [
    "model.compile(loss=tf.keras.losses.BinaryCrossentropy(),\n",
    "              optimizer=tf.keras.optimizers.Adam(0.0001),\n",
    "              metrics=['accuracy'])"
   ]
  },
  {
   "cell_type": "markdown",
   "metadata": {},
   "source": [
    "### Train the model\n",
    "We train the compiled model in 5 epochs. More epochs are not necessary because of decreasing improvements."
   ]
  },
  {
   "cell_type": "code",
   "execution_count": 8,
   "metadata": {},
   "outputs": [
    {
     "name": "stdout",
     "output_type": "stream",
     "text": [
      "Epoch 1/5\n",
      "2717/2717 [==============================] - 202s 72ms/step - loss: 0.2813 - accuracy: 0.8829 - val_loss: 0.2625 - val_accuracy: 0.8953\n",
      "Epoch 2/5\n",
      "2717/2717 [==============================] - 195s 72ms/step - loss: 0.2062 - accuracy: 0.9187 - val_loss: 0.2459 - val_accuracy: 0.8984\n",
      "Epoch 3/5\n",
      "2717/2717 [==============================] - 196s 72ms/step - loss: 0.2020 - accuracy: 0.9198 - val_loss: 0.2477 - val_accuracy: 0.8953\n",
      "Epoch 4/5\n",
      "2717/2717 [==============================] - 201s 74ms/step - loss: 0.1996 - accuracy: 0.9199 - val_loss: 0.2446 - val_accuracy: 0.8953\n",
      "Epoch 5/5\n",
      "2717/2717 [==============================] - 187s 69ms/step - loss: 0.1977 - accuracy: 0.9205 - val_loss: 0.2446 - val_accuracy: 0.8953\n"
     ]
    }
   ],
   "source": [
    "history = model.fit(train_dataset, epochs=5,\n",
    "                    validation_data=test_dataset,\n",
    "                    validation_steps=10)"
   ]
  },
  {
   "cell_type": "markdown",
   "metadata": {},
   "source": [
    "### Test the model\n",
    "We use our test dataset to verify the accuracy of our model."
   ]
  },
  {
   "cell_type": "code",
   "execution_count": 9,
   "metadata": {},
   "outputs": [
    {
     "name": "stdout",
     "output_type": "stream",
     "text": [
      "680/680 [==============================] - 18s 26ms/step - loss: 0.2095 - accuracy: 0.9159\n",
      "Test Loss: 0.2095056027173996\n",
      "Test Accuracy: 0.9159016013145447\n"
     ]
    }
   ],
   "source": [
    "test_loss, test_acc = model.evaluate(test_dataset)\n",
    "\n",
    "print('Test Loss:', test_loss)\n",
    "print('Test Accuracy:', test_acc)"
   ]
  },
  {
   "cell_type": "markdown",
   "metadata": {},
   "source": [
    "Plot the results"
   ]
  },
  {
   "cell_type": "code",
   "execution_count": 10,
   "metadata": {},
   "outputs": [
    {
     "data": {
      "text/plain": [
       "(0.0, 0.2855002447962761)"
      ]
     },
     "execution_count": 10,
     "metadata": {},
     "output_type": "execute_result"
    },
    {
     "data": {
      "image/png": "[encoded data removed]",
      "text/plain": [
       "<Figure size 1152x576 with 2 Axes>"
      ]
     },
     "metadata": {
      "needs_background": "light"
     },
     "output_type": "display_data"
    }
   ],
   "source": [
    "np.set_printoptions(precision=3, suppress=True)\n",
    "\n",
    "def plot_graphs(history, metric):\n",
    "  plt.plot(history.history[metric])\n",
    "  plt.plot(history.history['val_'+metric], '')\n",
    "  plt.xlabel(\"Epochs\")\n",
    "  plt.ylabel(metric)\n",
    "  plt.legend([metric, 'val_'+metric])\n",
    "\n",
    "plt.figure(figsize=(16, 8))\n",
    "plt.subplot(1, 2, 1)\n",
    "plot_graphs(history, 'accuracy')\n",
    "plt.ylim(None, 1)\n",
    "plt.subplot(1, 2, 2)\n",
    "plot_graphs(history, 'loss')\n",
    "plt.ylim(0, None)"
   ]
  },
  {
   "cell_type": "code",
   "execution_count": 45,
   "metadata": {},
   "outputs": [
    {
     "name": "stdout",
     "output_type": "stream",
     "text": [
      "               precision    recall  f1-score   support\n",
      "\n",
      "no_hatespeech       0.92      0.97      0.94     31026\n",
      "   hatespeech       0.91      0.79      0.85     12435\n",
      "\n",
      "     accuracy                           0.92     43461\n",
      "    macro avg       0.92      0.88      0.90     43461\n",
      " weighted avg       0.92      0.92      0.92     43461\n",
      "\n"
     ]
    },
    {
     "data": {
      "image/png": "[encoded data removed]",
      "text/plain": [
       "<Figure size 720x504 with 2 Axes>"
      ]
     },
     "metadata": {
      "needs_background": "light"
     },
     "output_type": "display_data"
    }
   ],
   "source": [
    "from sklearn.metrics import classification_report\n",
    "import seaborn as sn\n",
    "\n",
    "pred = model.predict(test_dataset)\n",
    "test_data_labels = np.concatenate([y for x, y in test_dataset], axis=0)\n",
    "\n",
    "print(classification_report(test_data_labels.argmax(axis=1),\n",
    "                            pred.argmax(axis=1),\n",
    "                            target_names=['no hatespeech', 'hatespeech']))\n",
    "\n",
    "def plot_confusion_matrix(labels, pred, index, columns):\n",
    "    conf = tf.math.confusion_matrix(labels=[np.argmax(val) for val in labels],\n",
    "                                    predictions=[np.argmax(val) for val in pred])\n",
    "\n",
    "    df_cm = pd.DataFrame(conf.numpy(), index=index, columns=columns)\n",
    "\n",
    "    plt.figure(figsize=(10, 7))\n",
    "    plt.tick_params(axis='both', which='major', labelsize=14, labelbottom=False, bottom=False, top=False,\n",
    "                    labeltop=True)\n",
    "    sn.heatmap(df_cm, annot=True, cmap='Blues', fmt='g')\n",
    "    plt.show()\n",
    "\n",
    "plot_confusion_matrix(labels=test_data_labels,\n",
    "                      pred=pred,\n",
    "                      index=['no hatespeech', 'hatespeech'],\n",
    "                      columns=['no hatespeech', 'hatespeech'])"
   ]
  },
  {
   "cell_type": "markdown",
   "metadata": {},
   "source": [
    "Do a prediction to exemplary check the model. Results have the format [<probability_no_hate_speech>,<probability_hate_speech>]"
   ]
  },
  {
   "cell_type": "code",
   "execution_count": 11,
   "metadata": {},
   "outputs": [
    {
     "name": "stdout",
     "output_type": "stream",
     "text": [
      "[[0.883 0.117]\n",
      " [0.    1.   ]]\n"
     ]
    }
   ],
   "source": [
    "sample_text = ['That was very nice of you to say', 'You stupid fucking bitch']\n",
    "predictions = model.predict(np.array(sample_text))\n",
    "print(predictions)"
   ]
  },
  {
   "cell_type": "markdown",
   "metadata": {},
   "source": [
    "(Optional) Save the model for further usage"
   ]
  },
  {
   "cell_type": "code",
   "execution_count": 12,
   "metadata": {},
   "outputs": [],
   "source": [
    "# model.save('saves/rnn_one', save_format='tf')"
   ]
  },
  {
   "cell_type": "markdown",
   "metadata": {},
   "source": [
    "## Model with 2 RNN layers\n",
    "Try to improve the models accuracy by adding an additional RNN layer."
   ]
  },
  {
   "cell_type": "code",
   "execution_count": 13,
   "metadata": {},
   "outputs": [
    {
     "name": "stdout",
     "output_type": "stream",
     "text": [
      "Model: \"sequential_1\"\n",
      "_________________________________________________________________\n",
      " Layer (type)                Output Shape              Param #   \n",
      "=================================================================\n",
      " text_vectorization (TextVec  (None, None)             0         \n",
      " torization)                                                     \n",
      "                                                                 \n",
      " embedding_1 (Embedding)     (None, None, 64)          64000     \n",
      "                                                                 \n",
      " bidirectional_1 (Bidirectio  (None, None, 128)        66048     \n",
      " nal)                                                            \n",
      "                                                                 \n",
      " bidirectional_2 (Bidirectio  (None, 64)               41216     \n",
      " nal)                                                            \n",
      "                                                                 \n",
      " dense_2 (Dense)             (None, 64)                4160      \n",
      "                                                                 \n",
      " dropout (Dropout)           (None, 64)                0         \n",
      "                                                                 \n",
      " dense_3 (Dense)             (None, 2)                 130       \n",
      "                                                                 \n",
      "=================================================================\n",
      "Total params: 175,554\n",
      "Trainable params: 175,554\n",
      "Non-trainable params: 0\n",
      "_________________________________________________________________\n",
      "None\n"
     ]
    }
   ],
   "source": [
    "model_two = tf.keras.Sequential([\n",
    "    encoder,\n",
    "    tf.keras.layers.Embedding(len(encoder.get_vocabulary()), 64, mask_zero=True),\n",
    "    tf.keras.layers.Bidirectional(tf.keras.layers.LSTM(64,  return_sequences=True)),\n",
    "    tf.keras.layers.Bidirectional(tf.keras.layers.LSTM(32)),\n",
    "    tf.keras.layers.Dense(64, activation='relu'),\n",
    "    tf.keras.layers.Dropout(0.5),\n",
    "    tf.keras.layers.Dense(2, activation='softmax')\n",
    "])\n",
    "\n",
    "print(model_two.summary())"
   ]
  },
  {
   "cell_type": "markdown",
   "metadata": {},
   "source": [
    "Compile and train the model with the same parameters as before"
   ]
  },
  {
   "cell_type": "code",
   "execution_count": 14,
   "metadata": {},
   "outputs": [
    {
     "name": "stdout",
     "output_type": "stream",
     "text": [
      "Epoch 1/5\n",
      "2717/2717 [==============================] - 378s 135ms/step - loss: 0.2822 - accuracy: 0.8885 - val_loss: 0.2578 - val_accuracy: 0.8969\n",
      "Epoch 2/5\n",
      "2717/2717 [==============================] - 339s 125ms/step - loss: 0.2118 - accuracy: 0.9189 - val_loss: 0.2539 - val_accuracy: 0.8953\n",
      "Epoch 3/5\n",
      "2717/2717 [==============================] - 389s 143ms/step - loss: 0.2068 - accuracy: 0.9194 - val_loss: 0.2490 - val_accuracy: 0.8953\n",
      "Epoch 4/5\n",
      "2717/2717 [==============================] - 372s 137ms/step - loss: 0.2035 - accuracy: 0.9204 - val_loss: 0.2453 - val_accuracy: 0.8953\n",
      "Epoch 5/5\n",
      "2717/2717 [==============================] - 386s 142ms/step - loss: 0.2012 - accuracy: 0.9205 - val_loss: 0.2480 - val_accuracy: 0.8984\n"
     ]
    }
   ],
   "source": [
    "model_two.compile(loss=tf.keras.losses.BinaryCrossentropy(),\n",
    "              optimizer=tf.keras.optimizers.Adam(0.0001),\n",
    "              metrics=['accuracy'])\n",
    "\n",
    "history_two = model_two.fit(train_dataset, epochs=5,\n",
    "                    validation_data=test_dataset,\n",
    "                    validation_steps=10)"
   ]
  },
  {
   "cell_type": "markdown",
   "metadata": {},
   "source": [
    "Test the model"
   ]
  },
  {
   "cell_type": "code",
   "execution_count": 15,
   "metadata": {},
   "outputs": [
    {
     "name": "stdout",
     "output_type": "stream",
     "text": [
      "680/680 [==============================] - 38s 55ms/step - loss: 0.2144 - accuracy: 0.9141\n",
      "Test Loss: 0.21441778540611267\n",
      "Test Accuracy: 0.9140608906745911\n"
     ]
    }
   ],
   "source": [
    "test_loss, test_acc = model_two.evaluate(test_dataset)\n",
    "\n",
    "print('Test Loss:', test_loss)\n",
    "print('Test Accuracy:', test_acc)"
   ]
  },
  {
   "cell_type": "code",
   "execution_count": 16,
   "metadata": {},
   "outputs": [
    {
     "data": {
      "image/png": "[encoded data removed]",
      "text/plain": [
       "<Figure size 1152x432 with 2 Axes>"
      ]
     },
     "metadata": {
      "needs_background": "light"
     },
     "output_type": "display_data"
    }
   ],
   "source": [
    "plt.figure(figsize=(16, 6))\n",
    "plt.subplot(1, 2, 1)\n",
    "plot_graphs(history_two, 'accuracy')\n",
    "plt.subplot(1, 2, 2)\n",
    "plot_graphs(history_two, 'loss')"
   ]
  },
  {
   "cell_type": "markdown",
   "metadata": {},
   "source": [
    "(Optional) Save the improved model"
   ]
  },
  {
   "cell_type": "code",
   "execution_count": 17,
   "metadata": {},
   "outputs": [],
   "source": [
    "# model_two.save('saves/rnn_two')"
   ]
  }
 ],
 "metadata": {
  "interpreter": {
   "hash": "c9a9cabc42f5adcc0f3294cfdbbe9ffcb3a15664c9675865bec9473cb4197e8d"
  },
  "kernelspec": {
   "display_name": "Python 3.8.0 64-bit ('.venv2': venv)",
   "language": "python",
   "name": "python3"
  },
  "language_info": {
   "codemirror_mode": {
    "name": "ipython",
    "version": 3
   },
   "file_extension": ".py",
   "mimetype": "text/x-python",
   "name": "python",
   "nbconvert_exporter": "python",
   "pygments_lexer": "ipython3",
   "version": "3.8.0"
  },
  "orig_nbformat": 4
 },
 "nbformat": 4,
 "nbformat_minor": 2
}
